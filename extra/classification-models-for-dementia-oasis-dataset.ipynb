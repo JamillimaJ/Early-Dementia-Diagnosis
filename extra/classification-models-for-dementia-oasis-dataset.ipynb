{
 "cells": [
  {
   "cell_type": "markdown",
   "id": "667ebae2",
   "metadata": {
    "papermill": {
     "duration": 0.020865,
     "end_time": "2024-08-28T20:09:59.629652",
     "exception": false,
     "start_time": "2024-08-28T20:09:59.608787",
     "status": "completed"
    },
    "tags": []
   },
   "source": [
    "# A Study with Open Access Series of Imaging Studies (OASIS) Longitudinal dataset: Evaluating the performance of Machine Learning models in Classifying 'Demented' and 'Non-Demented' Subjects\n",
    "\n",
    "Dementia, a syndrome characterized by cognitive impairment and memory loss, presents a significant public health challenge worldwide. Early and accurate diagnosis of dementia is crucial for effective treatment and intervention. Machine learning has been regarded as one of the way to hasten and support diagnosis. This study leverages on available **longitudinal** OASIS dataset found on Kaggle, thanks to Jacob Boysen, and evaluates the performance of 3 popular machine learning models, Random Forest, Multi-layer Perceptron (MLP), and XGBoost before and after hyperparameter, in a binary classification task: whether a subject has dementia or not.\n"
   ]
  },
  {
   "cell_type": "markdown",
   "id": "7efbe032",
   "metadata": {
    "papermill": {
     "duration": 0.020363,
     "end_time": "2024-08-28T20:09:59.669463",
     "exception": false,
     "start_time": "2024-08-28T20:09:59.649100",
     "status": "completed"
    },
    "tags": []
   },
   "source": [
    "## Variable Description\n",
    "1. Subject ID - Subject Identification (i.e. OAS2_0001)\n",
    "2. MRI ID - MRI Exam Identification (i.e. OAS2_0001_MR1)\n",
    "3. Group - Class (i.e. Demented, Nondemented)\n",
    "4. Visit - Number of visits (i.e. 1-5)\n",
    "5. MR Delay - Number of days of delay between visits (i.e. 0-2639)\n",
    "6. M/F - Gender (i.e. M, F)\n",
    "7. Hand - Right or Left-Handed (i.e. R)\n",
    "8. Age - Age at time of image acquisition (years). (i.e. 60-98)\n",
    "9. EDUC - Years of education (i.e. 6-23)\n",
    "10. SES - Socioeconomic status as assessed by the Hollingshead Index of Social Position and classified into categories from 1 (highest status) to 5 (lowest status) (i.e. 1-5)\n",
    "11. MMSE - Mini-Mental State Examination (i.e. 4-30)\n",
    "12. CDR - Clinical Dementia Rating (i.e. 0-2)\n",
    "13. eTIV - Estimated total intracranial volume (cm^3) (i.e. 1106-2004)\n",
    "14. nWBV - Normalized whole brain volume: expressed as a percent of all voxels in the atlas-masked image that are labeled as gray or white matter by the automated tissue segmentation process (i.e. 0.64-0.84)\n",
    "15. ASF - Atlas scaling factor (unitless). Computed scaling factor that transforms native-space brain and skull to the atlas target (i.e. the determinant of the transform matrix) (i.e. 0.88-1.59)\n"
   ]
  },
  {
   "cell_type": "markdown",
   "id": "bdf549e6",
   "metadata": {
    "papermill": {
     "duration": 0.018634,
     "end_time": "2024-08-28T20:09:59.706837",
     "exception": false,
     "start_time": "2024-08-28T20:09:59.688203",
     "status": "completed"
    },
    "tags": []
   },
   "source": [
    "# Preprocessing\n",
    "Check for missing or null values, impute them, and also dropping redundant columns."
   ]
  },
  {
   "cell_type": "code",
   "execution_count": 1,
   "id": "264b6809",
   "metadata": {
    "execution": {
     "iopub.execute_input": "2024-08-28T20:09:59.746635Z",
     "iopub.status.busy": "2024-08-28T20:09:59.746041Z",
     "iopub.status.idle": "2024-08-28T20:10:02.676390Z",
     "shell.execute_reply": "2024-08-28T20:10:02.675076Z"
    },
    "papermill": {
     "duration": 2.954265,
     "end_time": "2024-08-28T20:10:02.679771",
     "exception": false,
     "start_time": "2024-08-28T20:09:59.725506",
     "status": "completed"
    },
    "tags": []
   },
   "outputs": [],
   "source": [
    "#import all the necessary libraries\n",
    "import pandas as pd\n",
    "import numpy as mp\n",
    "import matplotlib.pyplot as plt\n",
    "import seaborn as sns"
   ]
  },
  {
   "cell_type": "code",
   "execution_count": 2,
   "id": "9a677e30",
   "metadata": {
    "execution": {
     "iopub.execute_input": "2024-08-28T20:10:02.720597Z",
     "iopub.status.busy": "2024-08-28T20:10:02.719838Z",
     "iopub.status.idle": "2024-08-28T20:10:02.794538Z",
     "shell.execute_reply": "2024-08-28T20:10:02.793103Z"
    },
    "papermill": {
     "duration": 0.098089,
     "end_time": "2024-08-28T20:10:02.797776",
     "exception": false,
     "start_time": "2024-08-28T20:10:02.699687",
     "status": "completed"
    },
    "tags": []
   },
   "outputs": [
    {
     "data": {
      "text/html": [
       "<div>\n",
       "<style scoped>\n",
       "    .dataframe tbody tr th:only-of-type {\n",
       "        vertical-align: middle;\n",
       "    }\n",
       "\n",
       "    .dataframe tbody tr th {\n",
       "        vertical-align: top;\n",
       "    }\n",
       "\n",
       "    .dataframe thead th {\n",
       "        text-align: right;\n",
       "    }\n",
       "</style>\n",
       "<table border=\"1\" class=\"dataframe\">\n",
       "  <thead>\n",
       "    <tr style=\"text-align: right;\">\n",
       "      <th></th>\n",
       "      <th>Subject ID</th>\n",
       "      <th>MRI ID</th>\n",
       "      <th>Group</th>\n",
       "      <th>Visit</th>\n",
       "      <th>MR Delay</th>\n",
       "      <th>M/F</th>\n",
       "      <th>Hand</th>\n",
       "      <th>Age</th>\n",
       "      <th>EDUC</th>\n",
       "      <th>SES</th>\n",
       "      <th>MMSE</th>\n",
       "      <th>CDR</th>\n",
       "      <th>eTIV</th>\n",
       "      <th>nWBV</th>\n",
       "      <th>ASF</th>\n",
       "    </tr>\n",
       "  </thead>\n",
       "  <tbody>\n",
       "    <tr>\n",
       "      <th>0</th>\n",
       "      <td>OAS2_0001</td>\n",
       "      <td>OAS2_0001_MR1</td>\n",
       "      <td>Nondemented</td>\n",
       "      <td>1</td>\n",
       "      <td>0</td>\n",
       "      <td>M</td>\n",
       "      <td>R</td>\n",
       "      <td>87</td>\n",
       "      <td>14</td>\n",
       "      <td>2.0</td>\n",
       "      <td>27.0</td>\n",
       "      <td>0.0</td>\n",
       "      <td>1987</td>\n",
       "      <td>0.696</td>\n",
       "      <td>0.883</td>\n",
       "    </tr>\n",
       "    <tr>\n",
       "      <th>1</th>\n",
       "      <td>OAS2_0001</td>\n",
       "      <td>OAS2_0001_MR2</td>\n",
       "      <td>Nondemented</td>\n",
       "      <td>2</td>\n",
       "      <td>457</td>\n",
       "      <td>M</td>\n",
       "      <td>R</td>\n",
       "      <td>88</td>\n",
       "      <td>14</td>\n",
       "      <td>2.0</td>\n",
       "      <td>30.0</td>\n",
       "      <td>0.0</td>\n",
       "      <td>2004</td>\n",
       "      <td>0.681</td>\n",
       "      <td>0.876</td>\n",
       "    </tr>\n",
       "    <tr>\n",
       "      <th>2</th>\n",
       "      <td>OAS2_0002</td>\n",
       "      <td>OAS2_0002_MR1</td>\n",
       "      <td>Demented</td>\n",
       "      <td>1</td>\n",
       "      <td>0</td>\n",
       "      <td>M</td>\n",
       "      <td>R</td>\n",
       "      <td>75</td>\n",
       "      <td>12</td>\n",
       "      <td>NaN</td>\n",
       "      <td>23.0</td>\n",
       "      <td>0.5</td>\n",
       "      <td>1678</td>\n",
       "      <td>0.736</td>\n",
       "      <td>1.046</td>\n",
       "    </tr>\n",
       "    <tr>\n",
       "      <th>3</th>\n",
       "      <td>OAS2_0002</td>\n",
       "      <td>OAS2_0002_MR2</td>\n",
       "      <td>Demented</td>\n",
       "      <td>2</td>\n",
       "      <td>560</td>\n",
       "      <td>M</td>\n",
       "      <td>R</td>\n",
       "      <td>76</td>\n",
       "      <td>12</td>\n",
       "      <td>NaN</td>\n",
       "      <td>28.0</td>\n",
       "      <td>0.5</td>\n",
       "      <td>1738</td>\n",
       "      <td>0.713</td>\n",
       "      <td>1.010</td>\n",
       "    </tr>\n",
       "    <tr>\n",
       "      <th>4</th>\n",
       "      <td>OAS2_0002</td>\n",
       "      <td>OAS2_0002_MR3</td>\n",
       "      <td>Demented</td>\n",
       "      <td>3</td>\n",
       "      <td>1895</td>\n",
       "      <td>M</td>\n",
       "      <td>R</td>\n",
       "      <td>80</td>\n",
       "      <td>12</td>\n",
       "      <td>NaN</td>\n",
       "      <td>22.0</td>\n",
       "      <td>0.5</td>\n",
       "      <td>1698</td>\n",
       "      <td>0.701</td>\n",
       "      <td>1.034</td>\n",
       "    </tr>\n",
       "    <tr>\n",
       "      <th>...</th>\n",
       "      <td>...</td>\n",
       "      <td>...</td>\n",
       "      <td>...</td>\n",
       "      <td>...</td>\n",
       "      <td>...</td>\n",
       "      <td>...</td>\n",
       "      <td>...</td>\n",
       "      <td>...</td>\n",
       "      <td>...</td>\n",
       "      <td>...</td>\n",
       "      <td>...</td>\n",
       "      <td>...</td>\n",
       "      <td>...</td>\n",
       "      <td>...</td>\n",
       "      <td>...</td>\n",
       "    </tr>\n",
       "    <tr>\n",
       "      <th>368</th>\n",
       "      <td>OAS2_0185</td>\n",
       "      <td>OAS2_0185_MR2</td>\n",
       "      <td>Demented</td>\n",
       "      <td>2</td>\n",
       "      <td>842</td>\n",
       "      <td>M</td>\n",
       "      <td>R</td>\n",
       "      <td>82</td>\n",
       "      <td>16</td>\n",
       "      <td>1.0</td>\n",
       "      <td>28.0</td>\n",
       "      <td>0.5</td>\n",
       "      <td>1693</td>\n",
       "      <td>0.694</td>\n",
       "      <td>1.037</td>\n",
       "    </tr>\n",
       "    <tr>\n",
       "      <th>369</th>\n",
       "      <td>OAS2_0185</td>\n",
       "      <td>OAS2_0185_MR3</td>\n",
       "      <td>Demented</td>\n",
       "      <td>3</td>\n",
       "      <td>2297</td>\n",
       "      <td>M</td>\n",
       "      <td>R</td>\n",
       "      <td>86</td>\n",
       "      <td>16</td>\n",
       "      <td>1.0</td>\n",
       "      <td>26.0</td>\n",
       "      <td>0.5</td>\n",
       "      <td>1688</td>\n",
       "      <td>0.675</td>\n",
       "      <td>1.040</td>\n",
       "    </tr>\n",
       "    <tr>\n",
       "      <th>370</th>\n",
       "      <td>OAS2_0186</td>\n",
       "      <td>OAS2_0186_MR1</td>\n",
       "      <td>Nondemented</td>\n",
       "      <td>1</td>\n",
       "      <td>0</td>\n",
       "      <td>F</td>\n",
       "      <td>R</td>\n",
       "      <td>61</td>\n",
       "      <td>13</td>\n",
       "      <td>2.0</td>\n",
       "      <td>30.0</td>\n",
       "      <td>0.0</td>\n",
       "      <td>1319</td>\n",
       "      <td>0.801</td>\n",
       "      <td>1.331</td>\n",
       "    </tr>\n",
       "    <tr>\n",
       "      <th>371</th>\n",
       "      <td>OAS2_0186</td>\n",
       "      <td>OAS2_0186_MR2</td>\n",
       "      <td>Nondemented</td>\n",
       "      <td>2</td>\n",
       "      <td>763</td>\n",
       "      <td>F</td>\n",
       "      <td>R</td>\n",
       "      <td>63</td>\n",
       "      <td>13</td>\n",
       "      <td>2.0</td>\n",
       "      <td>30.0</td>\n",
       "      <td>0.0</td>\n",
       "      <td>1327</td>\n",
       "      <td>0.796</td>\n",
       "      <td>1.323</td>\n",
       "    </tr>\n",
       "    <tr>\n",
       "      <th>372</th>\n",
       "      <td>OAS2_0186</td>\n",
       "      <td>OAS2_0186_MR3</td>\n",
       "      <td>Nondemented</td>\n",
       "      <td>3</td>\n",
       "      <td>1608</td>\n",
       "      <td>F</td>\n",
       "      <td>R</td>\n",
       "      <td>65</td>\n",
       "      <td>13</td>\n",
       "      <td>2.0</td>\n",
       "      <td>30.0</td>\n",
       "      <td>0.0</td>\n",
       "      <td>1333</td>\n",
       "      <td>0.801</td>\n",
       "      <td>1.317</td>\n",
       "    </tr>\n",
       "  </tbody>\n",
       "</table>\n",
       "<p>373 rows × 15 columns</p>\n",
       "</div>"
      ],
      "text/plain": [
       "    Subject ID         MRI ID        Group  Visit  MR Delay M/F Hand  Age  \\\n",
       "0    OAS2_0001  OAS2_0001_MR1  Nondemented      1         0   M    R   87   \n",
       "1    OAS2_0001  OAS2_0001_MR2  Nondemented      2       457   M    R   88   \n",
       "2    OAS2_0002  OAS2_0002_MR1     Demented      1         0   M    R   75   \n",
       "3    OAS2_0002  OAS2_0002_MR2     Demented      2       560   M    R   76   \n",
       "4    OAS2_0002  OAS2_0002_MR3     Demented      3      1895   M    R   80   \n",
       "..         ...            ...          ...    ...       ...  ..  ...  ...   \n",
       "368  OAS2_0185  OAS2_0185_MR2     Demented      2       842   M    R   82   \n",
       "369  OAS2_0185  OAS2_0185_MR3     Demented      3      2297   M    R   86   \n",
       "370  OAS2_0186  OAS2_0186_MR1  Nondemented      1         0   F    R   61   \n",
       "371  OAS2_0186  OAS2_0186_MR2  Nondemented      2       763   F    R   63   \n",
       "372  OAS2_0186  OAS2_0186_MR3  Nondemented      3      1608   F    R   65   \n",
       "\n",
       "     EDUC  SES  MMSE  CDR  eTIV   nWBV    ASF  \n",
       "0      14  2.0  27.0  0.0  1987  0.696  0.883  \n",
       "1      14  2.0  30.0  0.0  2004  0.681  0.876  \n",
       "2      12  NaN  23.0  0.5  1678  0.736  1.046  \n",
       "3      12  NaN  28.0  0.5  1738  0.713  1.010  \n",
       "4      12  NaN  22.0  0.5  1698  0.701  1.034  \n",
       "..    ...  ...   ...  ...   ...    ...    ...  \n",
       "368    16  1.0  28.0  0.5  1693  0.694  1.037  \n",
       "369    16  1.0  26.0  0.5  1688  0.675  1.040  \n",
       "370    13  2.0  30.0  0.0  1319  0.801  1.331  \n",
       "371    13  2.0  30.0  0.0  1327  0.796  1.323  \n",
       "372    13  2.0  30.0  0.0  1333  0.801  1.317  \n",
       "\n",
       "[373 rows x 15 columns]"
      ]
     },
     "execution_count": 2,
     "metadata": {},
     "output_type": "execute_result"
    }
   ],
   "source": [
    "#read dataset\n",
    "data = pd.read_csv('/kaggle/input/mri-and-alzheimers/oasis_longitudinal.csv')\n",
    "data"
   ]
  },
  {
   "cell_type": "code",
   "execution_count": 3,
   "id": "4c785aa2",
   "metadata": {
    "execution": {
     "iopub.execute_input": "2024-08-28T20:10:02.840266Z",
     "iopub.status.busy": "2024-08-28T20:10:02.839590Z",
     "iopub.status.idle": "2024-08-28T20:10:02.855393Z",
     "shell.execute_reply": "2024-08-28T20:10:02.853953Z"
    },
    "papermill": {
     "duration": 0.040581,
     "end_time": "2024-08-28T20:10:02.858634",
     "exception": false,
     "start_time": "2024-08-28T20:10:02.818053",
     "status": "completed"
    },
    "tags": []
   },
   "outputs": [
    {
     "data": {
      "text/plain": [
       "Subject ID     0\n",
       "MRI ID         0\n",
       "Group          0\n",
       "Visit          0\n",
       "MR Delay       0\n",
       "M/F            0\n",
       "Hand           0\n",
       "Age            0\n",
       "EDUC           0\n",
       "SES           19\n",
       "MMSE           2\n",
       "CDR            0\n",
       "eTIV           0\n",
       "nWBV           0\n",
       "ASF            0\n",
       "dtype: int64"
      ]
     },
     "execution_count": 3,
     "metadata": {},
     "output_type": "execute_result"
    }
   ],
   "source": [
    "#check for missing values in the dataset\n",
    "data.isnull().sum()\n"
   ]
  },
  {
   "cell_type": "code",
   "execution_count": 4,
   "id": "c94d178b",
   "metadata": {
    "execution": {
     "iopub.execute_input": "2024-08-28T20:10:02.900338Z",
     "iopub.status.busy": "2024-08-28T20:10:02.899030Z",
     "iopub.status.idle": "2024-08-28T20:10:04.944222Z",
     "shell.execute_reply": "2024-08-28T20:10:04.942163Z"
    },
    "papermill": {
     "duration": 2.073172,
     "end_time": "2024-08-28T20:10:04.951295",
     "exception": false,
     "start_time": "2024-08-28T20:10:02.878123",
     "status": "completed"
    },
    "tags": []
   },
   "outputs": [
    {
     "data": {
      "text/plain": [
       "<Axes: >"
      ]
     },
     "execution_count": 4,
     "metadata": {},
     "output_type": "execute_result"
    },
    {
     "data": {
      "image/png": "[encoded data removed]",
      "text/plain": [
       "<Figure size 2500x1000 with 3 Axes>"
      ]
     },
     "metadata": {},
     "output_type": "display_data"
    }
   ],
   "source": [
    "import missingno as msno\n",
    "msno.bar(data)"
   ]
  },
  {
   "cell_type": "code",
   "execution_count": 5,
   "id": "c5914453",
   "metadata": {
    "execution": {
     "iopub.execute_input": "2024-08-28T20:10:05.009965Z",
     "iopub.status.busy": "2024-08-28T20:10:05.009380Z",
     "iopub.status.idle": "2024-08-28T20:10:05.563343Z",
     "shell.execute_reply": "2024-08-28T20:10:05.561960Z"
    },
    "papermill": {
     "duration": 0.585772,
     "end_time": "2024-08-28T20:10:05.566776",
     "exception": false,
     "start_time": "2024-08-28T20:10:04.981004",
     "status": "completed"
    },
    "tags": []
   },
   "outputs": [],
   "source": [
    "#impute missing values with SimpleImputer using median value\n",
    "import numpy as np\n",
    "from sklearn.impute import SimpleImputer\n",
    "imputer = SimpleImputer(missing_values=np.nan, strategy='median')\n",
    "data[['SES']] = imputer.fit_transform(data[['SES']])"
   ]
  },
  {
   "cell_type": "code",
   "execution_count": 6,
   "id": "86b76334",
   "metadata": {
    "execution": {
     "iopub.execute_input": "2024-08-28T20:10:05.615421Z",
     "iopub.status.busy": "2024-08-28T20:10:05.614761Z",
     "iopub.status.idle": "2024-08-28T20:10:05.649090Z",
     "shell.execute_reply": "2024-08-28T20:10:05.647401Z"
    },
    "papermill": {
     "duration": 0.063428,
     "end_time": "2024-08-28T20:10:05.652841",
     "exception": false,
     "start_time": "2024-08-28T20:10:05.589413",
     "status": "completed"
    },
    "tags": []
   },
   "outputs": [
    {
     "data": {
      "text/html": [
       "<div>\n",
       "<style scoped>\n",
       "    .dataframe tbody tr th:only-of-type {\n",
       "        vertical-align: middle;\n",
       "    }\n",
       "\n",
       "    .dataframe tbody tr th {\n",
       "        vertical-align: top;\n",
       "    }\n",
       "\n",
       "    .dataframe thead th {\n",
       "        text-align: right;\n",
       "    }\n",
       "</style>\n",
       "<table border=\"1\" class=\"dataframe\">\n",
       "  <thead>\n",
       "    <tr style=\"text-align: right;\">\n",
       "      <th></th>\n",
       "      <th>Subject ID</th>\n",
       "      <th>MRI ID</th>\n",
       "      <th>Group</th>\n",
       "      <th>Visit</th>\n",
       "      <th>MR Delay</th>\n",
       "      <th>M/F</th>\n",
       "      <th>Hand</th>\n",
       "      <th>Age</th>\n",
       "      <th>EDUC</th>\n",
       "      <th>SES</th>\n",
       "      <th>MMSE</th>\n",
       "      <th>CDR</th>\n",
       "      <th>eTIV</th>\n",
       "      <th>nWBV</th>\n",
       "      <th>ASF</th>\n",
       "    </tr>\n",
       "  </thead>\n",
       "  <tbody>\n",
       "    <tr>\n",
       "      <th>0</th>\n",
       "      <td>OAS2_0001</td>\n",
       "      <td>OAS2_0001_MR1</td>\n",
       "      <td>Nondemented</td>\n",
       "      <td>1</td>\n",
       "      <td>0</td>\n",
       "      <td>M</td>\n",
       "      <td>R</td>\n",
       "      <td>87</td>\n",
       "      <td>14</td>\n",
       "      <td>2.0</td>\n",
       "      <td>27.0</td>\n",
       "      <td>0.0</td>\n",
       "      <td>1987</td>\n",
       "      <td>0.696</td>\n",
       "      <td>0.883</td>\n",
       "    </tr>\n",
       "    <tr>\n",
       "      <th>1</th>\n",
       "      <td>OAS2_0001</td>\n",
       "      <td>OAS2_0001_MR2</td>\n",
       "      <td>Nondemented</td>\n",
       "      <td>2</td>\n",
       "      <td>457</td>\n",
       "      <td>M</td>\n",
       "      <td>R</td>\n",
       "      <td>88</td>\n",
       "      <td>14</td>\n",
       "      <td>2.0</td>\n",
       "      <td>30.0</td>\n",
       "      <td>0.0</td>\n",
       "      <td>2004</td>\n",
       "      <td>0.681</td>\n",
       "      <td>0.876</td>\n",
       "    </tr>\n",
       "    <tr>\n",
       "      <th>2</th>\n",
       "      <td>OAS2_0002</td>\n",
       "      <td>OAS2_0002_MR1</td>\n",
       "      <td>Demented</td>\n",
       "      <td>1</td>\n",
       "      <td>0</td>\n",
       "      <td>M</td>\n",
       "      <td>R</td>\n",
       "      <td>75</td>\n",
       "      <td>12</td>\n",
       "      <td>2.0</td>\n",
       "      <td>23.0</td>\n",
       "      <td>0.5</td>\n",
       "      <td>1678</td>\n",
       "      <td>0.736</td>\n",
       "      <td>1.046</td>\n",
       "    </tr>\n",
       "    <tr>\n",
       "      <th>3</th>\n",
       "      <td>OAS2_0002</td>\n",
       "      <td>OAS2_0002_MR2</td>\n",
       "      <td>Demented</td>\n",
       "      <td>2</td>\n",
       "      <td>560</td>\n",
       "      <td>M</td>\n",
       "      <td>R</td>\n",
       "      <td>76</td>\n",
       "      <td>12</td>\n",
       "      <td>2.0</td>\n",
       "      <td>28.0</td>\n",
       "      <td>0.5</td>\n",
       "      <td>1738</td>\n",
       "      <td>0.713</td>\n",
       "      <td>1.010</td>\n",
       "    </tr>\n",
       "    <tr>\n",
       "      <th>4</th>\n",
       "      <td>OAS2_0002</td>\n",
       "      <td>OAS2_0002_MR3</td>\n",
       "      <td>Demented</td>\n",
       "      <td>3</td>\n",
       "      <td>1895</td>\n",
       "      <td>M</td>\n",
       "      <td>R</td>\n",
       "      <td>80</td>\n",
       "      <td>12</td>\n",
       "      <td>2.0</td>\n",
       "      <td>22.0</td>\n",
       "      <td>0.5</td>\n",
       "      <td>1698</td>\n",
       "      <td>0.701</td>\n",
       "      <td>1.034</td>\n",
       "    </tr>\n",
       "    <tr>\n",
       "      <th>...</th>\n",
       "      <td>...</td>\n",
       "      <td>...</td>\n",
       "      <td>...</td>\n",
       "      <td>...</td>\n",
       "      <td>...</td>\n",
       "      <td>...</td>\n",
       "      <td>...</td>\n",
       "      <td>...</td>\n",
       "      <td>...</td>\n",
       "      <td>...</td>\n",
       "      <td>...</td>\n",
       "      <td>...</td>\n",
       "      <td>...</td>\n",
       "      <td>...</td>\n",
       "      <td>...</td>\n",
       "    </tr>\n",
       "    <tr>\n",
       "      <th>368</th>\n",
       "      <td>OAS2_0185</td>\n",
       "      <td>OAS2_0185_MR2</td>\n",
       "      <td>Demented</td>\n",
       "      <td>2</td>\n",
       "      <td>842</td>\n",
       "      <td>M</td>\n",
       "      <td>R</td>\n",
       "      <td>82</td>\n",
       "      <td>16</td>\n",
       "      <td>1.0</td>\n",
       "      <td>28.0</td>\n",
       "      <td>0.5</td>\n",
       "      <td>1693</td>\n",
       "      <td>0.694</td>\n",
       "      <td>1.037</td>\n",
       "    </tr>\n",
       "    <tr>\n",
       "      <th>369</th>\n",
       "      <td>OAS2_0185</td>\n",
       "      <td>OAS2_0185_MR3</td>\n",
       "      <td>Demented</td>\n",
       "      <td>3</td>\n",
       "      <td>2297</td>\n",
       "      <td>M</td>\n",
       "      <td>R</td>\n",
       "      <td>86</td>\n",
       "      <td>16</td>\n",
       "      <td>1.0</td>\n",
       "      <td>26.0</td>\n",
       "      <td>0.5</td>\n",
       "      <td>1688</td>\n",
       "      <td>0.675</td>\n",
       "      <td>1.040</td>\n",
       "    </tr>\n",
       "    <tr>\n",
       "      <th>370</th>\n",
       "      <td>OAS2_0186</td>\n",
       "      <td>OAS2_0186_MR1</td>\n",
       "      <td>Nondemented</td>\n",
       "      <td>1</td>\n",
       "      <td>0</td>\n",
       "      <td>F</td>\n",
       "      <td>R</td>\n",
       "      <td>61</td>\n",
       "      <td>13</td>\n",
       "      <td>2.0</td>\n",
       "      <td>30.0</td>\n",
       "      <td>0.0</td>\n",
       "      <td>1319</td>\n",
       "      <td>0.801</td>\n",
       "      <td>1.331</td>\n",
       "    </tr>\n",
       "    <tr>\n",
       "      <th>371</th>\n",
       "      <td>OAS2_0186</td>\n",
       "      <td>OAS2_0186_MR2</td>\n",
       "      <td>Nondemented</td>\n",
       "      <td>2</td>\n",
       "      <td>763</td>\n",
       "      <td>F</td>\n",
       "      <td>R</td>\n",
       "      <td>63</td>\n",
       "      <td>13</td>\n",
       "      <td>2.0</td>\n",
       "      <td>30.0</td>\n",
       "      <td>0.0</td>\n",
       "      <td>1327</td>\n",
       "      <td>0.796</td>\n",
       "      <td>1.323</td>\n",
       "    </tr>\n",
       "    <tr>\n",
       "      <th>372</th>\n",
       "      <td>OAS2_0186</td>\n",
       "      <td>OAS2_0186_MR3</td>\n",
       "      <td>Nondemented</td>\n",
       "      <td>3</td>\n",
       "      <td>1608</td>\n",
       "      <td>F</td>\n",
       "      <td>R</td>\n",
       "      <td>65</td>\n",
       "      <td>13</td>\n",
       "      <td>2.0</td>\n",
       "      <td>30.0</td>\n",
       "      <td>0.0</td>\n",
       "      <td>1333</td>\n",
       "      <td>0.801</td>\n",
       "      <td>1.317</td>\n",
       "    </tr>\n",
       "  </tbody>\n",
       "</table>\n",
       "<p>371 rows × 15 columns</p>\n",
       "</div>"
      ],
      "text/plain": [
       "    Subject ID         MRI ID        Group  Visit  MR Delay M/F Hand  Age  \\\n",
       "0    OAS2_0001  OAS2_0001_MR1  Nondemented      1         0   M    R   87   \n",
       "1    OAS2_0001  OAS2_0001_MR2  Nondemented      2       457   M    R   88   \n",
       "2    OAS2_0002  OAS2_0002_MR1     Demented      1         0   M    R   75   \n",
       "3    OAS2_0002  OAS2_0002_MR2     Demented      2       560   M    R   76   \n",
       "4    OAS2_0002  OAS2_0002_MR3     Demented      3      1895   M    R   80   \n",
       "..         ...            ...          ...    ...       ...  ..  ...  ...   \n",
       "368  OAS2_0185  OAS2_0185_MR2     Demented      2       842   M    R   82   \n",
       "369  OAS2_0185  OAS2_0185_MR3     Demented      3      2297   M    R   86   \n",
       "370  OAS2_0186  OAS2_0186_MR1  Nondemented      1         0   F    R   61   \n",
       "371  OAS2_0186  OAS2_0186_MR2  Nondemented      2       763   F    R   63   \n",
       "372  OAS2_0186  OAS2_0186_MR3  Nondemented      3      1608   F    R   65   \n",
       "\n",
       "     EDUC  SES  MMSE  CDR  eTIV   nWBV    ASF  \n",
       "0      14  2.0  27.0  0.0  1987  0.696  0.883  \n",
       "1      14  2.0  30.0  0.0  2004  0.681  0.876  \n",
       "2      12  2.0  23.0  0.5  1678  0.736  1.046  \n",
       "3      12  2.0  28.0  0.5  1738  0.713  1.010  \n",
       "4      12  2.0  22.0  0.5  1698  0.701  1.034  \n",
       "..    ...  ...   ...  ...   ...    ...    ...  \n",
       "368    16  1.0  28.0  0.5  1693  0.694  1.037  \n",
       "369    16  1.0  26.0  0.5  1688  0.675  1.040  \n",
       "370    13  2.0  30.0  0.0  1319  0.801  1.331  \n",
       "371    13  2.0  30.0  0.0  1327  0.796  1.323  \n",
       "372    13  2.0  30.0  0.0  1333  0.801  1.317  \n",
       "\n",
       "[371 rows x 15 columns]"
      ]
     },
     "execution_count": 6,
     "metadata": {},
     "output_type": "execute_result"
    }
   ],
   "source": [
    "# Drop the rows with the missing values\n",
    "data = data.dropna(axis=0)\n",
    "data"
   ]
  },
  {
   "cell_type": "code",
   "execution_count": 7,
   "id": "817c091e",
   "metadata": {
    "execution": {
     "iopub.execute_input": "2024-08-28T20:10:05.702161Z",
     "iopub.status.busy": "2024-08-28T20:10:05.701580Z",
     "iopub.status.idle": "2024-08-28T20:10:05.713184Z",
     "shell.execute_reply": "2024-08-28T20:10:05.711788Z"
    },
    "papermill": {
     "duration": 0.041585,
     "end_time": "2024-08-28T20:10:05.716034",
     "exception": false,
     "start_time": "2024-08-28T20:10:05.674449",
     "status": "completed"
    },
    "tags": []
   },
   "outputs": [
    {
     "data": {
      "text/plain": [
       "Subject ID    0\n",
       "MRI ID        0\n",
       "Group         0\n",
       "Visit         0\n",
       "MR Delay      0\n",
       "M/F           0\n",
       "Hand          0\n",
       "Age           0\n",
       "EDUC          0\n",
       "SES           0\n",
       "MMSE          0\n",
       "CDR           0\n",
       "eTIV          0\n",
       "nWBV          0\n",
       "ASF           0\n",
       "dtype: int64"
      ]
     },
     "execution_count": 7,
     "metadata": {},
     "output_type": "execute_result"
    }
   ],
   "source": [
    "#let's check one more time to see if there are any more missing values\n",
    "data.isnull().sum()"
   ]
  },
  {
   "cell_type": "code",
   "execution_count": 8,
   "id": "628dc84b",
   "metadata": {
    "execution": {
     "iopub.execute_input": "2024-08-28T20:10:05.763270Z",
     "iopub.status.busy": "2024-08-28T20:10:05.762693Z",
     "iopub.status.idle": "2024-08-28T20:10:05.792113Z",
     "shell.execute_reply": "2024-08-28T20:10:05.790302Z"
    },
    "papermill": {
     "duration": 0.057392,
     "end_time": "2024-08-28T20:10:05.795596",
     "exception": false,
     "start_time": "2024-08-28T20:10:05.738204",
     "status": "completed"
    },
    "tags": []
   },
   "outputs": [
    {
     "data": {
      "text/html": [
       "<div>\n",
       "<style scoped>\n",
       "    .dataframe tbody tr th:only-of-type {\n",
       "        vertical-align: middle;\n",
       "    }\n",
       "\n",
       "    .dataframe tbody tr th {\n",
       "        vertical-align: top;\n",
       "    }\n",
       "\n",
       "    .dataframe thead th {\n",
       "        text-align: right;\n",
       "    }\n",
       "</style>\n",
       "<table border=\"1\" class=\"dataframe\">\n",
       "  <thead>\n",
       "    <tr style=\"text-align: right;\">\n",
       "      <th></th>\n",
       "      <th>Subject ID</th>\n",
       "      <th>MRI ID</th>\n",
       "      <th>Group</th>\n",
       "      <th>Visit</th>\n",
       "      <th>MR Delay</th>\n",
       "      <th>M/F</th>\n",
       "      <th>Age</th>\n",
       "      <th>EDUC</th>\n",
       "      <th>SES</th>\n",
       "      <th>MMSE</th>\n",
       "      <th>CDR</th>\n",
       "      <th>eTIV</th>\n",
       "      <th>nWBV</th>\n",
       "      <th>ASF</th>\n",
       "    </tr>\n",
       "  </thead>\n",
       "  <tbody>\n",
       "    <tr>\n",
       "      <th>0</th>\n",
       "      <td>OAS2_0001</td>\n",
       "      <td>OAS2_0001_MR1</td>\n",
       "      <td>Nondemented</td>\n",
       "      <td>1</td>\n",
       "      <td>0</td>\n",
       "      <td>M</td>\n",
       "      <td>87</td>\n",
       "      <td>14</td>\n",
       "      <td>2.0</td>\n",
       "      <td>27.0</td>\n",
       "      <td>0.0</td>\n",
       "      <td>1987</td>\n",
       "      <td>0.696</td>\n",
       "      <td>0.883</td>\n",
       "    </tr>\n",
       "    <tr>\n",
       "      <th>1</th>\n",
       "      <td>OAS2_0001</td>\n",
       "      <td>OAS2_0001_MR2</td>\n",
       "      <td>Nondemented</td>\n",
       "      <td>2</td>\n",
       "      <td>457</td>\n",
       "      <td>M</td>\n",
       "      <td>88</td>\n",
       "      <td>14</td>\n",
       "      <td>2.0</td>\n",
       "      <td>30.0</td>\n",
       "      <td>0.0</td>\n",
       "      <td>2004</td>\n",
       "      <td>0.681</td>\n",
       "      <td>0.876</td>\n",
       "    </tr>\n",
       "    <tr>\n",
       "      <th>2</th>\n",
       "      <td>OAS2_0002</td>\n",
       "      <td>OAS2_0002_MR1</td>\n",
       "      <td>Demented</td>\n",
       "      <td>1</td>\n",
       "      <td>0</td>\n",
       "      <td>M</td>\n",
       "      <td>75</td>\n",
       "      <td>12</td>\n",
       "      <td>2.0</td>\n",
       "      <td>23.0</td>\n",
       "      <td>0.5</td>\n",
       "      <td>1678</td>\n",
       "      <td>0.736</td>\n",
       "      <td>1.046</td>\n",
       "    </tr>\n",
       "    <tr>\n",
       "      <th>3</th>\n",
       "      <td>OAS2_0002</td>\n",
       "      <td>OAS2_0002_MR2</td>\n",
       "      <td>Demented</td>\n",
       "      <td>2</td>\n",
       "      <td>560</td>\n",
       "      <td>M</td>\n",
       "      <td>76</td>\n",
       "      <td>12</td>\n",
       "      <td>2.0</td>\n",
       "      <td>28.0</td>\n",
       "      <td>0.5</td>\n",
       "      <td>1738</td>\n",
       "      <td>0.713</td>\n",
       "      <td>1.010</td>\n",
       "    </tr>\n",
       "    <tr>\n",
       "      <th>4</th>\n",
       "      <td>OAS2_0002</td>\n",
       "      <td>OAS2_0002_MR3</td>\n",
       "      <td>Demented</td>\n",
       "      <td>3</td>\n",
       "      <td>1895</td>\n",
       "      <td>M</td>\n",
       "      <td>80</td>\n",
       "      <td>12</td>\n",
       "      <td>2.0</td>\n",
       "      <td>22.0</td>\n",
       "      <td>0.5</td>\n",
       "      <td>1698</td>\n",
       "      <td>0.701</td>\n",
       "      <td>1.034</td>\n",
       "    </tr>\n",
       "  </tbody>\n",
       "</table>\n",
       "</div>"
      ],
      "text/plain": [
       "  Subject ID         MRI ID        Group  Visit  MR Delay M/F  Age  EDUC  SES  \\\n",
       "0  OAS2_0001  OAS2_0001_MR1  Nondemented      1         0   M   87    14  2.0   \n",
       "1  OAS2_0001  OAS2_0001_MR2  Nondemented      2       457   M   88    14  2.0   \n",
       "2  OAS2_0002  OAS2_0002_MR1     Demented      1         0   M   75    12  2.0   \n",
       "3  OAS2_0002  OAS2_0002_MR2     Demented      2       560   M   76    12  2.0   \n",
       "4  OAS2_0002  OAS2_0002_MR3     Demented      3      1895   M   80    12  2.0   \n",
       "\n",
       "   MMSE  CDR  eTIV   nWBV    ASF  \n",
       "0  27.0  0.0  1987  0.696  0.883  \n",
       "1  30.0  0.0  2004  0.681  0.876  \n",
       "2  23.0  0.5  1678  0.736  1.046  \n",
       "3  28.0  0.5  1738  0.713  1.010  \n",
       "4  22.0  0.5  1698  0.701  1.034  "
      ]
     },
     "execution_count": 8,
     "metadata": {},
     "output_type": "execute_result"
    }
   ],
   "source": [
    "#drop redundant columns, like 'Hand'\n",
    "data = data.drop(['Hand'], axis=1)\n",
    "data.head()"
   ]
  },
  {
   "cell_type": "markdown",
   "id": "fed68a8a",
   "metadata": {
    "papermill": {
     "duration": 0.023473,
     "end_time": "2024-08-28T20:10:05.841114",
     "exception": false,
     "start_time": "2024-08-28T20:10:05.817641",
     "status": "completed"
    },
    "tags": []
   },
   "source": [
    "# Treating 'Converted' as 'Demented'\n",
    "Because the objective of this exercise isn't so much concerned with whether the patients' diagnosis has changed as whether they have dementia or not. So all groups labelled as 'Converted' will be treated as 'Demented'. "
   ]
  },
  {
   "cell_type": "code",
   "execution_count": 9,
   "id": "10ac6063",
   "metadata": {
    "execution": {
     "iopub.execute_input": "2024-08-28T20:10:05.893390Z",
     "iopub.status.busy": "2024-08-28T20:10:05.891680Z",
     "iopub.status.idle": "2024-08-28T20:10:05.909254Z",
     "shell.execute_reply": "2024-08-28T20:10:05.907350Z"
    },
    "papermill": {
     "duration": 0.047755,
     "end_time": "2024-08-28T20:10:05.913293",
     "exception": false,
     "start_time": "2024-08-28T20:10:05.865538",
     "status": "completed"
    },
    "tags": []
   },
   "outputs": [
    {
     "data": {
      "text/plain": [
       "Group\n",
       "Nondemented    190\n",
       "Demented       144\n",
       "Converted       37\n",
       "Name: count, dtype: int64"
      ]
     },
     "execution_count": 9,
     "metadata": {},
     "output_type": "execute_result"
    }
   ],
   "source": [
    "#find 'converted'\n",
    "data['Group'].value_counts()"
   ]
  },
  {
   "cell_type": "code",
   "execution_count": 10,
   "id": "3975092b",
   "metadata": {
    "execution": {
     "iopub.execute_input": "2024-08-28T20:10:05.963232Z",
     "iopub.status.busy": "2024-08-28T20:10:05.962642Z",
     "iopub.status.idle": "2024-08-28T20:10:05.971480Z",
     "shell.execute_reply": "2024-08-28T20:10:05.969372Z"
    },
    "papermill": {
     "duration": 0.037731,
     "end_time": "2024-08-28T20:10:05.974709",
     "exception": false,
     "start_time": "2024-08-28T20:10:05.936978",
     "status": "completed"
    },
    "tags": []
   },
   "outputs": [],
   "source": [
    "#Replace 'converted' with 'demented'\n",
    "data['Group'] = data['Group'].replace(['Converted'], ['Demented'])"
   ]
  },
  {
   "cell_type": "code",
   "execution_count": 11,
   "id": "69b83b83",
   "metadata": {
    "execution": {
     "iopub.execute_input": "2024-08-28T20:10:06.024300Z",
     "iopub.status.busy": "2024-08-28T20:10:06.023744Z",
     "iopub.status.idle": "2024-08-28T20:10:06.035862Z",
     "shell.execute_reply": "2024-08-28T20:10:06.034440Z"
    },
    "papermill": {
     "duration": 0.041335,
     "end_time": "2024-08-28T20:10:06.039608",
     "exception": false,
     "start_time": "2024-08-28T20:10:05.998273",
     "status": "completed"
    },
    "tags": []
   },
   "outputs": [
    {
     "data": {
      "text/plain": [
       "Group\n",
       "Nondemented    190\n",
       "Demented       181\n",
       "Name: count, dtype: int64"
      ]
     },
     "execution_count": 11,
     "metadata": {},
     "output_type": "execute_result"
    }
   ],
   "source": [
    "#count the new classes of our Groups now\n",
    "data['Group'].value_counts()"
   ]
  },
  {
   "cell_type": "markdown",
   "id": "8bba491f",
   "metadata": {
    "papermill": {
     "duration": 0.022487,
     "end_time": "2024-08-28T20:10:06.085457",
     "exception": false,
     "start_time": "2024-08-28T20:10:06.062970",
     "status": "completed"
    },
    "tags": []
   },
   "source": [
    "# Group EDA"
   ]
  },
  {
   "cell_type": "code",
   "execution_count": 12,
   "id": "ecb326b3",
   "metadata": {
    "execution": {
     "iopub.execute_input": "2024-08-28T20:10:06.135823Z",
     "iopub.status.busy": "2024-08-28T20:10:06.135254Z",
     "iopub.status.idle": "2024-08-28T20:10:06.418512Z",
     "shell.execute_reply": "2024-08-28T20:10:06.417247Z"
    },
    "papermill": {
     "duration": 0.312237,
     "end_time": "2024-08-28T20:10:06.421501",
     "exception": false,
     "start_time": "2024-08-28T20:10:06.109264",
     "status": "completed"
    },
    "tags": []
   },
   "outputs": [
    {
     "data": {
      "text/plain": [
       "<Axes: xlabel='Group', ylabel='count'>"
      ]
     },
     "execution_count": 12,
     "metadata": {},
     "output_type": "execute_result"
    },
    {
     "data": {
      "image/png": "[encoded data removed]",
      "text/plain": [
       "<Figure size 640x480 with 1 Axes>"
      ]
     },
     "metadata": {},
     "output_type": "display_data"
    }
   ],
   "source": [
    "sns.countplot(x = 'Group', data = data)"
   ]
  },
  {
   "cell_type": "code",
   "execution_count": 13,
   "id": "d05cf89c",
   "metadata": {
    "execution": {
     "iopub.execute_input": "2024-08-28T20:10:06.467594Z",
     "iopub.status.busy": "2024-08-28T20:10:06.467163Z",
     "iopub.status.idle": "2024-08-28T20:10:06.994990Z",
     "shell.execute_reply": "2024-08-28T20:10:06.993681Z"
    },
    "papermill": {
     "duration": 0.554024,
     "end_time": "2024-08-28T20:10:06.997816",
     "exception": false,
     "start_time": "2024-08-28T20:10:06.443792",
     "status": "completed"
    },
    "tags": []
   },
   "outputs": [
    {
     "name": "stderr",
     "output_type": "stream",
     "text": [
      "/opt/conda/lib/python3.10/site-packages/seaborn/_oldcore.py:1119: FutureWarning: use_inf_as_na option is deprecated and will be removed in a future version. Convert inf values to NaN before operating instead.\n",
      "  with pd.option_context('mode.use_inf_as_na', True):\n",
      "/opt/conda/lib/python3.10/site-packages/seaborn/_oldcore.py:1075: FutureWarning: When grouping with a length-1 list-like, you will need to pass a length-1 tuple to get_group in a future version of pandas. Pass `(name,)` instead of `name` to silence this warning.\n",
      "  data_subset = grouped_data.get_group(pd_key)\n",
      "/opt/conda/lib/python3.10/site-packages/seaborn/_oldcore.py:1075: FutureWarning: When grouping with a length-1 list-like, you will need to pass a length-1 tuple to get_group in a future version of pandas. Pass `(name,)` instead of `name` to silence this warning.\n",
      "  data_subset = grouped_data.get_group(pd_key)\n",
      "/opt/conda/lib/python3.10/site-packages/seaborn/_oldcore.py:1075: FutureWarning: When grouping with a length-1 list-like, you will need to pass a length-1 tuple to get_group in a future version of pandas. Pass `(name,)` instead of `name` to silence this warning.\n",
      "  data_subset = grouped_data.get_group(pd_key)\n",
      "/opt/conda/lib/python3.10/site-packages/seaborn/_oldcore.py:1075: FutureWarning: When grouping with a length-1 list-like, you will need to pass a length-1 tuple to get_group in a future version of pandas. Pass `(name,)` instead of `name` to silence this warning.\n",
      "  data_subset = grouped_data.get_group(pd_key)\n"
     ]
    },
    {
     "data": {
      "text/plain": [
       "<seaborn.axisgrid.FacetGrid at 0x785fe8438ee0>"
      ]
     },
     "execution_count": 13,
     "metadata": {},
     "output_type": "execute_result"
    },
    {
     "data": {
      "image/png": "[encoded data removed]",
      "text/plain": [
       "<Figure size 448.625x300 with 1 Axes>"
      ]
     },
     "metadata": {},
     "output_type": "display_data"
    }
   ],
   "source": [
    "sns.displot(data, x='M/F', hue='Group', multiple='stack', height = 3)"
   ]
  },
  {
   "cell_type": "markdown",
   "id": "11a50e42",
   "metadata": {
    "papermill": {
     "duration": 0.022684,
     "end_time": "2024-08-28T20:10:07.043149",
     "exception": false,
     "start_time": "2024-08-28T20:10:07.020465",
     "status": "completed"
    },
    "tags": []
   },
   "source": [
    "# Label Encoding"
   ]
  },
  {
   "cell_type": "code",
   "execution_count": 14,
   "id": "165f0f32",
   "metadata": {
    "execution": {
     "iopub.execute_input": "2024-08-28T20:10:07.091885Z",
     "iopub.status.busy": "2024-08-28T20:10:07.090710Z",
     "iopub.status.idle": "2024-08-28T20:10:07.114161Z",
     "shell.execute_reply": "2024-08-28T20:10:07.112847Z"
    },
    "papermill": {
     "duration": 0.05106,
     "end_time": "2024-08-28T20:10:07.117012",
     "exception": false,
     "start_time": "2024-08-28T20:10:07.065952",
     "status": "completed"
    },
    "tags": []
   },
   "outputs": [
    {
     "data": {
      "text/html": [
       "<div>\n",
       "<style scoped>\n",
       "    .dataframe tbody tr th:only-of-type {\n",
       "        vertical-align: middle;\n",
       "    }\n",
       "\n",
       "    .dataframe tbody tr th {\n",
       "        vertical-align: top;\n",
       "    }\n",
       "\n",
       "    .dataframe thead th {\n",
       "        text-align: right;\n",
       "    }\n",
       "</style>\n",
       "<table border=\"1\" class=\"dataframe\">\n",
       "  <thead>\n",
       "    <tr style=\"text-align: right;\">\n",
       "      <th></th>\n",
       "      <th>Subject ID</th>\n",
       "      <th>MRI ID</th>\n",
       "      <th>Group</th>\n",
       "      <th>Visit</th>\n",
       "      <th>MR Delay</th>\n",
       "      <th>M/F</th>\n",
       "      <th>Age</th>\n",
       "      <th>EDUC</th>\n",
       "      <th>SES</th>\n",
       "      <th>MMSE</th>\n",
       "      <th>CDR</th>\n",
       "      <th>eTIV</th>\n",
       "      <th>nWBV</th>\n",
       "      <th>ASF</th>\n",
       "    </tr>\n",
       "  </thead>\n",
       "  <tbody>\n",
       "    <tr>\n",
       "      <th>0</th>\n",
       "      <td>OAS2_0001</td>\n",
       "      <td>OAS2_0001_MR1</td>\n",
       "      <td>1</td>\n",
       "      <td>1</td>\n",
       "      <td>0</td>\n",
       "      <td>1</td>\n",
       "      <td>87</td>\n",
       "      <td>14</td>\n",
       "      <td>2.0</td>\n",
       "      <td>27.0</td>\n",
       "      <td>0.0</td>\n",
       "      <td>1987</td>\n",
       "      <td>0.696</td>\n",
       "      <td>0.883</td>\n",
       "    </tr>\n",
       "    <tr>\n",
       "      <th>1</th>\n",
       "      <td>OAS2_0001</td>\n",
       "      <td>OAS2_0001_MR2</td>\n",
       "      <td>1</td>\n",
       "      <td>2</td>\n",
       "      <td>457</td>\n",
       "      <td>1</td>\n",
       "      <td>88</td>\n",
       "      <td>14</td>\n",
       "      <td>2.0</td>\n",
       "      <td>30.0</td>\n",
       "      <td>0.0</td>\n",
       "      <td>2004</td>\n",
       "      <td>0.681</td>\n",
       "      <td>0.876</td>\n",
       "    </tr>\n",
       "    <tr>\n",
       "      <th>2</th>\n",
       "      <td>OAS2_0002</td>\n",
       "      <td>OAS2_0002_MR1</td>\n",
       "      <td>0</td>\n",
       "      <td>1</td>\n",
       "      <td>0</td>\n",
       "      <td>1</td>\n",
       "      <td>75</td>\n",
       "      <td>12</td>\n",
       "      <td>2.0</td>\n",
       "      <td>23.0</td>\n",
       "      <td>0.5</td>\n",
       "      <td>1678</td>\n",
       "      <td>0.736</td>\n",
       "      <td>1.046</td>\n",
       "    </tr>\n",
       "    <tr>\n",
       "      <th>3</th>\n",
       "      <td>OAS2_0002</td>\n",
       "      <td>OAS2_0002_MR2</td>\n",
       "      <td>0</td>\n",
       "      <td>2</td>\n",
       "      <td>560</td>\n",
       "      <td>1</td>\n",
       "      <td>76</td>\n",
       "      <td>12</td>\n",
       "      <td>2.0</td>\n",
       "      <td>28.0</td>\n",
       "      <td>0.5</td>\n",
       "      <td>1738</td>\n",
       "      <td>0.713</td>\n",
       "      <td>1.010</td>\n",
       "    </tr>\n",
       "    <tr>\n",
       "      <th>4</th>\n",
       "      <td>OAS2_0002</td>\n",
       "      <td>OAS2_0002_MR3</td>\n",
       "      <td>0</td>\n",
       "      <td>3</td>\n",
       "      <td>1895</td>\n",
       "      <td>1</td>\n",
       "      <td>80</td>\n",
       "      <td>12</td>\n",
       "      <td>2.0</td>\n",
       "      <td>22.0</td>\n",
       "      <td>0.5</td>\n",
       "      <td>1698</td>\n",
       "      <td>0.701</td>\n",
       "      <td>1.034</td>\n",
       "    </tr>\n",
       "  </tbody>\n",
       "</table>\n",
       "</div>"
      ],
      "text/plain": [
       "  Subject ID         MRI ID  Group  Visit  MR Delay  M/F  Age  EDUC  SES  \\\n",
       "0  OAS2_0001  OAS2_0001_MR1      1      1         0    1   87    14  2.0   \n",
       "1  OAS2_0001  OAS2_0001_MR2      1      2       457    1   88    14  2.0   \n",
       "2  OAS2_0002  OAS2_0002_MR1      0      1         0    1   75    12  2.0   \n",
       "3  OAS2_0002  OAS2_0002_MR2      0      2       560    1   76    12  2.0   \n",
       "4  OAS2_0002  OAS2_0002_MR3      0      3      1895    1   80    12  2.0   \n",
       "\n",
       "   MMSE  CDR  eTIV   nWBV    ASF  \n",
       "0  27.0  0.0  1987  0.696  0.883  \n",
       "1  30.0  0.0  2004  0.681  0.876  \n",
       "2  23.0  0.5  1678  0.736  1.046  \n",
       "3  28.0  0.5  1738  0.713  1.010  \n",
       "4  22.0  0.5  1698  0.701  1.034  "
      ]
     },
     "execution_count": 14,
     "metadata": {},
     "output_type": "execute_result"
    }
   ],
   "source": [
    "from sklearn.preprocessing import LabelEncoder\n",
    "labelencoder = LabelEncoder()\n",
    "\n",
    "data['M/F'] = labelencoder.fit_transform(data['M/F'])\n",
    "data['Group'] = labelencoder.fit_transform(data['Group'])\n",
    "data.head()"
   ]
  },
  {
   "cell_type": "markdown",
   "id": "762cbe38",
   "metadata": {
    "papermill": {
     "duration": 0.022604,
     "end_time": "2024-08-28T20:10:07.162677",
     "exception": false,
     "start_time": "2024-08-28T20:10:07.140073",
     "status": "completed"
    },
    "tags": []
   },
   "source": [
    "# Class Balancing"
   ]
  },
  {
   "cell_type": "code",
   "execution_count": 15,
   "id": "2d44a726",
   "metadata": {
    "execution": {
     "iopub.execute_input": "2024-08-28T20:10:07.210339Z",
     "iopub.status.busy": "2024-08-28T20:10:07.209888Z",
     "iopub.status.idle": "2024-08-28T20:10:07.457296Z",
     "shell.execute_reply": "2024-08-28T20:10:07.455995Z"
    },
    "papermill": {
     "duration": 0.274292,
     "end_time": "2024-08-28T20:10:07.459882",
     "exception": false,
     "start_time": "2024-08-28T20:10:07.185590",
     "status": "completed"
    },
    "tags": []
   },
   "outputs": [
    {
     "name": "stdout",
     "output_type": "stream",
     "text": [
      "Group\n",
      "1    190\n",
      "0    181\n",
      "Name: count, dtype: int64\n"
     ]
    },
    {
     "data": {
      "text/plain": [
       "<Axes: xlabel='Group', ylabel='count'>"
      ]
     },
     "execution_count": 15,
     "metadata": {},
     "output_type": "execute_result"
    },
    {
     "data": {
      "image/png": "[encoded data removed]",
      "text/plain": [
       "<Figure size 640x480 with 1 Axes>"
      ]
     },
     "metadata": {},
     "output_type": "display_data"
    }
   ],
   "source": [
    "#before class balancing\n",
    "print(data['Group'].value_counts())\n",
    "sns.countplot(x = 'Group', data = data)"
   ]
  },
  {
   "cell_type": "code",
   "execution_count": 16,
   "id": "4dbe7505",
   "metadata": {
    "execution": {
     "iopub.execute_input": "2024-08-28T20:10:07.510010Z",
     "iopub.status.busy": "2024-08-28T20:10:07.509000Z",
     "iopub.status.idle": "2024-08-28T20:10:07.515817Z",
     "shell.execute_reply": "2024-08-28T20:10:07.514547Z"
    },
    "papermill": {
     "duration": 0.034921,
     "end_time": "2024-08-28T20:10:07.518609",
     "exception": false,
     "start_time": "2024-08-28T20:10:07.483688",
     "status": "completed"
    },
    "tags": []
   },
   "outputs": [
    {
     "name": "stdout",
     "output_type": "stream",
     "text": [
      "[(0, 181), (1, 190)]\n"
     ]
    }
   ],
   "source": [
    "from collections import Counter\n",
    "print(sorted(Counter(data['Group']).items()))"
   ]
  },
  {
   "cell_type": "code",
   "execution_count": 17,
   "id": "c0406d2c",
   "metadata": {
    "execution": {
     "iopub.execute_input": "2024-08-28T20:10:07.567850Z",
     "iopub.status.busy": "2024-08-28T20:10:07.567102Z",
     "iopub.status.idle": "2024-08-28T20:10:07.574107Z",
     "shell.execute_reply": "2024-08-28T20:10:07.572898Z"
    },
    "papermill": {
     "duration": 0.034557,
     "end_time": "2024-08-28T20:10:07.576832",
     "exception": false,
     "start_time": "2024-08-28T20:10:07.542275",
     "status": "completed"
    },
    "tags": []
   },
   "outputs": [],
   "source": [
    "#let's split the variables here for easier class balancing\n",
    "x = data[['MR Delay','CDR','M/F', 'Age', 'EDUC','SES', 'MMSE', 'eTIV', 'nWBV', 'ASF']]\n",
    "y = data['Group']"
   ]
  },
  {
   "cell_type": "code",
   "execution_count": 18,
   "id": "e08dfae9",
   "metadata": {
    "execution": {
     "iopub.execute_input": "2024-08-28T20:10:07.626963Z",
     "iopub.status.busy": "2024-08-28T20:10:07.626523Z",
     "iopub.status.idle": "2024-08-28T20:10:07.904471Z",
     "shell.execute_reply": "2024-08-28T20:10:07.903122Z"
    },
    "papermill": {
     "duration": 0.306233,
     "end_time": "2024-08-28T20:10:07.907302",
     "exception": false,
     "start_time": "2024-08-28T20:10:07.601069",
     "status": "completed"
    },
    "tags": []
   },
   "outputs": [
    {
     "name": "stdout",
     "output_type": "stream",
     "text": [
      "[(0, 181), (1, 181)]\n"
     ]
    }
   ],
   "source": [
    "#perform undersampling\n",
    "\n",
    "from imblearn.under_sampling import NearMiss\n",
    "\n",
    "nearmiss = NearMiss(version=2)\n",
    "X_nearmiss, y_nearmiss = nearmiss.fit_resample(x, y)\n",
    "\n",
    "# Check the number of records after undersampling\n",
    "print(sorted(Counter(y_nearmiss).items()))"
   ]
  },
  {
   "cell_type": "code",
   "execution_count": 19,
   "id": "6530042c",
   "metadata": {
    "execution": {
     "iopub.execute_input": "2024-08-28T20:10:07.956946Z",
     "iopub.status.busy": "2024-08-28T20:10:07.956371Z",
     "iopub.status.idle": "2024-08-28T20:10:08.142420Z",
     "shell.execute_reply": "2024-08-28T20:10:08.141277Z"
    },
    "papermill": {
     "duration": 0.214274,
     "end_time": "2024-08-28T20:10:08.145011",
     "exception": false,
     "start_time": "2024-08-28T20:10:07.930737",
     "status": "completed"
    },
    "tags": []
   },
   "outputs": [
    {
     "name": "stdout",
     "output_type": "stream",
     "text": [
      "Counter({0: 181, 1: 181})\n"
     ]
    },
    {
     "data": {
      "image/png": "[encoded data removed]",
      "text/plain": [
       "<Figure size 500x500 with 1 Axes>"
      ]
     },
     "metadata": {},
     "output_type": "display_data"
    }
   ],
   "source": [
    "#after class balancing\n",
    "plt.subplots(figsize=(5,5))\n",
    "sns.countplot(x=y_nearmiss)\n",
    "print(Counter(y_nearmiss))"
   ]
  },
  {
   "cell_type": "markdown",
   "id": "12ab0a37",
   "metadata": {
    "papermill": {
     "duration": 0.023452,
     "end_time": "2024-08-28T20:10:08.192279",
     "exception": false,
     "start_time": "2024-08-28T20:10:08.168827",
     "status": "completed"
    },
    "tags": []
   },
   "source": [
    "# Model 1 - Random Forest with GridSearchCV"
   ]
  },
  {
   "cell_type": "code",
   "execution_count": 20,
   "id": "0443b622",
   "metadata": {
    "execution": {
     "iopub.execute_input": "2024-08-28T20:10:08.241917Z",
     "iopub.status.busy": "2024-08-28T20:10:08.241460Z",
     "iopub.status.idle": "2024-08-28T20:10:08.248949Z",
     "shell.execute_reply": "2024-08-28T20:10:08.247687Z"
    },
    "papermill": {
     "duration": 0.035476,
     "end_time": "2024-08-28T20:10:08.251597",
     "exception": false,
     "start_time": "2024-08-28T20:10:08.216121",
     "status": "completed"
    },
    "tags": []
   },
   "outputs": [],
   "source": [
    "#setting IV and TV - For Random Forest\n",
    "X = data[['MR Delay','CDR','M/F', 'Age', 'EDUC','SES', 'MMSE', 'eTIV', 'nWBV', 'ASF']]\n",
    "y = data['Group']"
   ]
  },
  {
   "cell_type": "code",
   "execution_count": 21,
   "id": "a56e7885",
   "metadata": {
    "execution": {
     "iopub.execute_input": "2024-08-28T20:10:08.302435Z",
     "iopub.status.busy": "2024-08-28T20:10:08.301946Z",
     "iopub.status.idle": "2024-08-28T20:10:08.312831Z",
     "shell.execute_reply": "2024-08-28T20:10:08.311624Z"
    },
    "papermill": {
     "duration": 0.039173,
     "end_time": "2024-08-28T20:10:08.315579",
     "exception": false,
     "start_time": "2024-08-28T20:10:08.276406",
     "status": "completed"
    },
    "tags": []
   },
   "outputs": [],
   "source": [
    "#data splitting\n",
    "from sklearn.model_selection import train_test_split\n",
    "X_train, X_test, y_train, y_test = train_test_split(X, y, test_size = 0.2, random_state = 1)"
   ]
  },
  {
   "cell_type": "code",
   "execution_count": 22,
   "id": "e57431eb",
   "metadata": {
    "execution": {
     "iopub.execute_input": "2024-08-28T20:10:08.366337Z",
     "iopub.status.busy": "2024-08-28T20:10:08.365777Z",
     "iopub.status.idle": "2024-08-28T20:10:08.375980Z",
     "shell.execute_reply": "2024-08-28T20:10:08.374492Z"
    },
    "papermill": {
     "duration": 0.038371,
     "end_time": "2024-08-28T20:10:08.378581",
     "exception": false,
     "start_time": "2024-08-28T20:10:08.340210",
     "status": "completed"
    },
    "tags": []
   },
   "outputs": [
    {
     "data": {
      "text/plain": [
       "{'bootstrap': True,\n",
       " 'ccp_alpha': 0.0,\n",
       " 'class_weight': None,\n",
       " 'criterion': 'gini',\n",
       " 'max_depth': None,\n",
       " 'max_features': 'sqrt',\n",
       " 'max_leaf_nodes': None,\n",
       " 'max_samples': None,\n",
       " 'min_impurity_decrease': 0.0,\n",
       " 'min_samples_leaf': 1,\n",
       " 'min_samples_split': 2,\n",
       " 'min_weight_fraction_leaf': 0.0,\n",
       " 'n_estimators': 100,\n",
       " 'n_jobs': None,\n",
       " 'oob_score': False,\n",
       " 'random_state': None,\n",
       " 'verbose': 0,\n",
       " 'warm_start': False}"
      ]
     },
     "execution_count": 22,
     "metadata": {},
     "output_type": "execute_result"
    }
   ],
   "source": [
    "#Base model parameters used\n",
    "from sklearn.ensemble import RandomForestClassifier\n",
    "rf = RandomForestClassifier()\n",
    "rf.get_params()"
   ]
  },
  {
   "cell_type": "code",
   "execution_count": 23,
   "id": "37d48a02",
   "metadata": {
    "execution": {
     "iopub.execute_input": "2024-08-28T20:10:08.432190Z",
     "iopub.status.busy": "2024-08-28T20:10:08.431039Z",
     "iopub.status.idle": "2024-08-28T20:10:08.688513Z",
     "shell.execute_reply": "2024-08-28T20:10:08.687395Z"
    },
    "papermill": {
     "duration": 0.287672,
     "end_time": "2024-08-28T20:10:08.691529",
     "exception": false,
     "start_time": "2024-08-28T20:10:08.403857",
     "status": "completed"
    },
    "tags": []
   },
   "outputs": [],
   "source": [
    "# Base Model Fitting\n",
    "from sklearn.metrics import classification_report, confusion_matrix, accuracy_score, precision_score, recall_score, f1_score\n",
    "\n",
    "rf.fit(X_train, y_train)\n",
    "y_pred = rf.predict(X_test)"
   ]
  },
  {
   "cell_type": "code",
   "execution_count": 24,
   "id": "d192dd2f",
   "metadata": {
    "execution": {
     "iopub.execute_input": "2024-08-28T20:10:08.744170Z",
     "iopub.status.busy": "2024-08-28T20:10:08.743643Z",
     "iopub.status.idle": "2024-08-28T20:10:08.771890Z",
     "shell.execute_reply": "2024-08-28T20:10:08.770049Z"
    },
    "papermill": {
     "duration": 0.057212,
     "end_time": "2024-08-28T20:10:08.774911",
     "exception": false,
     "start_time": "2024-08-28T20:10:08.717699",
     "status": "completed"
    },
    "tags": []
   },
   "outputs": [
    {
     "name": "stdout",
     "output_type": "stream",
     "text": [
      "\n",
      "RF - Accuracy: 94.667.\n",
      "RF - Precision: 0.947.\n",
      "RF - Recall: 0.947.\n",
      "RF - F1_Score: 0.947.\n",
      "\n",
      " Clasification Report - Base Model:\n",
      "               precision    recall  f1-score   support\n",
      "\n",
      "           0       1.00      0.89      0.94        36\n",
      "           1       0.91      1.00      0.95        39\n",
      "\n",
      "    accuracy                           0.95        75\n",
      "   macro avg       0.95      0.94      0.95        75\n",
      "weighted avg       0.95      0.95      0.95        75\n",
      "\n"
     ]
    }
   ],
   "source": [
    "#Get metrics\n",
    "rf_acc = accuracy_score(y_test, y_pred)*100\n",
    "rf_pre = precision_score(y_test,y_pred, average='micro')\n",
    "rf_recall = recall_score(y_test, y_pred, average='micro')\n",
    "rf_f1 = f1_score(y_test,y_pred, average='micro')\n",
    "\n",
    "print(\"\\nRF - Accuracy: {:.3f}.\".format(rf_acc))\n",
    "print(\"RF - Precision: {:.3f}.\".format(rf_pre))\n",
    "print(\"RF - Recall: {:.3f}.\".format(rf_recall))\n",
    "print(\"RF - F1_Score: {:.3f}.\".format(rf_f1))\n",
    "print('\\n Clasification Report - Base Model:\\n', classification_report(y_test,y_pred))"
   ]
  },
  {
   "cell_type": "code",
   "execution_count": 25,
   "id": "bb34519a",
   "metadata": {
    "execution": {
     "iopub.execute_input": "2024-08-28T20:10:08.826018Z",
     "iopub.status.busy": "2024-08-28T20:10:08.825576Z",
     "iopub.status.idle": "2024-08-28T20:10:08.834991Z",
     "shell.execute_reply": "2024-08-28T20:10:08.833613Z"
    },
    "papermill": {
     "duration": 0.038754,
     "end_time": "2024-08-28T20:10:08.838324",
     "exception": false,
     "start_time": "2024-08-28T20:10:08.799570",
     "status": "completed"
    },
    "tags": []
   },
   "outputs": [
    {
     "name": "stdout",
     "output_type": "stream",
     "text": [
      "     Actual  Predicted\n",
      "207       0          0\n",
      "82        0          1\n",
      "185       0          0\n",
      "370       1          1\n",
      "65        1          1\n"
     ]
    }
   ],
   "source": [
    "rf_df = pd.DataFrame({'Actual': y_test, 'Predicted': y_pred.round(2)})\n",
    "print(rf_df.head())"
   ]
  },
  {
   "cell_type": "code",
   "execution_count": 26,
   "id": "9594b802",
   "metadata": {
    "execution": {
     "iopub.execute_input": "2024-08-28T20:10:08.892112Z",
     "iopub.status.busy": "2024-08-28T20:10:08.891646Z",
     "iopub.status.idle": "2024-08-28T20:10:08.899422Z",
     "shell.execute_reply": "2024-08-28T20:10:08.898223Z"
    },
    "papermill": {
     "duration": 0.038242,
     "end_time": "2024-08-28T20:10:08.902072",
     "exception": false,
     "start_time": "2024-08-28T20:10:08.863830",
     "status": "completed"
    },
    "tags": []
   },
   "outputs": [],
   "source": [
    "#hyperparameter tuning\n",
    "\n",
    "from  numpy import arange\n",
    "\n",
    "parameters = {'criterion': ['gini', 'entropy'],\n",
    "              'class_weight': ['balanced', 'balanced_subsample', None],\n",
    "              'n_estimators': arange(100, 1000, 100), #number of trees in random forest\n",
    "              'max_features': ['sqrt'], \n",
    "              'max_depth': arange(10, 110, 10),\n",
    "              'min_samples_split': [2, 5, 10],\n",
    "              'min_samples_leaf': [1, 2, 4],\n",
    "              'bootstrap': [True, False]}"
   ]
  },
  {
   "cell_type": "code",
   "execution_count": 27,
   "id": "987af676",
   "metadata": {
    "execution": {
     "iopub.execute_input": "2024-08-28T20:10:08.953953Z",
     "iopub.status.busy": "2024-08-28T20:10:08.953491Z",
     "iopub.status.idle": "2024-08-28T20:19:35.083934Z",
     "shell.execute_reply": "2024-08-28T20:19:35.082564Z"
    },
    "papermill": {
     "duration": 566.159891,
     "end_time": "2024-08-28T20:19:35.086829",
     "exception": false,
     "start_time": "2024-08-28T20:10:08.926938",
     "status": "completed"
    },
    "tags": []
   },
   "outputs": [
    {
     "name": "stdout",
     "output_type": "stream",
     "text": [
      "Fitting 5 folds for each of 100 candidates, totalling 500 fits\n",
      "[CV] END bootstrap=True, class_weight=None, criterion=gini, max_depth=20, max_features=sqrt, min_samples_leaf=4, min_samples_split=10, n_estimators=200; total time=   0.5s\n",
      "[CV] END bootstrap=True, class_weight=None, criterion=gini, max_depth=20, max_features=sqrt, min_samples_leaf=4, min_samples_split=10, n_estimators=200; total time=   0.5s\n",
      "[CV] END bootstrap=True, class_weight=None, criterion=gini, max_depth=20, max_features=sqrt, min_samples_leaf=4, min_samples_split=10, n_estimators=200; total time=   0.5s\n",
      "[CV] END bootstrap=True, class_weight=None, criterion=gini, max_depth=20, max_features=sqrt, min_samples_leaf=4, min_samples_split=10, n_estimators=200; total time=   0.5s\n",
      "[CV] END bootstrap=True, class_weight=None, criterion=gini, max_depth=20, max_features=sqrt, min_samples_leaf=4, min_samples_split=10, n_estimators=200; total time=   0.5s\n",
      "[CV] END bootstrap=True, class_weight=balanced, criterion=entropy, max_depth=70, max_features=sqrt, min_samples_leaf=1, min_samples_split=5, n_estimators=800; total time=   2.1s\n",
      "[CV] END bootstrap=True, class_weight=balanced, criterion=entropy, max_depth=70, max_features=sqrt, min_samples_leaf=1, min_samples_split=5, n_estimators=800; total time=   2.2s\n",
      "[CV] END bootstrap=True, class_weight=balanced, criterion=entropy, max_depth=70, max_features=sqrt, min_samples_leaf=1, min_samples_split=5, n_estimators=800; total time=   1.9s\n",
      "[CV] END bootstrap=True, class_weight=balanced, criterion=entropy, max_depth=70, max_features=sqrt, min_samples_leaf=1, min_samples_split=5, n_estimators=800; total time=   2.0s\n",
      "[CV] END bootstrap=True, class_weight=balanced, criterion=entropy, max_depth=70, max_features=sqrt, min_samples_leaf=1, min_samples_split=5, n_estimators=800; total time=   2.0s\n",
      "[CV] END bootstrap=True, class_weight=balanced_subsample, criterion=gini, max_depth=40, max_features=sqrt, min_samples_leaf=4, min_samples_split=2, n_estimators=200; total time=   0.6s\n",
      "[CV] END bootstrap=True, class_weight=balanced_subsample, criterion=gini, max_depth=40, max_features=sqrt, min_samples_leaf=4, min_samples_split=2, n_estimators=200; total time=   0.6s\n",
      "[CV] END bootstrap=True, class_weight=balanced_subsample, criterion=gini, max_depth=40, max_features=sqrt, min_samples_leaf=4, min_samples_split=2, n_estimators=200; total time=   0.6s\n",
      "[CV] END bootstrap=True, class_weight=balanced_subsample, criterion=gini, max_depth=40, max_features=sqrt, min_samples_leaf=4, min_samples_split=2, n_estimators=200; total time=   0.6s\n",
      "[CV] END bootstrap=True, class_weight=balanced_subsample, criterion=gini, max_depth=40, max_features=sqrt, min_samples_leaf=4, min_samples_split=2, n_estimators=200; total time=   0.6s\n",
      "[CV] END bootstrap=True, class_weight=None, criterion=gini, max_depth=60, max_features=sqrt, min_samples_leaf=4, min_samples_split=2, n_estimators=200; total time=   0.5s\n",
      "[CV] END bootstrap=True, class_weight=None, criterion=gini, max_depth=60, max_features=sqrt, min_samples_leaf=4, min_samples_split=2, n_estimators=200; total time=   0.5s\n",
      "[CV] END bootstrap=True, class_weight=None, criterion=gini, max_depth=60, max_features=sqrt, min_samples_leaf=4, min_samples_split=2, n_estimators=200; total time=   0.5s\n",
      "[CV] END bootstrap=True, class_weight=None, criterion=gini, max_depth=60, max_features=sqrt, min_samples_leaf=4, min_samples_split=2, n_estimators=200; total time=   0.5s\n",
      "[CV] END bootstrap=True, class_weight=None, criterion=gini, max_depth=60, max_features=sqrt, min_samples_leaf=4, min_samples_split=2, n_estimators=200; total time=   0.5s\n",
      "[CV] END bootstrap=False, class_weight=balanced_subsample, criterion=entropy, max_depth=80, max_features=sqrt, min_samples_leaf=1, min_samples_split=2, n_estimators=700; total time=   1.4s\n",
      "[CV] END bootstrap=False, class_weight=balanced_subsample, criterion=entropy, max_depth=80, max_features=sqrt, min_samples_leaf=1, min_samples_split=2, n_estimators=700; total time=   1.4s\n",
      "[CV] END bootstrap=False, class_weight=balanced_subsample, criterion=entropy, max_depth=80, max_features=sqrt, min_samples_leaf=1, min_samples_split=2, n_estimators=700; total time=   1.5s\n",
      "[CV] END bootstrap=False, class_weight=balanced_subsample, criterion=entropy, max_depth=80, max_features=sqrt, min_samples_leaf=1, min_samples_split=2, n_estimators=700; total time=   1.5s\n",
      "[CV] END bootstrap=False, class_weight=balanced_subsample, criterion=entropy, max_depth=80, max_features=sqrt, min_samples_leaf=1, min_samples_split=2, n_estimators=700; total time=   1.6s\n",
      "[CV] END bootstrap=True, class_weight=None, criterion=gini, max_depth=50, max_features=sqrt, min_samples_leaf=1, min_samples_split=2, n_estimators=500; total time=   1.3s\n",
      "[CV] END bootstrap=True, class_weight=None, criterion=gini, max_depth=50, max_features=sqrt, min_samples_leaf=1, min_samples_split=2, n_estimators=500; total time=   1.2s\n",
      "[CV] END bootstrap=True, class_weight=None, criterion=gini, max_depth=50, max_features=sqrt, min_samples_leaf=1, min_samples_split=2, n_estimators=500; total time=   1.2s\n",
      "[CV] END bootstrap=True, class_weight=None, criterion=gini, max_depth=50, max_features=sqrt, min_samples_leaf=1, min_samples_split=2, n_estimators=500; total time=   1.2s\n",
      "[CV] END bootstrap=True, class_weight=None, criterion=gini, max_depth=50, max_features=sqrt, min_samples_leaf=1, min_samples_split=2, n_estimators=500; total time=   1.2s\n",
      "[CV] END bootstrap=False, class_weight=None, criterion=gini, max_depth=50, max_features=sqrt, min_samples_leaf=1, min_samples_split=10, n_estimators=200; total time=   0.4s\n",
      "[CV] END bootstrap=False, class_weight=None, criterion=gini, max_depth=50, max_features=sqrt, min_samples_leaf=1, min_samples_split=10, n_estimators=200; total time=   0.4s\n",
      "[CV] END bootstrap=False, class_weight=None, criterion=gini, max_depth=50, max_features=sqrt, min_samples_leaf=1, min_samples_split=10, n_estimators=200; total time=   0.4s\n",
      "[CV] END bootstrap=False, class_weight=None, criterion=gini, max_depth=50, max_features=sqrt, min_samples_leaf=1, min_samples_split=10, n_estimators=200; total time=   0.4s\n",
      "[CV] END bootstrap=False, class_weight=None, criterion=gini, max_depth=50, max_features=sqrt, min_samples_leaf=1, min_samples_split=10, n_estimators=200; total time=   0.4s\n",
      "[CV] END bootstrap=False, class_weight=balanced, criterion=entropy, max_depth=10, max_features=sqrt, min_samples_leaf=4, min_samples_split=10, n_estimators=600; total time=   1.2s\n",
      "[CV] END bootstrap=False, class_weight=balanced, criterion=entropy, max_depth=10, max_features=sqrt, min_samples_leaf=4, min_samples_split=10, n_estimators=600; total time=   1.2s\n",
      "[CV] END bootstrap=False, class_weight=balanced, criterion=entropy, max_depth=10, max_features=sqrt, min_samples_leaf=4, min_samples_split=10, n_estimators=600; total time=   1.4s\n",
      "[CV] END bootstrap=False, class_weight=balanced, criterion=entropy, max_depth=10, max_features=sqrt, min_samples_leaf=4, min_samples_split=10, n_estimators=600; total time=   1.3s\n",
      "[CV] END bootstrap=False, class_weight=balanced, criterion=entropy, max_depth=10, max_features=sqrt, min_samples_leaf=4, min_samples_split=10, n_estimators=600; total time=   1.3s\n",
      "[CV] END bootstrap=False, class_weight=balanced, criterion=entropy, max_depth=20, max_features=sqrt, min_samples_leaf=2, min_samples_split=10, n_estimators=900; total time=   1.9s\n",
      "[CV] END bootstrap=False, class_weight=balanced, criterion=entropy, max_depth=20, max_features=sqrt, min_samples_leaf=2, min_samples_split=10, n_estimators=900; total time=   1.8s\n",
      "[CV] END bootstrap=False, class_weight=balanced, criterion=entropy, max_depth=20, max_features=sqrt, min_samples_leaf=2, min_samples_split=10, n_estimators=900; total time=   1.8s\n",
      "[CV] END bootstrap=False, class_weight=balanced, criterion=entropy, max_depth=20, max_features=sqrt, min_samples_leaf=2, min_samples_split=10, n_estimators=900; total time=   1.9s\n",
      "[CV] END bootstrap=False, class_weight=balanced, criterion=entropy, max_depth=20, max_features=sqrt, min_samples_leaf=2, min_samples_split=10, n_estimators=900; total time=   1.9s\n",
      "[CV] END bootstrap=True, class_weight=None, criterion=entropy, max_depth=40, max_features=sqrt, min_samples_leaf=1, min_samples_split=2, n_estimators=900; total time=   2.2s\n",
      "[CV] END bootstrap=True, class_weight=None, criterion=entropy, max_depth=40, max_features=sqrt, min_samples_leaf=1, min_samples_split=2, n_estimators=900; total time=   2.2s\n",
      "[CV] END bootstrap=True, class_weight=None, criterion=entropy, max_depth=40, max_features=sqrt, min_samples_leaf=1, min_samples_split=2, n_estimators=900; total time=   2.3s\n",
      "[CV] END bootstrap=True, class_weight=None, criterion=entropy, max_depth=40, max_features=sqrt, min_samples_leaf=1, min_samples_split=2, n_estimators=900; total time=   2.2s\n",
      "[CV] END bootstrap=True, class_weight=None, criterion=entropy, max_depth=40, max_features=sqrt, min_samples_leaf=1, min_samples_split=2, n_estimators=900; total time=   2.2s\n",
      "[CV] END bootstrap=False, class_weight=None, criterion=gini, max_depth=50, max_features=sqrt, min_samples_leaf=2, min_samples_split=2, n_estimators=600; total time=   1.1s\n",
      "[CV] END bootstrap=False, class_weight=None, criterion=gini, max_depth=50, max_features=sqrt, min_samples_leaf=2, min_samples_split=2, n_estimators=600; total time=   1.1s\n",
      "[CV] END bootstrap=False, class_weight=None, criterion=gini, max_depth=50, max_features=sqrt, min_samples_leaf=2, min_samples_split=2, n_estimators=600; total time=   1.2s\n",
      "[CV] END bootstrap=False, class_weight=None, criterion=gini, max_depth=50, max_features=sqrt, min_samples_leaf=2, min_samples_split=2, n_estimators=600; total time=   1.2s\n",
      "[CV] END bootstrap=False, class_weight=None, criterion=gini, max_depth=50, max_features=sqrt, min_samples_leaf=2, min_samples_split=2, n_estimators=600; total time=   1.1s\n",
      "[CV] END bootstrap=True, class_weight=None, criterion=gini, max_depth=60, max_features=sqrt, min_samples_leaf=1, min_samples_split=2, n_estimators=600; total time=   1.5s\n",
      "[CV] END bootstrap=True, class_weight=None, criterion=gini, max_depth=60, max_features=sqrt, min_samples_leaf=1, min_samples_split=2, n_estimators=600; total time=   1.4s\n",
      "[CV] END bootstrap=True, class_weight=None, criterion=gini, max_depth=60, max_features=sqrt, min_samples_leaf=1, min_samples_split=2, n_estimators=600; total time=   1.5s\n",
      "[CV] END bootstrap=True, class_weight=None, criterion=gini, max_depth=60, max_features=sqrt, min_samples_leaf=1, min_samples_split=2, n_estimators=600; total time=   1.4s\n",
      "[CV] END bootstrap=True, class_weight=None, criterion=gini, max_depth=60, max_features=sqrt, min_samples_leaf=1, min_samples_split=2, n_estimators=600; total time=   1.4s\n",
      "[CV] END bootstrap=True, class_weight=balanced_subsample, criterion=gini, max_depth=90, max_features=sqrt, min_samples_leaf=1, min_samples_split=10, n_estimators=900; total time=   2.7s\n",
      "[CV] END bootstrap=True, class_weight=balanced_subsample, criterion=gini, max_depth=90, max_features=sqrt, min_samples_leaf=1, min_samples_split=10, n_estimators=900; total time=   2.7s\n",
      "[CV] END bootstrap=True, class_weight=balanced_subsample, criterion=gini, max_depth=90, max_features=sqrt, min_samples_leaf=1, min_samples_split=10, n_estimators=900; total time=   2.7s\n",
      "[CV] END bootstrap=True, class_weight=balanced_subsample, criterion=gini, max_depth=90, max_features=sqrt, min_samples_leaf=1, min_samples_split=10, n_estimators=900; total time=   2.8s\n",
      "[CV] END bootstrap=True, class_weight=balanced_subsample, criterion=gini, max_depth=90, max_features=sqrt, min_samples_leaf=1, min_samples_split=10, n_estimators=900; total time=   2.7s\n",
      "[CV] END bootstrap=False, class_weight=balanced_subsample, criterion=entropy, max_depth=80, max_features=sqrt, min_samples_leaf=1, min_samples_split=5, n_estimators=600; total time=   1.3s\n",
      "[CV] END bootstrap=False, class_weight=balanced_subsample, criterion=entropy, max_depth=80, max_features=sqrt, min_samples_leaf=1, min_samples_split=5, n_estimators=600; total time=   1.3s\n",
      "[CV] END bootstrap=False, class_weight=balanced_subsample, criterion=entropy, max_depth=80, max_features=sqrt, min_samples_leaf=1, min_samples_split=5, n_estimators=600; total time=   1.2s\n",
      "[CV] END bootstrap=False, class_weight=balanced_subsample, criterion=entropy, max_depth=80, max_features=sqrt, min_samples_leaf=1, min_samples_split=5, n_estimators=600; total time=   1.2s\n",
      "[CV] END bootstrap=False, class_weight=balanced_subsample, criterion=entropy, max_depth=80, max_features=sqrt, min_samples_leaf=1, min_samples_split=5, n_estimators=600; total time=   1.2s\n",
      "[CV] END bootstrap=False, class_weight=None, criterion=gini, max_depth=10, max_features=sqrt, min_samples_leaf=2, min_samples_split=2, n_estimators=700; total time=   1.3s\n",
      "[CV] END bootstrap=False, class_weight=None, criterion=gini, max_depth=10, max_features=sqrt, min_samples_leaf=2, min_samples_split=2, n_estimators=700; total time=   1.3s\n",
      "[CV] END bootstrap=False, class_weight=None, criterion=gini, max_depth=10, max_features=sqrt, min_samples_leaf=2, min_samples_split=2, n_estimators=700; total time=   1.3s\n",
      "[CV] END bootstrap=False, class_weight=None, criterion=gini, max_depth=10, max_features=sqrt, min_samples_leaf=2, min_samples_split=2, n_estimators=700; total time=   1.4s\n",
      "[CV] END bootstrap=False, class_weight=None, criterion=gini, max_depth=10, max_features=sqrt, min_samples_leaf=2, min_samples_split=2, n_estimators=700; total time=   1.3s\n",
      "[CV] END bootstrap=True, class_weight=balanced_subsample, criterion=entropy, max_depth=60, max_features=sqrt, min_samples_leaf=1, min_samples_split=10, n_estimators=200; total time=   0.6s\n",
      "[CV] END bootstrap=True, class_weight=balanced_subsample, criterion=entropy, max_depth=60, max_features=sqrt, min_samples_leaf=1, min_samples_split=10, n_estimators=200; total time=   0.6s\n",
      "[CV] END bootstrap=True, class_weight=balanced_subsample, criterion=entropy, max_depth=60, max_features=sqrt, min_samples_leaf=1, min_samples_split=10, n_estimators=200; total time=   0.6s\n",
      "[CV] END bootstrap=True, class_weight=balanced_subsample, criterion=entropy, max_depth=60, max_features=sqrt, min_samples_leaf=1, min_samples_split=10, n_estimators=200; total time=   0.6s\n",
      "[CV] END bootstrap=True, class_weight=balanced_subsample, criterion=entropy, max_depth=60, max_features=sqrt, min_samples_leaf=1, min_samples_split=10, n_estimators=200; total time=   0.6s\n",
      "[CV] END bootstrap=False, class_weight=balanced, criterion=entropy, max_depth=80, max_features=sqrt, min_samples_leaf=1, min_samples_split=5, n_estimators=300; total time=   0.6s\n",
      "[CV] END bootstrap=False, class_weight=balanced, criterion=entropy, max_depth=80, max_features=sqrt, min_samples_leaf=1, min_samples_split=5, n_estimators=300; total time=   0.6s\n",
      "[CV] END bootstrap=False, class_weight=balanced, criterion=entropy, max_depth=80, max_features=sqrt, min_samples_leaf=1, min_samples_split=5, n_estimators=300; total time=   0.6s\n",
      "[CV] END bootstrap=False, class_weight=balanced, criterion=entropy, max_depth=80, max_features=sqrt, min_samples_leaf=1, min_samples_split=5, n_estimators=300; total time=   0.6s\n",
      "[CV] END bootstrap=False, class_weight=balanced, criterion=entropy, max_depth=80, max_features=sqrt, min_samples_leaf=1, min_samples_split=5, n_estimators=300; total time=   0.7s\n",
      "[CV] END bootstrap=False, class_weight=balanced_subsample, criterion=entropy, max_depth=20, max_features=sqrt, min_samples_leaf=2, min_samples_split=10, n_estimators=500; total time=   1.1s\n",
      "[CV] END bootstrap=False, class_weight=balanced_subsample, criterion=entropy, max_depth=20, max_features=sqrt, min_samples_leaf=2, min_samples_split=10, n_estimators=500; total time=   1.0s\n",
      "[CV] END bootstrap=False, class_weight=balanced_subsample, criterion=entropy, max_depth=20, max_features=sqrt, min_samples_leaf=2, min_samples_split=10, n_estimators=500; total time=   1.0s\n",
      "[CV] END bootstrap=False, class_weight=balanced_subsample, criterion=entropy, max_depth=20, max_features=sqrt, min_samples_leaf=2, min_samples_split=10, n_estimators=500; total time=   1.0s\n",
      "[CV] END bootstrap=False, class_weight=balanced_subsample, criterion=entropy, max_depth=20, max_features=sqrt, min_samples_leaf=2, min_samples_split=10, n_estimators=500; total time=   1.0s\n",
      "[CV] END bootstrap=True, class_weight=balanced_subsample, criterion=gini, max_depth=100, max_features=sqrt, min_samples_leaf=1, min_samples_split=10, n_estimators=600; total time=   1.7s\n",
      "[CV] END bootstrap=True, class_weight=balanced_subsample, criterion=gini, max_depth=100, max_features=sqrt, min_samples_leaf=1, min_samples_split=10, n_estimators=600; total time=   1.8s\n",
      "[CV] END bootstrap=True, class_weight=balanced_subsample, criterion=gini, max_depth=100, max_features=sqrt, min_samples_leaf=1, min_samples_split=10, n_estimators=600; total time=   1.9s\n",
      "[CV] END bootstrap=True, class_weight=balanced_subsample, criterion=gini, max_depth=100, max_features=sqrt, min_samples_leaf=1, min_samples_split=10, n_estimators=600; total time=   1.8s\n",
      "[CV] END bootstrap=True, class_weight=balanced_subsample, criterion=gini, max_depth=100, max_features=sqrt, min_samples_leaf=1, min_samples_split=10, n_estimators=600; total time=   1.7s\n",
      "[CV] END bootstrap=False, class_weight=balanced, criterion=entropy, max_depth=20, max_features=sqrt, min_samples_leaf=1, min_samples_split=5, n_estimators=300; total time=   0.6s\n",
      "[CV] END bootstrap=False, class_weight=balanced, criterion=entropy, max_depth=20, max_features=sqrt, min_samples_leaf=1, min_samples_split=5, n_estimators=300; total time=   0.6s\n",
      "[CV] END bootstrap=False, class_weight=balanced, criterion=entropy, max_depth=20, max_features=sqrt, min_samples_leaf=1, min_samples_split=5, n_estimators=300; total time=   0.6s\n",
      "[CV] END bootstrap=False, class_weight=balanced, criterion=entropy, max_depth=20, max_features=sqrt, min_samples_leaf=1, min_samples_split=5, n_estimators=300; total time=   0.6s\n",
      "[CV] END bootstrap=False, class_weight=balanced, criterion=entropy, max_depth=20, max_features=sqrt, min_samples_leaf=1, min_samples_split=5, n_estimators=300; total time=   0.6s\n",
      "[CV] END bootstrap=True, class_weight=None, criterion=entropy, max_depth=60, max_features=sqrt, min_samples_leaf=1, min_samples_split=5, n_estimators=600; total time=   1.5s\n",
      "[CV] END bootstrap=True, class_weight=None, criterion=entropy, max_depth=60, max_features=sqrt, min_samples_leaf=1, min_samples_split=5, n_estimators=600; total time=   1.4s\n",
      "[CV] END bootstrap=True, class_weight=None, criterion=entropy, max_depth=60, max_features=sqrt, min_samples_leaf=1, min_samples_split=5, n_estimators=600; total time=   1.5s\n",
      "[CV] END bootstrap=True, class_weight=None, criterion=entropy, max_depth=60, max_features=sqrt, min_samples_leaf=1, min_samples_split=5, n_estimators=600; total time=   1.5s\n",
      "[CV] END bootstrap=True, class_weight=None, criterion=entropy, max_depth=60, max_features=sqrt, min_samples_leaf=1, min_samples_split=5, n_estimators=600; total time=   1.5s\n",
      "[CV] END bootstrap=False, class_weight=balanced, criterion=entropy, max_depth=90, max_features=sqrt, min_samples_leaf=1, min_samples_split=5, n_estimators=200; total time=   0.4s\n",
      "[CV] END bootstrap=False, class_weight=balanced, criterion=entropy, max_depth=90, max_features=sqrt, min_samples_leaf=1, min_samples_split=5, n_estimators=200; total time=   0.4s\n",
      "[CV] END bootstrap=False, class_weight=balanced, criterion=entropy, max_depth=90, max_features=sqrt, min_samples_leaf=1, min_samples_split=5, n_estimators=200; total time=   0.4s\n",
      "[CV] END bootstrap=False, class_weight=balanced, criterion=entropy, max_depth=90, max_features=sqrt, min_samples_leaf=1, min_samples_split=5, n_estimators=200; total time=   0.4s\n",
      "[CV] END bootstrap=False, class_weight=balanced, criterion=entropy, max_depth=90, max_features=sqrt, min_samples_leaf=1, min_samples_split=5, n_estimators=200; total time=   0.4s\n",
      "[CV] END bootstrap=False, class_weight=balanced, criterion=entropy, max_depth=40, max_features=sqrt, min_samples_leaf=1, min_samples_split=2, n_estimators=800; total time=   1.6s\n",
      "[CV] END bootstrap=False, class_weight=balanced, criterion=entropy, max_depth=40, max_features=sqrt, min_samples_leaf=1, min_samples_split=2, n_estimators=800; total time=   1.6s\n",
      "[CV] END bootstrap=False, class_weight=balanced, criterion=entropy, max_depth=40, max_features=sqrt, min_samples_leaf=1, min_samples_split=2, n_estimators=800; total time=   1.7s\n",
      "[CV] END bootstrap=False, class_weight=balanced, criterion=entropy, max_depth=40, max_features=sqrt, min_samples_leaf=1, min_samples_split=2, n_estimators=800; total time=   1.6s\n",
      "[CV] END bootstrap=False, class_weight=balanced, criterion=entropy, max_depth=40, max_features=sqrt, min_samples_leaf=1, min_samples_split=2, n_estimators=800; total time=   1.6s\n",
      "[CV] END bootstrap=False, class_weight=balanced_subsample, criterion=entropy, max_depth=60, max_features=sqrt, min_samples_leaf=1, min_samples_split=2, n_estimators=200; total time=   0.4s\n",
      "[CV] END bootstrap=False, class_weight=balanced_subsample, criterion=entropy, max_depth=60, max_features=sqrt, min_samples_leaf=1, min_samples_split=2, n_estimators=200; total time=   0.4s\n",
      "[CV] END bootstrap=False, class_weight=balanced_subsample, criterion=entropy, max_depth=60, max_features=sqrt, min_samples_leaf=1, min_samples_split=2, n_estimators=200; total time=   0.4s\n",
      "[CV] END bootstrap=False, class_weight=balanced_subsample, criterion=entropy, max_depth=60, max_features=sqrt, min_samples_leaf=1, min_samples_split=2, n_estimators=200; total time=   0.4s\n",
      "[CV] END bootstrap=False, class_weight=balanced_subsample, criterion=entropy, max_depth=60, max_features=sqrt, min_samples_leaf=1, min_samples_split=2, n_estimators=200; total time=   0.4s\n",
      "[CV] END bootstrap=False, class_weight=balanced, criterion=entropy, max_depth=70, max_features=sqrt, min_samples_leaf=1, min_samples_split=10, n_estimators=800; total time=   1.7s\n",
      "[CV] END bootstrap=False, class_weight=balanced, criterion=entropy, max_depth=70, max_features=sqrt, min_samples_leaf=1, min_samples_split=10, n_estimators=800; total time=   1.7s\n",
      "[CV] END bootstrap=False, class_weight=balanced, criterion=entropy, max_depth=70, max_features=sqrt, min_samples_leaf=1, min_samples_split=10, n_estimators=800; total time=   1.6s\n",
      "[CV] END bootstrap=False, class_weight=balanced, criterion=entropy, max_depth=70, max_features=sqrt, min_samples_leaf=1, min_samples_split=10, n_estimators=800; total time=   1.6s\n",
      "[CV] END bootstrap=False, class_weight=balanced, criterion=entropy, max_depth=70, max_features=sqrt, min_samples_leaf=1, min_samples_split=10, n_estimators=800; total time=   1.6s\n",
      "[CV] END bootstrap=True, class_weight=None, criterion=gini, max_depth=70, max_features=sqrt, min_samples_leaf=4, min_samples_split=2, n_estimators=400; total time=   0.9s\n",
      "[CV] END bootstrap=True, class_weight=None, criterion=gini, max_depth=70, max_features=sqrt, min_samples_leaf=4, min_samples_split=2, n_estimators=400; total time=   1.0s\n",
      "[CV] END bootstrap=True, class_weight=None, criterion=gini, max_depth=70, max_features=sqrt, min_samples_leaf=4, min_samples_split=2, n_estimators=400; total time=   0.9s\n",
      "[CV] END bootstrap=True, class_weight=None, criterion=gini, max_depth=70, max_features=sqrt, min_samples_leaf=4, min_samples_split=2, n_estimators=400; total time=   0.9s\n",
      "[CV] END bootstrap=True, class_weight=None, criterion=gini, max_depth=70, max_features=sqrt, min_samples_leaf=4, min_samples_split=2, n_estimators=400; total time=   1.0s\n",
      "[CV] END bootstrap=False, class_weight=None, criterion=entropy, max_depth=50, max_features=sqrt, min_samples_leaf=1, min_samples_split=10, n_estimators=400; total time=   0.8s\n",
      "[CV] END bootstrap=False, class_weight=None, criterion=entropy, max_depth=50, max_features=sqrt, min_samples_leaf=1, min_samples_split=10, n_estimators=400; total time=   0.8s\n",
      "[CV] END bootstrap=False, class_weight=None, criterion=entropy, max_depth=50, max_features=sqrt, min_samples_leaf=1, min_samples_split=10, n_estimators=400; total time=   0.8s\n",
      "[CV] END bootstrap=False, class_weight=None, criterion=entropy, max_depth=50, max_features=sqrt, min_samples_leaf=1, min_samples_split=10, n_estimators=400; total time=   0.8s\n",
      "[CV] END bootstrap=False, class_weight=None, criterion=entropy, max_depth=50, max_features=sqrt, min_samples_leaf=1, min_samples_split=10, n_estimators=400; total time=   0.8s\n",
      "[CV] END bootstrap=True, class_weight=balanced, criterion=gini, max_depth=50, max_features=sqrt, min_samples_leaf=1, min_samples_split=5, n_estimators=600; total time=   1.5s\n",
      "[CV] END bootstrap=True, class_weight=balanced, criterion=gini, max_depth=50, max_features=sqrt, min_samples_leaf=1, min_samples_split=5, n_estimators=600; total time=   1.4s\n",
      "[CV] END bootstrap=True, class_weight=balanced, criterion=gini, max_depth=50, max_features=sqrt, min_samples_leaf=1, min_samples_split=5, n_estimators=600; total time=   1.4s\n",
      "[CV] END bootstrap=True, class_weight=balanced, criterion=gini, max_depth=50, max_features=sqrt, min_samples_leaf=1, min_samples_split=5, n_estimators=600; total time=   1.5s\n",
      "[CV] END bootstrap=True, class_weight=balanced, criterion=gini, max_depth=50, max_features=sqrt, min_samples_leaf=1, min_samples_split=5, n_estimators=600; total time=   1.5s\n",
      "[CV] END bootstrap=True, class_weight=balanced, criterion=entropy, max_depth=70, max_features=sqrt, min_samples_leaf=1, min_samples_split=10, n_estimators=500; total time=   1.2s\n",
      "[CV] END bootstrap=True, class_weight=balanced, criterion=entropy, max_depth=70, max_features=sqrt, min_samples_leaf=1, min_samples_split=10, n_estimators=500; total time=   1.2s\n",
      "[CV] END bootstrap=True, class_weight=balanced, criterion=entropy, max_depth=70, max_features=sqrt, min_samples_leaf=1, min_samples_split=10, n_estimators=500; total time=   1.2s\n",
      "[CV] END bootstrap=True, class_weight=balanced, criterion=entropy, max_depth=70, max_features=sqrt, min_samples_leaf=1, min_samples_split=10, n_estimators=500; total time=   1.2s\n",
      "[CV] END bootstrap=True, class_weight=balanced, criterion=entropy, max_depth=70, max_features=sqrt, min_samples_leaf=1, min_samples_split=10, n_estimators=500; total time=   1.2s\n",
      "[CV] END bootstrap=False, class_weight=balanced, criterion=entropy, max_depth=100, max_features=sqrt, min_samples_leaf=4, min_samples_split=10, n_estimators=300; total time=   0.6s\n",
      "[CV] END bootstrap=False, class_weight=balanced, criterion=entropy, max_depth=100, max_features=sqrt, min_samples_leaf=4, min_samples_split=10, n_estimators=300; total time=   0.6s\n",
      "[CV] END bootstrap=False, class_weight=balanced, criterion=entropy, max_depth=100, max_features=sqrt, min_samples_leaf=4, min_samples_split=10, n_estimators=300; total time=   0.6s\n",
      "[CV] END bootstrap=False, class_weight=balanced, criterion=entropy, max_depth=100, max_features=sqrt, min_samples_leaf=4, min_samples_split=10, n_estimators=300; total time=   0.6s\n",
      "[CV] END bootstrap=False, class_weight=balanced, criterion=entropy, max_depth=100, max_features=sqrt, min_samples_leaf=4, min_samples_split=10, n_estimators=300; total time=   0.6s\n",
      "[CV] END bootstrap=False, class_weight=None, criterion=gini, max_depth=100, max_features=sqrt, min_samples_leaf=4, min_samples_split=10, n_estimators=700; total time=   1.3s\n",
      "[CV] END bootstrap=False, class_weight=None, criterion=gini, max_depth=100, max_features=sqrt, min_samples_leaf=4, min_samples_split=10, n_estimators=700; total time=   1.3s\n",
      "[CV] END bootstrap=False, class_weight=None, criterion=gini, max_depth=100, max_features=sqrt, min_samples_leaf=4, min_samples_split=10, n_estimators=700; total time=   1.3s\n",
      "[CV] END bootstrap=False, class_weight=None, criterion=gini, max_depth=100, max_features=sqrt, min_samples_leaf=4, min_samples_split=10, n_estimators=700; total time=   1.3s\n",
      "[CV] END bootstrap=False, class_weight=None, criterion=gini, max_depth=100, max_features=sqrt, min_samples_leaf=4, min_samples_split=10, n_estimators=700; total time=   1.3s\n",
      "[CV] END bootstrap=False, class_weight=balanced_subsample, criterion=entropy, max_depth=80, max_features=sqrt, min_samples_leaf=2, min_samples_split=10, n_estimators=700; total time=   1.5s\n",
      "[CV] END bootstrap=False, class_weight=balanced_subsample, criterion=entropy, max_depth=80, max_features=sqrt, min_samples_leaf=2, min_samples_split=10, n_estimators=700; total time=   1.4s\n",
      "[CV] END bootstrap=False, class_weight=balanced_subsample, criterion=entropy, max_depth=80, max_features=sqrt, min_samples_leaf=2, min_samples_split=10, n_estimators=700; total time=   1.5s\n",
      "[CV] END bootstrap=False, class_weight=balanced_subsample, criterion=entropy, max_depth=80, max_features=sqrt, min_samples_leaf=2, min_samples_split=10, n_estimators=700; total time=   1.5s\n",
      "[CV] END bootstrap=False, class_weight=balanced_subsample, criterion=entropy, max_depth=80, max_features=sqrt, min_samples_leaf=2, min_samples_split=10, n_estimators=700; total time=   1.5s\n",
      "[CV] END bootstrap=False, class_weight=balanced_subsample, criterion=gini, max_depth=90, max_features=sqrt, min_samples_leaf=2, min_samples_split=2, n_estimators=800; total time=   1.6s\n",
      "[CV] END bootstrap=False, class_weight=balanced_subsample, criterion=gini, max_depth=90, max_features=sqrt, min_samples_leaf=2, min_samples_split=2, n_estimators=800; total time=   1.6s\n",
      "[CV] END bootstrap=False, class_weight=balanced_subsample, criterion=gini, max_depth=90, max_features=sqrt, min_samples_leaf=2, min_samples_split=2, n_estimators=800; total time=   1.6s\n",
      "[CV] END bootstrap=False, class_weight=balanced_subsample, criterion=gini, max_depth=90, max_features=sqrt, min_samples_leaf=2, min_samples_split=2, n_estimators=800; total time=   1.6s\n",
      "[CV] END bootstrap=False, class_weight=balanced_subsample, criterion=gini, max_depth=90, max_features=sqrt, min_samples_leaf=2, min_samples_split=2, n_estimators=800; total time=   1.6s\n",
      "[CV] END bootstrap=False, class_weight=balanced_subsample, criterion=entropy, max_depth=40, max_features=sqrt, min_samples_leaf=4, min_samples_split=5, n_estimators=800; total time=   1.6s\n",
      "[CV] END bootstrap=False, class_weight=balanced_subsample, criterion=entropy, max_depth=40, max_features=sqrt, min_samples_leaf=4, min_samples_split=5, n_estimators=800; total time=   1.6s\n",
      "[CV] END bootstrap=False, class_weight=balanced_subsample, criterion=entropy, max_depth=40, max_features=sqrt, min_samples_leaf=4, min_samples_split=5, n_estimators=800; total time=   1.6s\n",
      "[CV] END bootstrap=False, class_weight=balanced_subsample, criterion=entropy, max_depth=40, max_features=sqrt, min_samples_leaf=4, min_samples_split=5, n_estimators=800; total time=   1.6s\n",
      "[CV] END bootstrap=False, class_weight=balanced_subsample, criterion=entropy, max_depth=40, max_features=sqrt, min_samples_leaf=4, min_samples_split=5, n_estimators=800; total time=   1.7s\n",
      "[CV] END bootstrap=False, class_weight=balanced_subsample, criterion=gini, max_depth=80, max_features=sqrt, min_samples_leaf=2, min_samples_split=5, n_estimators=600; total time=   1.2s\n",
      "[CV] END bootstrap=False, class_weight=balanced_subsample, criterion=gini, max_depth=80, max_features=sqrt, min_samples_leaf=2, min_samples_split=5, n_estimators=600; total time=   1.2s\n",
      "[CV] END bootstrap=False, class_weight=balanced_subsample, criterion=gini, max_depth=80, max_features=sqrt, min_samples_leaf=2, min_samples_split=5, n_estimators=600; total time=   1.2s\n",
      "[CV] END bootstrap=False, class_weight=balanced_subsample, criterion=gini, max_depth=80, max_features=sqrt, min_samples_leaf=2, min_samples_split=5, n_estimators=600; total time=   1.3s\n",
      "[CV] END bootstrap=False, class_weight=balanced_subsample, criterion=gini, max_depth=80, max_features=sqrt, min_samples_leaf=2, min_samples_split=5, n_estimators=600; total time=   1.2s\n",
      "[CV] END bootstrap=True, class_weight=balanced, criterion=entropy, max_depth=70, max_features=sqrt, min_samples_leaf=2, min_samples_split=5, n_estimators=800; total time=   2.0s\n",
      "[CV] END bootstrap=True, class_weight=balanced, criterion=entropy, max_depth=70, max_features=sqrt, min_samples_leaf=2, min_samples_split=5, n_estimators=800; total time=   2.1s\n",
      "[CV] END bootstrap=True, class_weight=balanced, criterion=entropy, max_depth=70, max_features=sqrt, min_samples_leaf=2, min_samples_split=5, n_estimators=800; total time=   1.9s\n",
      "[CV] END bootstrap=True, class_weight=balanced, criterion=entropy, max_depth=70, max_features=sqrt, min_samples_leaf=2, min_samples_split=5, n_estimators=800; total time=   2.0s\n",
      "[CV] END bootstrap=True, class_weight=balanced, criterion=entropy, max_depth=70, max_features=sqrt, min_samples_leaf=2, min_samples_split=5, n_estimators=800; total time=   2.0s\n",
      "[CV] END bootstrap=True, class_weight=balanced_subsample, criterion=gini, max_depth=70, max_features=sqrt, min_samples_leaf=2, min_samples_split=2, n_estimators=400; total time=   1.2s\n",
      "[CV] END bootstrap=True, class_weight=balanced_subsample, criterion=gini, max_depth=70, max_features=sqrt, min_samples_leaf=2, min_samples_split=2, n_estimators=400; total time=   1.2s\n",
      "[CV] END bootstrap=True, class_weight=balanced_subsample, criterion=gini, max_depth=70, max_features=sqrt, min_samples_leaf=2, min_samples_split=2, n_estimators=400; total time=   1.2s\n",
      "[CV] END bootstrap=True, class_weight=balanced_subsample, criterion=gini, max_depth=70, max_features=sqrt, min_samples_leaf=2, min_samples_split=2, n_estimators=400; total time=   1.2s\n",
      "[CV] END bootstrap=True, class_weight=balanced_subsample, criterion=gini, max_depth=70, max_features=sqrt, min_samples_leaf=2, min_samples_split=2, n_estimators=400; total time=   1.1s\n",
      "[CV] END bootstrap=True, class_weight=balanced, criterion=entropy, max_depth=40, max_features=sqrt, min_samples_leaf=2, min_samples_split=5, n_estimators=100; total time=   0.3s\n",
      "[CV] END bootstrap=True, class_weight=balanced, criterion=entropy, max_depth=40, max_features=sqrt, min_samples_leaf=2, min_samples_split=5, n_estimators=100; total time=   0.2s\n",
      "[CV] END bootstrap=True, class_weight=balanced, criterion=entropy, max_depth=40, max_features=sqrt, min_samples_leaf=2, min_samples_split=5, n_estimators=100; total time=   0.2s\n",
      "[CV] END bootstrap=True, class_weight=balanced, criterion=entropy, max_depth=40, max_features=sqrt, min_samples_leaf=2, min_samples_split=5, n_estimators=100; total time=   0.2s\n",
      "[CV] END bootstrap=True, class_weight=balanced, criterion=entropy, max_depth=40, max_features=sqrt, min_samples_leaf=2, min_samples_split=5, n_estimators=100; total time=   0.2s\n",
      "[CV] END bootstrap=False, class_weight=balanced, criterion=entropy, max_depth=20, max_features=sqrt, min_samples_leaf=4, min_samples_split=5, n_estimators=900; total time=   1.8s\n",
      "[CV] END bootstrap=False, class_weight=balanced, criterion=entropy, max_depth=20, max_features=sqrt, min_samples_leaf=4, min_samples_split=5, n_estimators=900; total time=   1.8s\n",
      "[CV] END bootstrap=False, class_weight=balanced, criterion=entropy, max_depth=20, max_features=sqrt, min_samples_leaf=4, min_samples_split=5, n_estimators=900; total time=   1.8s\n",
      "[CV] END bootstrap=False, class_weight=balanced, criterion=entropy, max_depth=20, max_features=sqrt, min_samples_leaf=4, min_samples_split=5, n_estimators=900; total time=   1.8s\n",
      "[CV] END bootstrap=False, class_weight=balanced, criterion=entropy, max_depth=20, max_features=sqrt, min_samples_leaf=4, min_samples_split=5, n_estimators=900; total time=   1.8s\n",
      "[CV] END bootstrap=True, class_weight=balanced, criterion=entropy, max_depth=60, max_features=sqrt, min_samples_leaf=4, min_samples_split=10, n_estimators=200; total time=   0.5s\n",
      "[CV] END bootstrap=True, class_weight=balanced, criterion=entropy, max_depth=60, max_features=sqrt, min_samples_leaf=4, min_samples_split=10, n_estimators=200; total time=   0.5s\n",
      "[CV] END bootstrap=True, class_weight=balanced, criterion=entropy, max_depth=60, max_features=sqrt, min_samples_leaf=4, min_samples_split=10, n_estimators=200; total time=   0.5s\n",
      "[CV] END bootstrap=True, class_weight=balanced, criterion=entropy, max_depth=60, max_features=sqrt, min_samples_leaf=4, min_samples_split=10, n_estimators=200; total time=   0.5s\n",
      "[CV] END bootstrap=True, class_weight=balanced, criterion=entropy, max_depth=60, max_features=sqrt, min_samples_leaf=4, min_samples_split=10, n_estimators=200; total time=   0.5s\n",
      "[CV] END bootstrap=True, class_weight=balanced_subsample, criterion=entropy, max_depth=10, max_features=sqrt, min_samples_leaf=1, min_samples_split=2, n_estimators=600; total time=   1.7s\n",
      "[CV] END bootstrap=True, class_weight=balanced_subsample, criterion=entropy, max_depth=10, max_features=sqrt, min_samples_leaf=1, min_samples_split=2, n_estimators=600; total time=   1.7s\n",
      "[CV] END bootstrap=True, class_weight=balanced_subsample, criterion=entropy, max_depth=10, max_features=sqrt, min_samples_leaf=1, min_samples_split=2, n_estimators=600; total time=   1.8s\n",
      "[CV] END bootstrap=True, class_weight=balanced_subsample, criterion=entropy, max_depth=10, max_features=sqrt, min_samples_leaf=1, min_samples_split=2, n_estimators=600; total time=   1.9s\n",
      "[CV] END bootstrap=True, class_weight=balanced_subsample, criterion=entropy, max_depth=10, max_features=sqrt, min_samples_leaf=1, min_samples_split=2, n_estimators=600; total time=   1.8s\n",
      "[CV] END bootstrap=False, class_weight=None, criterion=entropy, max_depth=80, max_features=sqrt, min_samples_leaf=2, min_samples_split=5, n_estimators=800; total time=   1.6s\n",
      "[CV] END bootstrap=False, class_weight=None, criterion=entropy, max_depth=80, max_features=sqrt, min_samples_leaf=2, min_samples_split=5, n_estimators=800; total time=   1.6s\n",
      "[CV] END bootstrap=False, class_weight=None, criterion=entropy, max_depth=80, max_features=sqrt, min_samples_leaf=2, min_samples_split=5, n_estimators=800; total time=   1.6s\n",
      "[CV] END bootstrap=False, class_weight=None, criterion=entropy, max_depth=80, max_features=sqrt, min_samples_leaf=2, min_samples_split=5, n_estimators=800; total time=   1.6s\n",
      "[CV] END bootstrap=False, class_weight=None, criterion=entropy, max_depth=80, max_features=sqrt, min_samples_leaf=2, min_samples_split=5, n_estimators=800; total time=   1.5s\n",
      "[CV] END bootstrap=True, class_weight=balanced, criterion=gini, max_depth=20, max_features=sqrt, min_samples_leaf=1, min_samples_split=10, n_estimators=100; total time=   0.2s\n",
      "[CV] END bootstrap=True, class_weight=balanced, criterion=gini, max_depth=20, max_features=sqrt, min_samples_leaf=1, min_samples_split=10, n_estimators=100; total time=   0.2s\n",
      "[CV] END bootstrap=True, class_weight=balanced, criterion=gini, max_depth=20, max_features=sqrt, min_samples_leaf=1, min_samples_split=10, n_estimators=100; total time=   0.2s\n",
      "[CV] END bootstrap=True, class_weight=balanced, criterion=gini, max_depth=20, max_features=sqrt, min_samples_leaf=1, min_samples_split=10, n_estimators=100; total time=   0.2s\n",
      "[CV] END bootstrap=True, class_weight=balanced, criterion=gini, max_depth=20, max_features=sqrt, min_samples_leaf=1, min_samples_split=10, n_estimators=100; total time=   0.2s\n",
      "[CV] END bootstrap=True, class_weight=None, criterion=gini, max_depth=70, max_features=sqrt, min_samples_leaf=4, min_samples_split=10, n_estimators=900; total time=   2.1s\n",
      "[CV] END bootstrap=True, class_weight=None, criterion=gini, max_depth=70, max_features=sqrt, min_samples_leaf=4, min_samples_split=10, n_estimators=900; total time=   2.2s\n",
      "[CV] END bootstrap=True, class_weight=None, criterion=gini, max_depth=70, max_features=sqrt, min_samples_leaf=4, min_samples_split=10, n_estimators=900; total time=   2.2s\n",
      "[CV] END bootstrap=True, class_weight=None, criterion=gini, max_depth=70, max_features=sqrt, min_samples_leaf=4, min_samples_split=10, n_estimators=900; total time=   2.2s\n",
      "[CV] END bootstrap=True, class_weight=None, criterion=gini, max_depth=70, max_features=sqrt, min_samples_leaf=4, min_samples_split=10, n_estimators=900; total time=   2.1s\n",
      "[CV] END bootstrap=False, class_weight=balanced, criterion=gini, max_depth=90, max_features=sqrt, min_samples_leaf=2, min_samples_split=2, n_estimators=400; total time=   0.8s\n",
      "[CV] END bootstrap=False, class_weight=balanced, criterion=gini, max_depth=90, max_features=sqrt, min_samples_leaf=2, min_samples_split=2, n_estimators=400; total time=   0.8s\n",
      "[CV] END bootstrap=False, class_weight=balanced, criterion=gini, max_depth=90, max_features=sqrt, min_samples_leaf=2, min_samples_split=2, n_estimators=400; total time=   0.9s\n",
      "[CV] END bootstrap=False, class_weight=balanced, criterion=gini, max_depth=90, max_features=sqrt, min_samples_leaf=2, min_samples_split=2, n_estimators=400; total time=   0.8s\n",
      "[CV] END bootstrap=False, class_weight=balanced, criterion=gini, max_depth=90, max_features=sqrt, min_samples_leaf=2, min_samples_split=2, n_estimators=400; total time=   0.8s\n",
      "[CV] END bootstrap=True, class_weight=balanced_subsample, criterion=gini, max_depth=70, max_features=sqrt, min_samples_leaf=4, min_samples_split=2, n_estimators=600; total time=   1.7s\n",
      "[CV] END bootstrap=True, class_weight=balanced_subsample, criterion=gini, max_depth=70, max_features=sqrt, min_samples_leaf=4, min_samples_split=2, n_estimators=600; total time=   1.8s\n",
      "[CV] END bootstrap=True, class_weight=balanced_subsample, criterion=gini, max_depth=70, max_features=sqrt, min_samples_leaf=4, min_samples_split=2, n_estimators=600; total time=   1.8s\n",
      "[CV] END bootstrap=True, class_weight=balanced_subsample, criterion=gini, max_depth=70, max_features=sqrt, min_samples_leaf=4, min_samples_split=2, n_estimators=600; total time=   1.8s\n",
      "[CV] END bootstrap=True, class_weight=balanced_subsample, criterion=gini, max_depth=70, max_features=sqrt, min_samples_leaf=4, min_samples_split=2, n_estimators=600; total time=   1.7s\n",
      "[CV] END bootstrap=False, class_weight=None, criterion=entropy, max_depth=50, max_features=sqrt, min_samples_leaf=1, min_samples_split=5, n_estimators=200; total time=   0.4s\n",
      "[CV] END bootstrap=False, class_weight=None, criterion=entropy, max_depth=50, max_features=sqrt, min_samples_leaf=1, min_samples_split=5, n_estimators=200; total time=   0.4s\n",
      "[CV] END bootstrap=False, class_weight=None, criterion=entropy, max_depth=50, max_features=sqrt, min_samples_leaf=1, min_samples_split=5, n_estimators=200; total time=   0.4s\n",
      "[CV] END bootstrap=False, class_weight=None, criterion=entropy, max_depth=50, max_features=sqrt, min_samples_leaf=1, min_samples_split=5, n_estimators=200; total time=   0.4s\n",
      "[CV] END bootstrap=False, class_weight=None, criterion=entropy, max_depth=50, max_features=sqrt, min_samples_leaf=1, min_samples_split=5, n_estimators=200; total time=   0.4s\n",
      "[CV] END bootstrap=False, class_weight=balanced, criterion=entropy, max_depth=40, max_features=sqrt, min_samples_leaf=2, min_samples_split=5, n_estimators=500; total time=   1.0s\n",
      "[CV] END bootstrap=False, class_weight=balanced, criterion=entropy, max_depth=40, max_features=sqrt, min_samples_leaf=2, min_samples_split=5, n_estimators=500; total time=   1.1s\n",
      "[CV] END bootstrap=False, class_weight=balanced, criterion=entropy, max_depth=40, max_features=sqrt, min_samples_leaf=2, min_samples_split=5, n_estimators=500; total time=   1.0s\n",
      "[CV] END bootstrap=False, class_weight=balanced, criterion=entropy, max_depth=40, max_features=sqrt, min_samples_leaf=2, min_samples_split=5, n_estimators=500; total time=   1.0s\n",
      "[CV] END bootstrap=False, class_weight=balanced, criterion=entropy, max_depth=40, max_features=sqrt, min_samples_leaf=2, min_samples_split=5, n_estimators=500; total time=   1.0s\n",
      "[CV] END bootstrap=True, class_weight=balanced_subsample, criterion=gini, max_depth=70, max_features=sqrt, min_samples_leaf=2, min_samples_split=2, n_estimators=900; total time=   2.8s\n",
      "[CV] END bootstrap=True, class_weight=balanced_subsample, criterion=gini, max_depth=70, max_features=sqrt, min_samples_leaf=2, min_samples_split=2, n_estimators=900; total time=   2.7s\n",
      "[CV] END bootstrap=True, class_weight=balanced_subsample, criterion=gini, max_depth=70, max_features=sqrt, min_samples_leaf=2, min_samples_split=2, n_estimators=900; total time=   2.7s\n",
      "[CV] END bootstrap=True, class_weight=balanced_subsample, criterion=gini, max_depth=70, max_features=sqrt, min_samples_leaf=2, min_samples_split=2, n_estimators=900; total time=   2.7s\n",
      "[CV] END bootstrap=True, class_weight=balanced_subsample, criterion=gini, max_depth=70, max_features=sqrt, min_samples_leaf=2, min_samples_split=2, n_estimators=900; total time=   2.7s\n",
      "[CV] END bootstrap=True, class_weight=balanced, criterion=gini, max_depth=40, max_features=sqrt, min_samples_leaf=1, min_samples_split=2, n_estimators=900; total time=   2.2s\n",
      "[CV] END bootstrap=True, class_weight=balanced, criterion=gini, max_depth=40, max_features=sqrt, min_samples_leaf=1, min_samples_split=2, n_estimators=900; total time=   2.2s\n",
      "[CV] END bootstrap=True, class_weight=balanced, criterion=gini, max_depth=40, max_features=sqrt, min_samples_leaf=1, min_samples_split=2, n_estimators=900; total time=   2.2s\n",
      "[CV] END bootstrap=True, class_weight=balanced, criterion=gini, max_depth=40, max_features=sqrt, min_samples_leaf=1, min_samples_split=2, n_estimators=900; total time=   2.3s\n",
      "[CV] END bootstrap=True, class_weight=balanced, criterion=gini, max_depth=40, max_features=sqrt, min_samples_leaf=1, min_samples_split=2, n_estimators=900; total time=   2.2s\n",
      "[CV] END bootstrap=False, class_weight=balanced_subsample, criterion=entropy, max_depth=40, max_features=sqrt, min_samples_leaf=2, min_samples_split=5, n_estimators=500; total time=   1.1s\n",
      "[CV] END bootstrap=False, class_weight=balanced_subsample, criterion=entropy, max_depth=40, max_features=sqrt, min_samples_leaf=2, min_samples_split=5, n_estimators=500; total time=   1.0s\n",
      "[CV] END bootstrap=False, class_weight=balanced_subsample, criterion=entropy, max_depth=40, max_features=sqrt, min_samples_leaf=2, min_samples_split=5, n_estimators=500; total time=   1.0s\n",
      "[CV] END bootstrap=False, class_weight=balanced_subsample, criterion=entropy, max_depth=40, max_features=sqrt, min_samples_leaf=2, min_samples_split=5, n_estimators=500; total time=   1.0s\n",
      "[CV] END bootstrap=False, class_weight=balanced_subsample, criterion=entropy, max_depth=40, max_features=sqrt, min_samples_leaf=2, min_samples_split=5, n_estimators=500; total time=   1.0s\n",
      "[CV] END bootstrap=False, class_weight=None, criterion=gini, max_depth=10, max_features=sqrt, min_samples_leaf=4, min_samples_split=5, n_estimators=500; total time=   0.9s\n",
      "[CV] END bootstrap=False, class_weight=None, criterion=gini, max_depth=10, max_features=sqrt, min_samples_leaf=4, min_samples_split=5, n_estimators=500; total time=   0.9s\n",
      "[CV] END bootstrap=False, class_weight=None, criterion=gini, max_depth=10, max_features=sqrt, min_samples_leaf=4, min_samples_split=5, n_estimators=500; total time=   1.0s\n",
      "[CV] END bootstrap=False, class_weight=None, criterion=gini, max_depth=10, max_features=sqrt, min_samples_leaf=4, min_samples_split=5, n_estimators=500; total time=   1.0s\n",
      "[CV] END bootstrap=False, class_weight=None, criterion=gini, max_depth=10, max_features=sqrt, min_samples_leaf=4, min_samples_split=5, n_estimators=500; total time=   0.9s\n",
      "[CV] END bootstrap=True, class_weight=balanced, criterion=gini, max_depth=100, max_features=sqrt, min_samples_leaf=4, min_samples_split=10, n_estimators=600; total time=   1.5s\n",
      "[CV] END bootstrap=True, class_weight=balanced, criterion=gini, max_depth=100, max_features=sqrt, min_samples_leaf=4, min_samples_split=10, n_estimators=600; total time=   1.5s\n",
      "[CV] END bootstrap=True, class_weight=balanced, criterion=gini, max_depth=100, max_features=sqrt, min_samples_leaf=4, min_samples_split=10, n_estimators=600; total time=   1.5s\n",
      "[CV] END bootstrap=True, class_weight=balanced, criterion=gini, max_depth=100, max_features=sqrt, min_samples_leaf=4, min_samples_split=10, n_estimators=600; total time=   1.4s\n",
      "[CV] END bootstrap=True, class_weight=balanced, criterion=gini, max_depth=100, max_features=sqrt, min_samples_leaf=4, min_samples_split=10, n_estimators=600; total time=   1.5s\n",
      "[CV] END bootstrap=True, class_weight=None, criterion=gini, max_depth=10, max_features=sqrt, min_samples_leaf=1, min_samples_split=5, n_estimators=500; total time=   1.2s\n",
      "[CV] END bootstrap=True, class_weight=None, criterion=gini, max_depth=10, max_features=sqrt, min_samples_leaf=1, min_samples_split=5, n_estimators=500; total time=   1.2s\n",
      "[CV] END bootstrap=True, class_weight=None, criterion=gini, max_depth=10, max_features=sqrt, min_samples_leaf=1, min_samples_split=5, n_estimators=500; total time=   1.2s\n",
      "[CV] END bootstrap=True, class_weight=None, criterion=gini, max_depth=10, max_features=sqrt, min_samples_leaf=1, min_samples_split=5, n_estimators=500; total time=   1.2s\n",
      "[CV] END bootstrap=True, class_weight=None, criterion=gini, max_depth=10, max_features=sqrt, min_samples_leaf=1, min_samples_split=5, n_estimators=500; total time=   1.3s\n",
      "[CV] END bootstrap=False, class_weight=balanced_subsample, criterion=gini, max_depth=70, max_features=sqrt, min_samples_leaf=4, min_samples_split=2, n_estimators=200; total time=   0.4s\n",
      "[CV] END bootstrap=False, class_weight=balanced_subsample, criterion=gini, max_depth=70, max_features=sqrt, min_samples_leaf=4, min_samples_split=2, n_estimators=200; total time=   0.5s\n",
      "[CV] END bootstrap=False, class_weight=balanced_subsample, criterion=gini, max_depth=70, max_features=sqrt, min_samples_leaf=4, min_samples_split=2, n_estimators=200; total time=   0.4s\n",
      "[CV] END bootstrap=False, class_weight=balanced_subsample, criterion=gini, max_depth=70, max_features=sqrt, min_samples_leaf=4, min_samples_split=2, n_estimators=200; total time=   0.4s\n",
      "[CV] END bootstrap=False, class_weight=balanced_subsample, criterion=gini, max_depth=70, max_features=sqrt, min_samples_leaf=4, min_samples_split=2, n_estimators=200; total time=   0.4s\n",
      "[CV] END bootstrap=True, class_weight=None, criterion=gini, max_depth=20, max_features=sqrt, min_samples_leaf=1, min_samples_split=5, n_estimators=900; total time=   2.3s\n",
      "[CV] END bootstrap=True, class_weight=None, criterion=gini, max_depth=20, max_features=sqrt, min_samples_leaf=1, min_samples_split=5, n_estimators=900; total time=   2.2s\n",
      "[CV] END bootstrap=True, class_weight=None, criterion=gini, max_depth=20, max_features=sqrt, min_samples_leaf=1, min_samples_split=5, n_estimators=900; total time=   2.5s\n",
      "[CV] END bootstrap=True, class_weight=None, criterion=gini, max_depth=20, max_features=sqrt, min_samples_leaf=1, min_samples_split=5, n_estimators=900; total time=   2.3s\n",
      "[CV] END bootstrap=True, class_weight=None, criterion=gini, max_depth=20, max_features=sqrt, min_samples_leaf=1, min_samples_split=5, n_estimators=900; total time=   2.3s\n",
      "[CV] END bootstrap=False, class_weight=balanced, criterion=gini, max_depth=40, max_features=sqrt, min_samples_leaf=2, min_samples_split=10, n_estimators=300; total time=   0.7s\n",
      "[CV] END bootstrap=False, class_weight=balanced, criterion=gini, max_depth=40, max_features=sqrt, min_samples_leaf=2, min_samples_split=10, n_estimators=300; total time=   0.6s\n",
      "[CV] END bootstrap=False, class_weight=balanced, criterion=gini, max_depth=40, max_features=sqrt, min_samples_leaf=2, min_samples_split=10, n_estimators=300; total time=   0.7s\n",
      "[CV] END bootstrap=False, class_weight=balanced, criterion=gini, max_depth=40, max_features=sqrt, min_samples_leaf=2, min_samples_split=10, n_estimators=300; total time=   0.7s\n",
      "[CV] END bootstrap=False, class_weight=balanced, criterion=gini, max_depth=40, max_features=sqrt, min_samples_leaf=2, min_samples_split=10, n_estimators=300; total time=   0.7s\n",
      "[CV] END bootstrap=False, class_weight=balanced_subsample, criterion=entropy, max_depth=90, max_features=sqrt, min_samples_leaf=1, min_samples_split=5, n_estimators=300; total time=   0.7s\n",
      "[CV] END bootstrap=False, class_weight=balanced_subsample, criterion=entropy, max_depth=90, max_features=sqrt, min_samples_leaf=1, min_samples_split=5, n_estimators=300; total time=   0.7s\n",
      "[CV] END bootstrap=False, class_weight=balanced_subsample, criterion=entropy, max_depth=90, max_features=sqrt, min_samples_leaf=1, min_samples_split=5, n_estimators=300; total time=   0.6s\n",
      "[CV] END bootstrap=False, class_weight=balanced_subsample, criterion=entropy, max_depth=90, max_features=sqrt, min_samples_leaf=1, min_samples_split=5, n_estimators=300; total time=   0.6s\n",
      "[CV] END bootstrap=False, class_weight=balanced_subsample, criterion=entropy, max_depth=90, max_features=sqrt, min_samples_leaf=1, min_samples_split=5, n_estimators=300; total time=   0.7s\n",
      "[CV] END bootstrap=True, class_weight=None, criterion=entropy, max_depth=20, max_features=sqrt, min_samples_leaf=1, min_samples_split=10, n_estimators=600; total time=   1.5s\n",
      "[CV] END bootstrap=True, class_weight=None, criterion=entropy, max_depth=20, max_features=sqrt, min_samples_leaf=1, min_samples_split=10, n_estimators=600; total time=   1.4s\n",
      "[CV] END bootstrap=True, class_weight=None, criterion=entropy, max_depth=20, max_features=sqrt, min_samples_leaf=1, min_samples_split=10, n_estimators=600; total time=   1.5s\n",
      "[CV] END bootstrap=True, class_weight=None, criterion=entropy, max_depth=20, max_features=sqrt, min_samples_leaf=1, min_samples_split=10, n_estimators=600; total time=   1.5s\n",
      "[CV] END bootstrap=True, class_weight=None, criterion=entropy, max_depth=20, max_features=sqrt, min_samples_leaf=1, min_samples_split=10, n_estimators=600; total time=   1.4s\n",
      "[CV] END bootstrap=False, class_weight=balanced, criterion=gini, max_depth=100, max_features=sqrt, min_samples_leaf=1, min_samples_split=10, n_estimators=800; total time=   1.6s\n",
      "[CV] END bootstrap=False, class_weight=balanced, criterion=gini, max_depth=100, max_features=sqrt, min_samples_leaf=1, min_samples_split=10, n_estimators=800; total time=   1.6s\n",
      "[CV] END bootstrap=False, class_weight=balanced, criterion=gini, max_depth=100, max_features=sqrt, min_samples_leaf=1, min_samples_split=10, n_estimators=800; total time=   1.6s\n",
      "[CV] END bootstrap=False, class_weight=balanced, criterion=gini, max_depth=100, max_features=sqrt, min_samples_leaf=1, min_samples_split=10, n_estimators=800; total time=   1.6s\n",
      "[CV] END bootstrap=False, class_weight=balanced, criterion=gini, max_depth=100, max_features=sqrt, min_samples_leaf=1, min_samples_split=10, n_estimators=800; total time=   1.6s\n",
      "[CV] END bootstrap=True, class_weight=balanced, criterion=gini, max_depth=40, max_features=sqrt, min_samples_leaf=2, min_samples_split=10, n_estimators=900; total time=   2.3s\n",
      "[CV] END bootstrap=True, class_weight=balanced, criterion=gini, max_depth=40, max_features=sqrt, min_samples_leaf=2, min_samples_split=10, n_estimators=900; total time=   2.1s\n",
      "[CV] END bootstrap=True, class_weight=balanced, criterion=gini, max_depth=40, max_features=sqrt, min_samples_leaf=2, min_samples_split=10, n_estimators=900; total time=   2.1s\n",
      "[CV] END bootstrap=True, class_weight=balanced, criterion=gini, max_depth=40, max_features=sqrt, min_samples_leaf=2, min_samples_split=10, n_estimators=900; total time=   2.2s\n",
      "[CV] END bootstrap=True, class_weight=balanced, criterion=gini, max_depth=40, max_features=sqrt, min_samples_leaf=2, min_samples_split=10, n_estimators=900; total time=   2.2s\n",
      "[CV] END bootstrap=True, class_weight=None, criterion=gini, max_depth=80, max_features=sqrt, min_samples_leaf=2, min_samples_split=10, n_estimators=200; total time=   0.5s\n",
      "[CV] END bootstrap=True, class_weight=None, criterion=gini, max_depth=80, max_features=sqrt, min_samples_leaf=2, min_samples_split=10, n_estimators=200; total time=   0.5s\n",
      "[CV] END bootstrap=True, class_weight=None, criterion=gini, max_depth=80, max_features=sqrt, min_samples_leaf=2, min_samples_split=10, n_estimators=200; total time=   0.5s\n",
      "[CV] END bootstrap=True, class_weight=None, criterion=gini, max_depth=80, max_features=sqrt, min_samples_leaf=2, min_samples_split=10, n_estimators=200; total time=   0.5s\n",
      "[CV] END bootstrap=True, class_weight=None, criterion=gini, max_depth=80, max_features=sqrt, min_samples_leaf=2, min_samples_split=10, n_estimators=200; total time=   0.5s\n",
      "[CV] END bootstrap=False, class_weight=balanced, criterion=gini, max_depth=100, max_features=sqrt, min_samples_leaf=4, min_samples_split=2, n_estimators=400; total time=   0.8s\n",
      "[CV] END bootstrap=False, class_weight=balanced, criterion=gini, max_depth=100, max_features=sqrt, min_samples_leaf=4, min_samples_split=2, n_estimators=400; total time=   0.8s\n",
      "[CV] END bootstrap=False, class_weight=balanced, criterion=gini, max_depth=100, max_features=sqrt, min_samples_leaf=4, min_samples_split=2, n_estimators=400; total time=   0.8s\n",
      "[CV] END bootstrap=False, class_weight=balanced, criterion=gini, max_depth=100, max_features=sqrt, min_samples_leaf=4, min_samples_split=2, n_estimators=400; total time=   0.8s\n",
      "[CV] END bootstrap=False, class_weight=balanced, criterion=gini, max_depth=100, max_features=sqrt, min_samples_leaf=4, min_samples_split=2, n_estimators=400; total time=   0.8s\n",
      "[CV] END bootstrap=False, class_weight=None, criterion=gini, max_depth=40, max_features=sqrt, min_samples_leaf=1, min_samples_split=5, n_estimators=100; total time=   0.2s\n",
      "[CV] END bootstrap=False, class_weight=None, criterion=gini, max_depth=40, max_features=sqrt, min_samples_leaf=1, min_samples_split=5, n_estimators=100; total time=   0.2s\n",
      "[CV] END bootstrap=False, class_weight=None, criterion=gini, max_depth=40, max_features=sqrt, min_samples_leaf=1, min_samples_split=5, n_estimators=100; total time=   0.2s\n",
      "[CV] END bootstrap=False, class_weight=None, criterion=gini, max_depth=40, max_features=sqrt, min_samples_leaf=1, min_samples_split=5, n_estimators=100; total time=   0.2s\n",
      "[CV] END bootstrap=False, class_weight=None, criterion=gini, max_depth=40, max_features=sqrt, min_samples_leaf=1, min_samples_split=5, n_estimators=100; total time=   0.2s\n",
      "[CV] END bootstrap=True, class_weight=None, criterion=entropy, max_depth=20, max_features=sqrt, min_samples_leaf=2, min_samples_split=5, n_estimators=500; total time=   1.3s\n",
      "[CV] END bootstrap=True, class_weight=None, criterion=entropy, max_depth=20, max_features=sqrt, min_samples_leaf=2, min_samples_split=5, n_estimators=500; total time=   1.2s\n",
      "[CV] END bootstrap=True, class_weight=None, criterion=entropy, max_depth=20, max_features=sqrt, min_samples_leaf=2, min_samples_split=5, n_estimators=500; total time=   1.2s\n",
      "[CV] END bootstrap=True, class_weight=None, criterion=entropy, max_depth=20, max_features=sqrt, min_samples_leaf=2, min_samples_split=5, n_estimators=500; total time=   1.3s\n",
      "[CV] END bootstrap=True, class_weight=None, criterion=entropy, max_depth=20, max_features=sqrt, min_samples_leaf=2, min_samples_split=5, n_estimators=500; total time=   1.2s\n",
      "[CV] END bootstrap=True, class_weight=None, criterion=entropy, max_depth=20, max_features=sqrt, min_samples_leaf=4, min_samples_split=5, n_estimators=700; total time=   1.7s\n",
      "[CV] END bootstrap=True, class_weight=None, criterion=entropy, max_depth=20, max_features=sqrt, min_samples_leaf=4, min_samples_split=5, n_estimators=700; total time=   1.7s\n",
      "[CV] END bootstrap=True, class_weight=None, criterion=entropy, max_depth=20, max_features=sqrt, min_samples_leaf=4, min_samples_split=5, n_estimators=700; total time=   1.8s\n",
      "[CV] END bootstrap=True, class_weight=None, criterion=entropy, max_depth=20, max_features=sqrt, min_samples_leaf=4, min_samples_split=5, n_estimators=700; total time=   1.8s\n",
      "[CV] END bootstrap=True, class_weight=None, criterion=entropy, max_depth=20, max_features=sqrt, min_samples_leaf=4, min_samples_split=5, n_estimators=700; total time=   1.8s\n",
      "[CV] END bootstrap=False, class_weight=None, criterion=gini, max_depth=80, max_features=sqrt, min_samples_leaf=4, min_samples_split=10, n_estimators=100; total time=   0.2s\n",
      "[CV] END bootstrap=False, class_weight=None, criterion=gini, max_depth=80, max_features=sqrt, min_samples_leaf=4, min_samples_split=10, n_estimators=100; total time=   0.2s\n",
      "[CV] END bootstrap=False, class_weight=None, criterion=gini, max_depth=80, max_features=sqrt, min_samples_leaf=4, min_samples_split=10, n_estimators=100; total time=   0.2s\n",
      "[CV] END bootstrap=False, class_weight=None, criterion=gini, max_depth=80, max_features=sqrt, min_samples_leaf=4, min_samples_split=10, n_estimators=100; total time=   0.2s\n",
      "[CV] END bootstrap=False, class_weight=None, criterion=gini, max_depth=80, max_features=sqrt, min_samples_leaf=4, min_samples_split=10, n_estimators=100; total time=   0.2s\n",
      "[CV] END bootstrap=True, class_weight=balanced_subsample, criterion=gini, max_depth=40, max_features=sqrt, min_samples_leaf=1, min_samples_split=2, n_estimators=400; total time=   1.2s\n",
      "[CV] END bootstrap=True, class_weight=balanced_subsample, criterion=gini, max_depth=40, max_features=sqrt, min_samples_leaf=1, min_samples_split=2, n_estimators=400; total time=   1.2s\n",
      "[CV] END bootstrap=True, class_weight=balanced_subsample, criterion=gini, max_depth=40, max_features=sqrt, min_samples_leaf=1, min_samples_split=2, n_estimators=400; total time=   1.3s\n",
      "[CV] END bootstrap=True, class_weight=balanced_subsample, criterion=gini, max_depth=40, max_features=sqrt, min_samples_leaf=1, min_samples_split=2, n_estimators=400; total time=   1.3s\n",
      "[CV] END bootstrap=True, class_weight=balanced_subsample, criterion=gini, max_depth=40, max_features=sqrt, min_samples_leaf=1, min_samples_split=2, n_estimators=400; total time=   1.3s\n",
      "[CV] END bootstrap=False, class_weight=None, criterion=entropy, max_depth=90, max_features=sqrt, min_samples_leaf=1, min_samples_split=10, n_estimators=100; total time=   0.2s\n",
      "[CV] END bootstrap=False, class_weight=None, criterion=entropy, max_depth=90, max_features=sqrt, min_samples_leaf=1, min_samples_split=10, n_estimators=100; total time=   0.2s\n",
      "[CV] END bootstrap=False, class_weight=None, criterion=entropy, max_depth=90, max_features=sqrt, min_samples_leaf=1, min_samples_split=10, n_estimators=100; total time=   0.2s\n",
      "[CV] END bootstrap=False, class_weight=None, criterion=entropy, max_depth=90, max_features=sqrt, min_samples_leaf=1, min_samples_split=10, n_estimators=100; total time=   0.2s\n",
      "[CV] END bootstrap=False, class_weight=None, criterion=entropy, max_depth=90, max_features=sqrt, min_samples_leaf=1, min_samples_split=10, n_estimators=100; total time=   0.2s\n",
      "[CV] END bootstrap=True, class_weight=None, criterion=entropy, max_depth=60, max_features=sqrt, min_samples_leaf=2, min_samples_split=5, n_estimators=600; total time=   1.6s\n",
      "[CV] END bootstrap=True, class_weight=None, criterion=entropy, max_depth=60, max_features=sqrt, min_samples_leaf=2, min_samples_split=5, n_estimators=600; total time=   1.5s\n",
      "[CV] END bootstrap=True, class_weight=None, criterion=entropy, max_depth=60, max_features=sqrt, min_samples_leaf=2, min_samples_split=5, n_estimators=600; total time=   1.5s\n",
      "[CV] END bootstrap=True, class_weight=None, criterion=entropy, max_depth=60, max_features=sqrt, min_samples_leaf=2, min_samples_split=5, n_estimators=600; total time=   1.5s\n",
      "[CV] END bootstrap=True, class_weight=None, criterion=entropy, max_depth=60, max_features=sqrt, min_samples_leaf=2, min_samples_split=5, n_estimators=600; total time=   1.5s\n",
      "[CV] END bootstrap=True, class_weight=balanced_subsample, criterion=entropy, max_depth=40, max_features=sqrt, min_samples_leaf=2, min_samples_split=10, n_estimators=900; total time=   2.7s\n",
      "[CV] END bootstrap=True, class_weight=balanced_subsample, criterion=entropy, max_depth=40, max_features=sqrt, min_samples_leaf=2, min_samples_split=10, n_estimators=900; total time=   2.8s\n",
      "[CV] END bootstrap=True, class_weight=balanced_subsample, criterion=entropy, max_depth=40, max_features=sqrt, min_samples_leaf=2, min_samples_split=10, n_estimators=900; total time=   2.8s\n",
      "[CV] END bootstrap=True, class_weight=balanced_subsample, criterion=entropy, max_depth=40, max_features=sqrt, min_samples_leaf=2, min_samples_split=10, n_estimators=900; total time=   2.7s\n",
      "[CV] END bootstrap=True, class_weight=balanced_subsample, criterion=entropy, max_depth=40, max_features=sqrt, min_samples_leaf=2, min_samples_split=10, n_estimators=900; total time=   2.8s\n",
      "[CV] END bootstrap=False, class_weight=None, criterion=entropy, max_depth=10, max_features=sqrt, min_samples_leaf=1, min_samples_split=10, n_estimators=400; total time=   0.8s\n",
      "[CV] END bootstrap=False, class_weight=None, criterion=entropy, max_depth=10, max_features=sqrt, min_samples_leaf=1, min_samples_split=10, n_estimators=400; total time=   0.8s\n",
      "[CV] END bootstrap=False, class_weight=None, criterion=entropy, max_depth=10, max_features=sqrt, min_samples_leaf=1, min_samples_split=10, n_estimators=400; total time=   0.8s\n",
      "[CV] END bootstrap=False, class_weight=None, criterion=entropy, max_depth=10, max_features=sqrt, min_samples_leaf=1, min_samples_split=10, n_estimators=400; total time=   0.8s\n",
      "[CV] END bootstrap=False, class_weight=None, criterion=entropy, max_depth=10, max_features=sqrt, min_samples_leaf=1, min_samples_split=10, n_estimators=400; total time=   0.8s\n",
      "[CV] END bootstrap=False, class_weight=None, criterion=entropy, max_depth=90, max_features=sqrt, min_samples_leaf=2, min_samples_split=10, n_estimators=200; total time=   0.4s\n",
      "[CV] END bootstrap=False, class_weight=None, criterion=entropy, max_depth=90, max_features=sqrt, min_samples_leaf=2, min_samples_split=10, n_estimators=200; total time=   0.4s\n",
      "[CV] END bootstrap=False, class_weight=None, criterion=entropy, max_depth=90, max_features=sqrt, min_samples_leaf=2, min_samples_split=10, n_estimators=200; total time=   0.4s\n",
      "[CV] END bootstrap=False, class_weight=None, criterion=entropy, max_depth=90, max_features=sqrt, min_samples_leaf=2, min_samples_split=10, n_estimators=200; total time=   0.4s\n",
      "[CV] END bootstrap=False, class_weight=None, criterion=entropy, max_depth=90, max_features=sqrt, min_samples_leaf=2, min_samples_split=10, n_estimators=200; total time=   0.4s\n",
      "[CV] END bootstrap=True, class_weight=balanced, criterion=gini, max_depth=80, max_features=sqrt, min_samples_leaf=4, min_samples_split=10, n_estimators=500; total time=   1.2s\n",
      "[CV] END bootstrap=True, class_weight=balanced, criterion=gini, max_depth=80, max_features=sqrt, min_samples_leaf=4, min_samples_split=10, n_estimators=500; total time=   1.2s\n",
      "[CV] END bootstrap=True, class_weight=balanced, criterion=gini, max_depth=80, max_features=sqrt, min_samples_leaf=4, min_samples_split=10, n_estimators=500; total time=   1.3s\n",
      "[CV] END bootstrap=True, class_weight=balanced, criterion=gini, max_depth=80, max_features=sqrt, min_samples_leaf=4, min_samples_split=10, n_estimators=500; total time=   1.2s\n",
      "[CV] END bootstrap=True, class_weight=balanced, criterion=gini, max_depth=80, max_features=sqrt, min_samples_leaf=4, min_samples_split=10, n_estimators=500; total time=   1.2s\n",
      "[CV] END bootstrap=True, class_weight=balanced, criterion=entropy, max_depth=80, max_features=sqrt, min_samples_leaf=1, min_samples_split=10, n_estimators=300; total time=   0.8s\n",
      "[CV] END bootstrap=True, class_weight=balanced, criterion=entropy, max_depth=80, max_features=sqrt, min_samples_leaf=1, min_samples_split=10, n_estimators=300; total time=   0.8s\n",
      "[CV] END bootstrap=True, class_weight=balanced, criterion=entropy, max_depth=80, max_features=sqrt, min_samples_leaf=1, min_samples_split=10, n_estimators=300; total time=   0.8s\n",
      "[CV] END bootstrap=True, class_weight=balanced, criterion=entropy, max_depth=80, max_features=sqrt, min_samples_leaf=1, min_samples_split=10, n_estimators=300; total time=   0.8s\n",
      "[CV] END bootstrap=True, class_weight=balanced, criterion=entropy, max_depth=80, max_features=sqrt, min_samples_leaf=1, min_samples_split=10, n_estimators=300; total time=   0.7s\n",
      "[CV] END bootstrap=False, class_weight=balanced, criterion=gini, max_depth=30, max_features=sqrt, min_samples_leaf=2, min_samples_split=2, n_estimators=600; total time=   1.2s\n",
      "[CV] END bootstrap=False, class_weight=balanced, criterion=gini, max_depth=30, max_features=sqrt, min_samples_leaf=2, min_samples_split=2, n_estimators=600; total time=   1.2s\n",
      "[CV] END bootstrap=False, class_weight=balanced, criterion=gini, max_depth=30, max_features=sqrt, min_samples_leaf=2, min_samples_split=2, n_estimators=600; total time=   1.3s\n",
      "[CV] END bootstrap=False, class_weight=balanced, criterion=gini, max_depth=30, max_features=sqrt, min_samples_leaf=2, min_samples_split=2, n_estimators=600; total time=   1.3s\n",
      "[CV] END bootstrap=False, class_weight=balanced, criterion=gini, max_depth=30, max_features=sqrt, min_samples_leaf=2, min_samples_split=2, n_estimators=600; total time=   1.3s\n",
      "[CV] END bootstrap=False, class_weight=balanced_subsample, criterion=gini, max_depth=50, max_features=sqrt, min_samples_leaf=1, min_samples_split=2, n_estimators=300; total time=   0.7s\n",
      "[CV] END bootstrap=False, class_weight=balanced_subsample, criterion=gini, max_depth=50, max_features=sqrt, min_samples_leaf=1, min_samples_split=2, n_estimators=300; total time=   0.6s\n",
      "[CV] END bootstrap=False, class_weight=balanced_subsample, criterion=gini, max_depth=50, max_features=sqrt, min_samples_leaf=1, min_samples_split=2, n_estimators=300; total time=   0.6s\n",
      "[CV] END bootstrap=False, class_weight=balanced_subsample, criterion=gini, max_depth=50, max_features=sqrt, min_samples_leaf=1, min_samples_split=2, n_estimators=300; total time=   0.6s\n",
      "[CV] END bootstrap=False, class_weight=balanced_subsample, criterion=gini, max_depth=50, max_features=sqrt, min_samples_leaf=1, min_samples_split=2, n_estimators=300; total time=   0.6s\n",
      "[CV] END bootstrap=False, class_weight=balanced, criterion=entropy, max_depth=20, max_features=sqrt, min_samples_leaf=2, min_samples_split=2, n_estimators=600; total time=   1.3s\n",
      "[CV] END bootstrap=False, class_weight=balanced, criterion=entropy, max_depth=20, max_features=sqrt, min_samples_leaf=2, min_samples_split=2, n_estimators=600; total time=   1.2s\n",
      "[CV] END bootstrap=False, class_weight=balanced, criterion=entropy, max_depth=20, max_features=sqrt, min_samples_leaf=2, min_samples_split=2, n_estimators=600; total time=   1.3s\n",
      "[CV] END bootstrap=False, class_weight=balanced, criterion=entropy, max_depth=20, max_features=sqrt, min_samples_leaf=2, min_samples_split=2, n_estimators=600; total time=   1.3s\n",
      "[CV] END bootstrap=False, class_weight=balanced, criterion=entropy, max_depth=20, max_features=sqrt, min_samples_leaf=2, min_samples_split=2, n_estimators=600; total time=   1.3s\n",
      "[CV] END bootstrap=True, class_weight=None, criterion=gini, max_depth=70, max_features=sqrt, min_samples_leaf=1, min_samples_split=10, n_estimators=100; total time=   0.2s\n",
      "[CV] END bootstrap=True, class_weight=None, criterion=gini, max_depth=70, max_features=sqrt, min_samples_leaf=1, min_samples_split=10, n_estimators=100; total time=   0.2s\n",
      "[CV] END bootstrap=True, class_weight=None, criterion=gini, max_depth=70, max_features=sqrt, min_samples_leaf=1, min_samples_split=10, n_estimators=100; total time=   0.2s\n",
      "[CV] END bootstrap=True, class_weight=None, criterion=gini, max_depth=70, max_features=sqrt, min_samples_leaf=1, min_samples_split=10, n_estimators=100; total time=   0.2s\n",
      "[CV] END bootstrap=True, class_weight=None, criterion=gini, max_depth=70, max_features=sqrt, min_samples_leaf=1, min_samples_split=10, n_estimators=100; total time=   0.2s\n",
      "[CV] END bootstrap=True, class_weight=balanced, criterion=entropy, max_depth=80, max_features=sqrt, min_samples_leaf=2, min_samples_split=2, n_estimators=200; total time=   0.5s\n",
      "[CV] END bootstrap=True, class_weight=balanced, criterion=entropy, max_depth=80, max_features=sqrt, min_samples_leaf=2, min_samples_split=2, n_estimators=200; total time=   0.5s\n",
      "[CV] END bootstrap=True, class_weight=balanced, criterion=entropy, max_depth=80, max_features=sqrt, min_samples_leaf=2, min_samples_split=2, n_estimators=200; total time=   0.5s\n",
      "[CV] END bootstrap=True, class_weight=balanced, criterion=entropy, max_depth=80, max_features=sqrt, min_samples_leaf=2, min_samples_split=2, n_estimators=200; total time=   0.5s\n",
      "[CV] END bootstrap=True, class_weight=balanced, criterion=entropy, max_depth=80, max_features=sqrt, min_samples_leaf=2, min_samples_split=2, n_estimators=200; total time=   0.5s\n",
      "[CV] END bootstrap=False, class_weight=balanced, criterion=gini, max_depth=60, max_features=sqrt, min_samples_leaf=4, min_samples_split=5, n_estimators=100; total time=   0.2s\n",
      "[CV] END bootstrap=False, class_weight=balanced, criterion=gini, max_depth=60, max_features=sqrt, min_samples_leaf=4, min_samples_split=5, n_estimators=100; total time=   0.2s\n",
      "[CV] END bootstrap=False, class_weight=balanced, criterion=gini, max_depth=60, max_features=sqrt, min_samples_leaf=4, min_samples_split=5, n_estimators=100; total time=   0.2s\n",
      "[CV] END bootstrap=False, class_weight=balanced, criterion=gini, max_depth=60, max_features=sqrt, min_samples_leaf=4, min_samples_split=5, n_estimators=100; total time=   0.2s\n",
      "[CV] END bootstrap=False, class_weight=balanced, criterion=gini, max_depth=60, max_features=sqrt, min_samples_leaf=4, min_samples_split=5, n_estimators=100; total time=   0.2s\n",
      "[CV] END bootstrap=True, class_weight=balanced, criterion=gini, max_depth=80, max_features=sqrt, min_samples_leaf=1, min_samples_split=5, n_estimators=500; total time=   1.3s\n",
      "[CV] END bootstrap=True, class_weight=balanced, criterion=gini, max_depth=80, max_features=sqrt, min_samples_leaf=1, min_samples_split=5, n_estimators=500; total time=   1.4s\n",
      "[CV] END bootstrap=True, class_weight=balanced, criterion=gini, max_depth=80, max_features=sqrt, min_samples_leaf=1, min_samples_split=5, n_estimators=500; total time=   1.3s\n",
      "[CV] END bootstrap=True, class_weight=balanced, criterion=gini, max_depth=80, max_features=sqrt, min_samples_leaf=1, min_samples_split=5, n_estimators=500; total time=   1.2s\n",
      "[CV] END bootstrap=True, class_weight=balanced, criterion=gini, max_depth=80, max_features=sqrt, min_samples_leaf=1, min_samples_split=5, n_estimators=500; total time=   1.3s\n",
      "[CV] END bootstrap=True, class_weight=balanced_subsample, criterion=gini, max_depth=30, max_features=sqrt, min_samples_leaf=4, min_samples_split=2, n_estimators=300; total time=   0.9s\n",
      "[CV] END bootstrap=True, class_weight=balanced_subsample, criterion=gini, max_depth=30, max_features=sqrt, min_samples_leaf=4, min_samples_split=2, n_estimators=300; total time=   0.9s\n",
      "[CV] END bootstrap=True, class_weight=balanced_subsample, criterion=gini, max_depth=30, max_features=sqrt, min_samples_leaf=4, min_samples_split=2, n_estimators=300; total time=   0.9s\n",
      "[CV] END bootstrap=True, class_weight=balanced_subsample, criterion=gini, max_depth=30, max_features=sqrt, min_samples_leaf=4, min_samples_split=2, n_estimators=300; total time=   1.0s\n",
      "[CV] END bootstrap=True, class_weight=balanced_subsample, criterion=gini, max_depth=30, max_features=sqrt, min_samples_leaf=4, min_samples_split=2, n_estimators=300; total time=   1.0s\n",
      "[CV] END bootstrap=True, class_weight=balanced, criterion=gini, max_depth=60, max_features=sqrt, min_samples_leaf=1, min_samples_split=2, n_estimators=700; total time=   1.7s\n",
      "[CV] END bootstrap=True, class_weight=balanced, criterion=gini, max_depth=60, max_features=sqrt, min_samples_leaf=1, min_samples_split=2, n_estimators=700; total time=   1.7s\n",
      "[CV] END bootstrap=True, class_weight=balanced, criterion=gini, max_depth=60, max_features=sqrt, min_samples_leaf=1, min_samples_split=2, n_estimators=700; total time=   1.7s\n",
      "[CV] END bootstrap=True, class_weight=balanced, criterion=gini, max_depth=60, max_features=sqrt, min_samples_leaf=1, min_samples_split=2, n_estimators=700; total time=   1.8s\n",
      "[CV] END bootstrap=True, class_weight=balanced, criterion=gini, max_depth=60, max_features=sqrt, min_samples_leaf=1, min_samples_split=2, n_estimators=700; total time=   1.7s\n",
      "[CV] END bootstrap=False, class_weight=None, criterion=gini, max_depth=50, max_features=sqrt, min_samples_leaf=1, min_samples_split=2, n_estimators=200; total time=   0.4s\n",
      "[CV] END bootstrap=False, class_weight=None, criterion=gini, max_depth=50, max_features=sqrt, min_samples_leaf=1, min_samples_split=2, n_estimators=200; total time=   0.4s\n",
      "[CV] END bootstrap=False, class_weight=None, criterion=gini, max_depth=50, max_features=sqrt, min_samples_leaf=1, min_samples_split=2, n_estimators=200; total time=   0.4s\n",
      "[CV] END bootstrap=False, class_weight=None, criterion=gini, max_depth=50, max_features=sqrt, min_samples_leaf=1, min_samples_split=2, n_estimators=200; total time=   0.4s\n",
      "[CV] END bootstrap=False, class_weight=None, criterion=gini, max_depth=50, max_features=sqrt, min_samples_leaf=1, min_samples_split=2, n_estimators=200; total time=   0.4s\n",
      "[CV] END bootstrap=False, class_weight=None, criterion=gini, max_depth=70, max_features=sqrt, min_samples_leaf=4, min_samples_split=10, n_estimators=500; total time=   0.9s\n",
      "[CV] END bootstrap=False, class_weight=None, criterion=gini, max_depth=70, max_features=sqrt, min_samples_leaf=4, min_samples_split=10, n_estimators=500; total time=   0.9s\n",
      "[CV] END bootstrap=False, class_weight=None, criterion=gini, max_depth=70, max_features=sqrt, min_samples_leaf=4, min_samples_split=10, n_estimators=500; total time=   0.9s\n",
      "[CV] END bootstrap=False, class_weight=None, criterion=gini, max_depth=70, max_features=sqrt, min_samples_leaf=4, min_samples_split=10, n_estimators=500; total time=   0.9s\n",
      "[CV] END bootstrap=False, class_weight=None, criterion=gini, max_depth=70, max_features=sqrt, min_samples_leaf=4, min_samples_split=10, n_estimators=500; total time=   0.9s\n",
      "[CV] END bootstrap=True, class_weight=None, criterion=gini, max_depth=20, max_features=sqrt, min_samples_leaf=1, min_samples_split=5, n_estimators=200; total time=   0.5s\n",
      "[CV] END bootstrap=True, class_weight=None, criterion=gini, max_depth=20, max_features=sqrt, min_samples_leaf=1, min_samples_split=5, n_estimators=200; total time=   0.5s\n",
      "[CV] END bootstrap=True, class_weight=None, criterion=gini, max_depth=20, max_features=sqrt, min_samples_leaf=1, min_samples_split=5, n_estimators=200; total time=   0.5s\n",
      "[CV] END bootstrap=True, class_weight=None, criterion=gini, max_depth=20, max_features=sqrt, min_samples_leaf=1, min_samples_split=5, n_estimators=200; total time=   0.5s\n",
      "[CV] END bootstrap=True, class_weight=None, criterion=gini, max_depth=20, max_features=sqrt, min_samples_leaf=1, min_samples_split=5, n_estimators=200; total time=   0.5s\n",
      "[CV] END bootstrap=False, class_weight=balanced, criterion=entropy, max_depth=50, max_features=sqrt, min_samples_leaf=4, min_samples_split=2, n_estimators=500; total time=   1.0s\n",
      "[CV] END bootstrap=False, class_weight=balanced, criterion=entropy, max_depth=50, max_features=sqrt, min_samples_leaf=4, min_samples_split=2, n_estimators=500; total time=   1.0s\n",
      "[CV] END bootstrap=False, class_weight=balanced, criterion=entropy, max_depth=50, max_features=sqrt, min_samples_leaf=4, min_samples_split=2, n_estimators=500; total time=   1.0s\n",
      "[CV] END bootstrap=False, class_weight=balanced, criterion=entropy, max_depth=50, max_features=sqrt, min_samples_leaf=4, min_samples_split=2, n_estimators=500; total time=   1.0s\n",
      "[CV] END bootstrap=False, class_weight=balanced, criterion=entropy, max_depth=50, max_features=sqrt, min_samples_leaf=4, min_samples_split=2, n_estimators=500; total time=   1.1s\n",
      "[CV] END bootstrap=False, class_weight=balanced, criterion=entropy, max_depth=80, max_features=sqrt, min_samples_leaf=2, min_samples_split=10, n_estimators=800; total time=   1.7s\n",
      "[CV] END bootstrap=False, class_weight=balanced, criterion=entropy, max_depth=80, max_features=sqrt, min_samples_leaf=2, min_samples_split=10, n_estimators=800; total time=   1.6s\n",
      "[CV] END bootstrap=False, class_weight=balanced, criterion=entropy, max_depth=80, max_features=sqrt, min_samples_leaf=2, min_samples_split=10, n_estimators=800; total time=   1.7s\n",
      "[CV] END bootstrap=False, class_weight=balanced, criterion=entropy, max_depth=80, max_features=sqrt, min_samples_leaf=2, min_samples_split=10, n_estimators=800; total time=   1.6s\n",
      "[CV] END bootstrap=False, class_weight=balanced, criterion=entropy, max_depth=80, max_features=sqrt, min_samples_leaf=2, min_samples_split=10, n_estimators=800; total time=   1.6s\n",
      "[CV] END bootstrap=False, class_weight=balanced, criterion=entropy, max_depth=60, max_features=sqrt, min_samples_leaf=2, min_samples_split=5, n_estimators=100; total time=   0.2s\n",
      "[CV] END bootstrap=False, class_weight=balanced, criterion=entropy, max_depth=60, max_features=sqrt, min_samples_leaf=2, min_samples_split=5, n_estimators=100; total time=   0.2s\n",
      "[CV] END bootstrap=False, class_weight=balanced, criterion=entropy, max_depth=60, max_features=sqrt, min_samples_leaf=2, min_samples_split=5, n_estimators=100; total time=   0.2s\n",
      "[CV] END bootstrap=False, class_weight=balanced, criterion=entropy, max_depth=60, max_features=sqrt, min_samples_leaf=2, min_samples_split=5, n_estimators=100; total time=   0.2s\n",
      "[CV] END bootstrap=False, class_weight=balanced, criterion=entropy, max_depth=60, max_features=sqrt, min_samples_leaf=2, min_samples_split=5, n_estimators=100; total time=   0.2s\n",
      "[CV] END bootstrap=True, class_weight=balanced_subsample, criterion=entropy, max_depth=20, max_features=sqrt, min_samples_leaf=2, min_samples_split=10, n_estimators=900; total time=   2.9s\n",
      "[CV] END bootstrap=True, class_weight=balanced_subsample, criterion=entropy, max_depth=20, max_features=sqrt, min_samples_leaf=2, min_samples_split=10, n_estimators=900; total time=   2.8s\n",
      "[CV] END bootstrap=True, class_weight=balanced_subsample, criterion=entropy, max_depth=20, max_features=sqrt, min_samples_leaf=2, min_samples_split=10, n_estimators=900; total time=   2.9s\n",
      "[CV] END bootstrap=True, class_weight=balanced_subsample, criterion=entropy, max_depth=20, max_features=sqrt, min_samples_leaf=2, min_samples_split=10, n_estimators=900; total time=   2.8s\n",
      "[CV] END bootstrap=True, class_weight=balanced_subsample, criterion=entropy, max_depth=20, max_features=sqrt, min_samples_leaf=2, min_samples_split=10, n_estimators=900; total time=   2.6s\n",
      "[CV] END bootstrap=False, class_weight=balanced_subsample, criterion=entropy, max_depth=80, max_features=sqrt, min_samples_leaf=1, min_samples_split=10, n_estimators=200; total time=   0.4s\n",
      "[CV] END bootstrap=False, class_weight=balanced_subsample, criterion=entropy, max_depth=80, max_features=sqrt, min_samples_leaf=1, min_samples_split=10, n_estimators=200; total time=   0.4s\n",
      "[CV] END bootstrap=False, class_weight=balanced_subsample, criterion=entropy, max_depth=80, max_features=sqrt, min_samples_leaf=1, min_samples_split=10, n_estimators=200; total time=   0.4s\n",
      "[CV] END bootstrap=False, class_weight=balanced_subsample, criterion=entropy, max_depth=80, max_features=sqrt, min_samples_leaf=1, min_samples_split=10, n_estimators=200; total time=   0.5s\n",
      "[CV] END bootstrap=False, class_weight=balanced_subsample, criterion=entropy, max_depth=80, max_features=sqrt, min_samples_leaf=1, min_samples_split=10, n_estimators=200; total time=   0.5s\n",
      "[CV] END bootstrap=False, class_weight=None, criterion=entropy, max_depth=70, max_features=sqrt, min_samples_leaf=2, min_samples_split=5, n_estimators=800; total time=   1.6s\n",
      "[CV] END bootstrap=False, class_weight=None, criterion=entropy, max_depth=70, max_features=sqrt, min_samples_leaf=2, min_samples_split=5, n_estimators=800; total time=   1.5s\n",
      "[CV] END bootstrap=False, class_weight=None, criterion=entropy, max_depth=70, max_features=sqrt, min_samples_leaf=2, min_samples_split=5, n_estimators=800; total time=   1.7s\n",
      "[CV] END bootstrap=False, class_weight=None, criterion=entropy, max_depth=70, max_features=sqrt, min_samples_leaf=2, min_samples_split=5, n_estimators=800; total time=   1.6s\n",
      "[CV] END bootstrap=False, class_weight=None, criterion=entropy, max_depth=70, max_features=sqrt, min_samples_leaf=2, min_samples_split=5, n_estimators=800; total time=   1.6s\n",
      "[CV] END bootstrap=False, class_weight=None, criterion=gini, max_depth=100, max_features=sqrt, min_samples_leaf=4, min_samples_split=5, n_estimators=200; total time=   0.4s\n",
      "[CV] END bootstrap=False, class_weight=None, criterion=gini, max_depth=100, max_features=sqrt, min_samples_leaf=4, min_samples_split=5, n_estimators=200; total time=   0.4s\n",
      "[CV] END bootstrap=False, class_weight=None, criterion=gini, max_depth=100, max_features=sqrt, min_samples_leaf=4, min_samples_split=5, n_estimators=200; total time=   0.4s\n",
      "[CV] END bootstrap=False, class_weight=None, criterion=gini, max_depth=100, max_features=sqrt, min_samples_leaf=4, min_samples_split=5, n_estimators=200; total time=   0.5s\n",
      "[CV] END bootstrap=False, class_weight=None, criterion=gini, max_depth=100, max_features=sqrt, min_samples_leaf=4, min_samples_split=5, n_estimators=200; total time=   0.4s\n",
      "[CV] END bootstrap=False, class_weight=None, criterion=entropy, max_depth=60, max_features=sqrt, min_samples_leaf=2, min_samples_split=5, n_estimators=600; total time=   1.2s\n",
      "[CV] END bootstrap=False, class_weight=None, criterion=entropy, max_depth=60, max_features=sqrt, min_samples_leaf=2, min_samples_split=5, n_estimators=600; total time=   1.1s\n",
      "[CV] END bootstrap=False, class_weight=None, criterion=entropy, max_depth=60, max_features=sqrt, min_samples_leaf=2, min_samples_split=5, n_estimators=600; total time=   1.2s\n",
      "[CV] END bootstrap=False, class_weight=None, criterion=entropy, max_depth=60, max_features=sqrt, min_samples_leaf=2, min_samples_split=5, n_estimators=600; total time=   1.3s\n",
      "[CV] END bootstrap=False, class_weight=None, criterion=entropy, max_depth=60, max_features=sqrt, min_samples_leaf=2, min_samples_split=5, n_estimators=600; total time=   1.1s\n",
      "[CV] END bootstrap=False, class_weight=balanced_subsample, criterion=gini, max_depth=100, max_features=sqrt, min_samples_leaf=2, min_samples_split=5, n_estimators=300; total time=   0.6s\n",
      "[CV] END bootstrap=False, class_weight=balanced_subsample, criterion=gini, max_depth=100, max_features=sqrt, min_samples_leaf=2, min_samples_split=5, n_estimators=300; total time=   0.6s\n",
      "[CV] END bootstrap=False, class_weight=balanced_subsample, criterion=gini, max_depth=100, max_features=sqrt, min_samples_leaf=2, min_samples_split=5, n_estimators=300; total time=   0.6s\n",
      "[CV] END bootstrap=False, class_weight=balanced_subsample, criterion=gini, max_depth=100, max_features=sqrt, min_samples_leaf=2, min_samples_split=5, n_estimators=300; total time=   0.6s\n",
      "[CV] END bootstrap=False, class_weight=balanced_subsample, criterion=gini, max_depth=100, max_features=sqrt, min_samples_leaf=2, min_samples_split=5, n_estimators=300; total time=   0.6s\n",
      "[CV] END bootstrap=False, class_weight=None, criterion=entropy, max_depth=50, max_features=sqrt, min_samples_leaf=2, min_samples_split=10, n_estimators=200; total time=   0.4s\n",
      "[CV] END bootstrap=False, class_weight=None, criterion=entropy, max_depth=50, max_features=sqrt, min_samples_leaf=2, min_samples_split=10, n_estimators=200; total time=   0.4s\n",
      "[CV] END bootstrap=False, class_weight=None, criterion=entropy, max_depth=50, max_features=sqrt, min_samples_leaf=2, min_samples_split=10, n_estimators=200; total time=   0.4s\n",
      "[CV] END bootstrap=False, class_weight=None, criterion=entropy, max_depth=50, max_features=sqrt, min_samples_leaf=2, min_samples_split=10, n_estimators=200; total time=   0.4s\n",
      "[CV] END bootstrap=False, class_weight=None, criterion=entropy, max_depth=50, max_features=sqrt, min_samples_leaf=2, min_samples_split=10, n_estimators=200; total time=   0.4s\n",
      "[CV] END bootstrap=True, class_weight=balanced_subsample, criterion=entropy, max_depth=100, max_features=sqrt, min_samples_leaf=4, min_samples_split=10, n_estimators=100; total time=   0.3s\n",
      "[CV] END bootstrap=True, class_weight=balanced_subsample, criterion=entropy, max_depth=100, max_features=sqrt, min_samples_leaf=4, min_samples_split=10, n_estimators=100; total time=   0.3s\n",
      "[CV] END bootstrap=True, class_weight=balanced_subsample, criterion=entropy, max_depth=100, max_features=sqrt, min_samples_leaf=4, min_samples_split=10, n_estimators=100; total time=   0.3s\n",
      "[CV] END bootstrap=True, class_weight=balanced_subsample, criterion=entropy, max_depth=100, max_features=sqrt, min_samples_leaf=4, min_samples_split=10, n_estimators=100; total time=   0.3s\n",
      "[CV] END bootstrap=True, class_weight=balanced_subsample, criterion=entropy, max_depth=100, max_features=sqrt, min_samples_leaf=4, min_samples_split=10, n_estimators=100; total time=   0.4s\n",
      "[CV] END bootstrap=False, class_weight=balanced, criterion=gini, max_depth=30, max_features=sqrt, min_samples_leaf=4, min_samples_split=2, n_estimators=500; total time=   1.1s\n",
      "[CV] END bootstrap=False, class_weight=balanced, criterion=gini, max_depth=30, max_features=sqrt, min_samples_leaf=4, min_samples_split=2, n_estimators=500; total time=   1.0s\n",
      "[CV] END bootstrap=False, class_weight=balanced, criterion=gini, max_depth=30, max_features=sqrt, min_samples_leaf=4, min_samples_split=2, n_estimators=500; total time=   1.0s\n",
      "[CV] END bootstrap=False, class_weight=balanced, criterion=gini, max_depth=30, max_features=sqrt, min_samples_leaf=4, min_samples_split=2, n_estimators=500; total time=   1.0s\n",
      "[CV] END bootstrap=False, class_weight=balanced, criterion=gini, max_depth=30, max_features=sqrt, min_samples_leaf=4, min_samples_split=2, n_estimators=500; total time=   1.0s\n",
      "[CV] END bootstrap=False, class_weight=balanced_subsample, criterion=gini, max_depth=70, max_features=sqrt, min_samples_leaf=1, min_samples_split=10, n_estimators=500; total time=   1.0s\n",
      "[CV] END bootstrap=False, class_weight=balanced_subsample, criterion=gini, max_depth=70, max_features=sqrt, min_samples_leaf=1, min_samples_split=10, n_estimators=500; total time=   1.0s\n",
      "[CV] END bootstrap=False, class_weight=balanced_subsample, criterion=gini, max_depth=70, max_features=sqrt, min_samples_leaf=1, min_samples_split=10, n_estimators=500; total time=   1.1s\n",
      "[CV] END bootstrap=False, class_weight=balanced_subsample, criterion=gini, max_depth=70, max_features=sqrt, min_samples_leaf=1, min_samples_split=10, n_estimators=500; total time=   1.1s\n",
      "[CV] END bootstrap=False, class_weight=balanced_subsample, criterion=gini, max_depth=70, max_features=sqrt, min_samples_leaf=1, min_samples_split=10, n_estimators=500; total time=   1.1s\n",
      "\n",
      "Best Parameters:  {'n_estimators': 500, 'min_samples_split': 2, 'min_samples_leaf': 1, 'max_features': 'sqrt', 'max_depth': 50, 'criterion': 'gini', 'class_weight': None, 'bootstrap': True}\n",
      "Best Scores:  0.9492090395480226\n"
     ]
    }
   ],
   "source": [
    "#RF - Random Search CV with Class Balancing\n",
    "from sklearn.model_selection import RandomizedSearchCV\n",
    "\n",
    "rf_random = RandomizedSearchCV(estimator = rf, param_distributions = parameters, n_iter = 100, cv = 5, verbose = 2)\n",
    "\n",
    "#Fit the random search model\n",
    "rf_random.fit(X_train, y_train)\n",
    "\n",
    "print(\"\\nBest Parameters: \", rf_random.best_params_)\n",
    "print(\"Best Scores: \", rf_random.best_score_)\n",
    "\n",
    "y_pred_random = rf_random.predict(X_test)\n"
   ]
  },
  {
   "cell_type": "code",
   "execution_count": 28,
   "id": "ca5b57f0",
   "metadata": {
    "execution": {
     "iopub.execute_input": "2024-08-28T20:19:35.232003Z",
     "iopub.status.busy": "2024-08-28T20:19:35.231512Z",
     "iopub.status.idle": "2024-08-28T20:19:35.263902Z",
     "shell.execute_reply": "2024-08-28T20:19:35.262237Z"
    },
    "papermill": {
     "duration": 0.109003,
     "end_time": "2024-08-28T20:19:35.266720",
     "exception": false,
     "start_time": "2024-08-28T20:19:35.157717",
     "status": "completed"
    },
    "tags": []
   },
   "outputs": [
    {
     "name": "stdout",
     "output_type": "stream",
     "text": [
      "\n",
      "RF - Accuracy: 94.667.\n",
      "RF - Precision: 0.947.\n",
      "RF - Recall: 0.947.\n",
      "RF - F1_Score: 0.947.\n",
      "\n",
      " Clasification Report:\n",
      "               precision    recall  f1-score   support\n",
      "\n",
      "           0       1.00      0.89      0.94        36\n",
      "           1       0.91      1.00      0.95        39\n",
      "\n",
      "    accuracy                           0.95        75\n",
      "   macro avg       0.95      0.94      0.95        75\n",
      "weighted avg       0.95      0.95      0.95        75\n",
      "\n",
      "\n",
      "     Actual  Predicted\n",
      "207       0          0\n",
      "82        0          1\n",
      "185       0          0\n",
      "370       1          1\n",
      "65        1          1\n"
     ]
    }
   ],
   "source": [
    "#Get accuracy score\n",
    "rf_acc_random = accuracy_score(y_test, y_pred_random)*100\n",
    "rf_pre_random = precision_score(y_test, y_pred_random, average='micro')\n",
    "rf_recall_random = recall_score(y_test, y_pred_random, average='micro')\n",
    "rf_f1_random = f1_score(y_test, y_pred_random, average='micro')\n",
    "\n",
    "print(\"\\nRF - Accuracy: {:.3f}.\".format(rf_acc_random))\n",
    "print(\"RF - Precision: {:.3f}.\".format(rf_pre_random))\n",
    "print(\"RF - Recall: {:.3f}.\".format(rf_recall_random))\n",
    "print(\"RF - F1_Score: {:.3f}.\".format(rf_f1_random))\n",
    "print('\\n Clasification Report:\\n', classification_report(y_test,y_pred_random))\n",
    "print()\n",
    "\n",
    "df_random = pd.DataFrame({'Actual': y_test, 'Predicted': y_pred_random.round(2)})\n",
    "print(df_random.head())"
   ]
  },
  {
   "cell_type": "code",
   "execution_count": 29,
   "id": "2606facf",
   "metadata": {
    "execution": {
     "iopub.execute_input": "2024-08-28T20:19:35.412110Z",
     "iopub.status.busy": "2024-08-28T20:19:35.411652Z",
     "iopub.status.idle": "2024-08-28T20:19:36.944618Z",
     "shell.execute_reply": "2024-08-28T20:19:36.943288Z"
    },
    "papermill": {
     "duration": 1.6095,
     "end_time": "2024-08-28T20:19:36.947652",
     "exception": false,
     "start_time": "2024-08-28T20:19:35.338152",
     "status": "completed"
    },
    "tags": []
   },
   "outputs": [
    {
     "name": "stdout",
     "output_type": "stream",
     "text": [
      "\n",
      "RF - Accuracy: 94.667.\n",
      "RF - Precision: 0.947.\n",
      "RF - Recall: 0.947.\n",
      "RF - F1_Score: 0.947.\n",
      "\n",
      " Clasification Report:\n",
      "               precision    recall  f1-score   support\n",
      "\n",
      "           0       1.00      0.89      0.94        36\n",
      "           1       0.91      1.00      0.95        39\n",
      "\n",
      "    accuracy                           0.95        75\n",
      "   macro avg       0.95      0.94      0.95        75\n",
      "weighted avg       0.95      0.95      0.95        75\n",
      "\n"
     ]
    }
   ],
   "source": [
    "#fit random forest model with best parameters\n",
    "best_rf_model = RandomForestClassifier(n_estimators= 800, min_samples_split= 5, min_samples_leaf= 2, max_features= 'sqrt', max_depth= 30, criterion='gini', class_weight=None, bootstrap=False)\n",
    "best_rf_model.fit(X_train, y_train)\n",
    "y_pred = best_rf_model.predict(X_test)\n",
    "\n",
    "# Get the accuracy score\n",
    "rf_t_acc = accuracy_score(y_test, y_pred)*100\n",
    "rf_t_pre = precision_score(y_test, y_pred, average='micro')\n",
    "rf_t_recall = recall_score(y_test, y_pred, average='micro')\n",
    "rf_t_f1_ = f1_score(y_test, y_pred, average='micro')\n",
    "\n",
    "print(\"\\nRF - Accuracy: {:.3f}.\".format(rf_t_acc))\n",
    "print(\"RF - Precision: {:.3f}.\".format(rf_t_pre))\n",
    "print(\"RF - Recall: {:.3f}.\".format(rf_t_recall))\n",
    "print(\"RF - F1_Score: {:.3f}.\".format(rf_t_f1_))\n",
    "print ('\\n Clasification Report:\\n', classification_report(y_test,y_pred))"
   ]
  },
  {
   "cell_type": "code",
   "execution_count": 30,
   "id": "1f215936",
   "metadata": {
    "execution": {
     "iopub.execute_input": "2024-08-28T20:19:37.090721Z",
     "iopub.status.busy": "2024-08-28T20:19:37.089815Z",
     "iopub.status.idle": "2024-08-28T20:19:37.099899Z",
     "shell.execute_reply": "2024-08-28T20:19:37.098766Z"
    },
    "papermill": {
     "duration": 0.085888,
     "end_time": "2024-08-28T20:19:37.103661",
     "exception": false,
     "start_time": "2024-08-28T20:19:37.017773",
     "status": "completed"
    },
    "tags": []
   },
   "outputs": [
    {
     "name": "stdout",
     "output_type": "stream",
     "text": [
      "      metric  Base RF model  Tuned RF model\n",
      "0   accuracy      94.666667       94.666667\n",
      "1  precision       0.946667        0.946667\n",
      "2     recall       0.946667        0.946667\n",
      "3         f1       0.946667        0.946667\n"
     ]
    }
   ],
   "source": [
    "#let's compare RF model results before and after tuning\n",
    "rf_metrics = {'metric': ['accuracy','precision','recall','f1'],\n",
    "          'Base RF model': [rf_acc,rf_pre, rf_recall, rf_f1],\n",
    "          'Tuned RF model': [rf_t_acc,rf_t_pre,rf_t_recall,rf_t_f1_]}\n",
    "\n",
    "rf_compare_df = pd.DataFrame(rf_metrics)\n",
    "print(rf_compare_df)"
   ]
  },
  {
   "cell_type": "markdown",
   "id": "5429401a",
   "metadata": {
    "papermill": {
     "duration": 0.071448,
     "end_time": "2024-08-28T20:19:37.247255",
     "exception": false,
     "start_time": "2024-08-28T20:19:37.175807",
     "status": "completed"
    },
    "tags": []
   },
   "source": [
    "# Identifying the important features"
   ]
  },
  {
   "cell_type": "code",
   "execution_count": 31,
   "id": "3ecad7af",
   "metadata": {
    "execution": {
     "iopub.execute_input": "2024-08-28T20:19:37.392648Z",
     "iopub.status.busy": "2024-08-28T20:19:37.391717Z",
     "iopub.status.idle": "2024-08-28T20:19:37.815864Z",
     "shell.execute_reply": "2024-08-28T20:19:37.814772Z"
    },
    "papermill": {
     "duration": 0.500571,
     "end_time": "2024-08-28T20:19:37.818547",
     "exception": false,
     "start_time": "2024-08-28T20:19:37.317976",
     "status": "completed"
    },
    "tags": []
   },
   "outputs": [
    {
     "name": "stdout",
     "output_type": "stream",
     "text": [
      "          Importance\n",
      "MR Delay    0.025533\n",
      "CDR         0.590567\n",
      "M/F         0.016525\n",
      "Age         0.030424\n",
      "EDUC        0.020387\n",
      "SES         0.017792\n",
      "MMSE        0.160043\n",
      "eTIV        0.036931\n",
      "nWBV        0.063406\n",
      "ASF         0.038393\n"
     ]
    },
    {
     "data": {
      "image/png": "[encoded data removed]",
      "text/plain": [
       "<Figure size 640x480 with 1 Axes>"
      ]
     },
     "metadata": {},
     "output_type": "display_data"
    }
   ],
   "source": [
    "importance = best_rf_model.feature_importances_\n",
    "importance_df = pd.DataFrame(importance, index=X_train.columns,columns=[\"Importance\"])\n",
    "print(importance_df)\n",
    "\n",
    "import matplotlib.pyplot as plt\n",
    "feature_imp = pd.Series(best_rf_model.feature_importances_, index=X_train.columns).sort_values(ascending=False)\n",
    "\n",
    "# Creating a bar plot, displaying only the top k features\n",
    "sns.barplot(x=feature_imp[:10], y=feature_imp.index[:10])\n",
    "# Add labels to your graph\n",
    "plt.xlabel('Feature Importance Score')\n",
    "plt.ylabel('Features')\n",
    "plt.title(\"Important Features\")\n",
    "plt.show()"
   ]
  },
  {
   "cell_type": "markdown",
   "id": "64dfd456",
   "metadata": {
    "papermill": {
     "duration": 0.070931,
     "end_time": "2024-08-28T20:19:37.961206",
     "exception": false,
     "start_time": "2024-08-28T20:19:37.890275",
     "status": "completed"
    },
    "tags": []
   },
   "source": [
    "# Model 2 - MLP Classifier with GridSearchCV\n",
    "This time, the data is also normalized to see what effects it has on model performance."
   ]
  },
  {
   "cell_type": "code",
   "execution_count": 32,
   "id": "8d6d7388",
   "metadata": {
    "execution": {
     "iopub.execute_input": "2024-08-28T20:19:38.106249Z",
     "iopub.status.busy": "2024-08-28T20:19:38.105793Z",
     "iopub.status.idle": "2024-08-28T20:19:38.113772Z",
     "shell.execute_reply": "2024-08-28T20:19:38.112341Z"
    },
    "papermill": {
     "duration": 0.083917,
     "end_time": "2024-08-28T20:19:38.116444",
     "exception": false,
     "start_time": "2024-08-28T20:19:38.032527",
     "status": "completed"
    },
    "tags": []
   },
   "outputs": [],
   "source": [
    "#setting IV and TV - for ANN and XGBoost\n",
    "X = data[['MR Delay','CDR','M/F', 'Age', 'EDUC','SES', 'MMSE', 'eTIV', 'nWBV', 'ASF']]\n",
    "y = data['Group']"
   ]
  },
  {
   "cell_type": "code",
   "execution_count": 33,
   "id": "09df3ac8",
   "metadata": {
    "execution": {
     "iopub.execute_input": "2024-08-28T20:19:38.262919Z",
     "iopub.status.busy": "2024-08-28T20:19:38.261740Z",
     "iopub.status.idle": "2024-08-28T20:19:38.272845Z",
     "shell.execute_reply": "2024-08-28T20:19:38.271370Z"
    },
    "papermill": {
     "duration": 0.087705,
     "end_time": "2024-08-28T20:19:38.275576",
     "exception": false,
     "start_time": "2024-08-28T20:19:38.187871",
     "status": "completed"
    },
    "tags": []
   },
   "outputs": [
    {
     "name": "stdout",
     "output_type": "stream",
     "text": [
      "Examples of X Normalised\n",
      " [[0.         0.         0.07905694 0.05835836 0.04880835 0.03874194\n",
      "  0.05080972 0.06876915 0.04946733 0.03815367]\n",
      " [0.02727152 0.         0.07905694 0.05902914 0.04880835 0.03874194\n",
      "  0.05645524 0.06935751 0.04840123 0.03785121]\n",
      " [0.         0.05530013 0.07905694 0.05030893 0.04183573 0.03874194\n",
      "  0.04328235 0.0580748  0.05231028 0.04519676]]\n"
     ]
    }
   ],
   "source": [
    "#normalize data\n",
    "from sklearn.preprocessing import normalize\n",
    "\n",
    "X = normalize(X, axis=0)\n",
    "print(\"Examples of X Normalised\\n\", X[:3])"
   ]
  },
  {
   "cell_type": "code",
   "execution_count": 34,
   "id": "fcdd1284",
   "metadata": {
    "execution": {
     "iopub.execute_input": "2024-08-28T20:19:38.423802Z",
     "iopub.status.busy": "2024-08-28T20:19:38.423351Z",
     "iopub.status.idle": "2024-08-28T20:19:38.431120Z",
     "shell.execute_reply": "2024-08-28T20:19:38.430151Z"
    },
    "papermill": {
     "duration": 0.084211,
     "end_time": "2024-08-28T20:19:38.433662",
     "exception": false,
     "start_time": "2024-08-28T20:19:38.349451",
     "status": "completed"
    },
    "tags": []
   },
   "outputs": [],
   "source": [
    "#data splitting\n",
    "X_train, X_test, y_train, y_test = train_test_split(X, y, test_size = 0.2, random_state = 1)"
   ]
  },
  {
   "cell_type": "code",
   "execution_count": 35,
   "id": "d95259f4",
   "metadata": {
    "execution": {
     "iopub.execute_input": "2024-08-28T20:19:38.580039Z",
     "iopub.status.busy": "2024-08-28T20:19:38.578903Z",
     "iopub.status.idle": "2024-08-28T20:19:41.168654Z",
     "shell.execute_reply": "2024-08-28T20:19:41.167032Z"
    },
    "papermill": {
     "duration": 2.668364,
     "end_time": "2024-08-28T20:19:41.173371",
     "exception": false,
     "start_time": "2024-08-28T20:19:38.505007",
     "status": "completed"
    },
    "tags": []
   },
   "outputs": [],
   "source": [
    "#Base Model Building - MLP with 1 layer\n",
    "from sklearn.neural_network import MLPClassifier\n",
    "mlp = MLPClassifier(max_iter=2000)\n",
    "\n",
    "mlp.fit(X_train,y_train)\n",
    "y_pred = mlp.predict(X_test)"
   ]
  },
  {
   "cell_type": "code",
   "execution_count": 36,
   "id": "ea46e784",
   "metadata": {
    "execution": {
     "iopub.execute_input": "2024-08-28T20:19:41.379225Z",
     "iopub.status.busy": "2024-08-28T20:19:41.378225Z",
     "iopub.status.idle": "2024-08-28T20:19:41.407818Z",
     "shell.execute_reply": "2024-08-28T20:19:41.406453Z"
    },
    "papermill": {
     "duration": 0.106864,
     "end_time": "2024-08-28T20:19:41.410662",
     "exception": false,
     "start_time": "2024-08-28T20:19:41.303798",
     "status": "completed"
    },
    "tags": []
   },
   "outputs": [
    {
     "name": "stdout",
     "output_type": "stream",
     "text": [
      "MLP - Accuracy: 94.667.\n",
      "MLP - Precision: 0.947.\n",
      "MLP - Recall: 0.947.\n",
      "MLP - F1_Score: 0.947.\n",
      "\n",
      "Confusion Matrix: \n",
      " [[32  4]\n",
      " [ 0 39]]\n",
      "\n",
      " Clasification Report:\n",
      "               precision    recall  f1-score   support\n",
      "\n",
      "           0       1.00      0.89      0.94        36\n",
      "           1       0.91      1.00      0.95        39\n",
      "\n",
      "    accuracy                           0.95        75\n",
      "   macro avg       0.95      0.94      0.95        75\n",
      "weighted avg       0.95      0.95      0.95        75\n",
      "\n"
     ]
    }
   ],
   "source": [
    "mlp_acc = accuracy_score(y_test, y_pred)*100\n",
    "mlp_pre = precision_score(y_test, y_pred, average='micro')\n",
    "mlp_recall = recall_score(y_test, y_pred, average='micro')\n",
    "mlp_f1 = f1_score(y_test, y_pred, average='micro')\n",
    "\n",
    "print(\"MLP - Accuracy: {:.3f}.\".format(mlp_acc))\n",
    "print(\"MLP - Precision: {:.3f}.\".format(mlp_pre))\n",
    "print(\"MLP - Recall: {:.3f}.\".format(mlp_recall))\n",
    "print(\"MLP - F1_Score: {:.3f}.\".format(mlp_f1))\n",
    "print(\"\\nConfusion Matrix: \\n\", confusion_matrix(y_test, y_pred))\n",
    "print ('\\n Clasification Report:\\n', classification_report(y_test,y_pred))"
   ]
  },
  {
   "cell_type": "code",
   "execution_count": 37,
   "id": "9489680a",
   "metadata": {
    "execution": {
     "iopub.execute_input": "2024-08-28T20:19:41.556318Z",
     "iopub.status.busy": "2024-08-28T20:19:41.555277Z",
     "iopub.status.idle": "2024-08-28T20:19:44.270514Z",
     "shell.execute_reply": "2024-08-28T20:19:44.268963Z"
    },
    "papermill": {
     "duration": 2.794502,
     "end_time": "2024-08-28T20:19:44.276592",
     "exception": false,
     "start_time": "2024-08-28T20:19:41.482090",
     "status": "completed"
    },
    "tags": []
   },
   "outputs": [
    {
     "name": "stdout",
     "output_type": "stream",
     "text": [
      "MLP - Accuracy: 94.667.\n",
      "MLP - Precision: 0.947.\n",
      "MLP - Recall: 0.947.\n",
      "MLP - F1_Score: 0.947.\n",
      "\n",
      "Confusion Matrix: \n",
      " [[32  4]\n",
      " [ 0 39]]\n",
      "\n",
      " Clasification Report:\n",
      "               precision    recall  f1-score   support\n",
      "\n",
      "           0       1.00      0.89      0.94        36\n",
      "           1       0.91      1.00      0.95        39\n",
      "\n",
      "    accuracy                           0.95        75\n",
      "   macro avg       0.95      0.94      0.95        75\n",
      "weighted avg       0.95      0.95      0.95        75\n",
      "\n"
     ]
    }
   ],
   "source": [
    "#Base Model Fitting - MLP with 2 Hidden Layers\n",
    "mlp2 = MLPClassifier(max_iter= 2000, hidden_layer_sizes=(200, 600)) #specfies the number of neurons in each layer\n",
    "\n",
    "mlp2.fit(X_train,y_train)\n",
    "y_pred2 = mlp2.predict(X_test)\n",
    "\n",
    "mlp2_acc = accuracy_score(y_test, y_pred2)*100\n",
    "mlp2_pre = precision_score(y_test, y_pred2, average='micro')\n",
    "mlp2_recall = recall_score(y_test, y_pred2, average='micro')\n",
    "mlp2_f1 = f1_score(y_test, y_pred2, average='micro')\n",
    "\n",
    "print(\"MLP - Accuracy: {:.3f}.\".format(mlp2_acc))\n",
    "print(\"MLP - Precision: {:.3f}.\".format(mlp2_pre))\n",
    "print(\"MLP - Recall: {:.3f}.\".format(mlp2_recall))\n",
    "print(\"MLP - F1_Score: {:.3f}.\".format(mlp2_f1))\n",
    "print(\"\\nConfusion Matrix: \\n\", confusion_matrix(y_test, y_pred2))\n",
    "print ('\\n Clasification Report:\\n', classification_report(y_test,y_pred2))"
   ]
  },
  {
   "cell_type": "code",
   "execution_count": 38,
   "id": "ab35689f",
   "metadata": {
    "execution": {
     "iopub.execute_input": "2024-08-28T20:19:44.467346Z",
     "iopub.status.busy": "2024-08-28T20:19:44.466848Z",
     "iopub.status.idle": "2024-08-28T20:20:02.154101Z",
     "shell.execute_reply": "2024-08-28T20:20:02.152536Z"
    },
    "papermill": {
     "duration": 17.765516,
     "end_time": "2024-08-28T20:20:02.158114",
     "exception": false,
     "start_time": "2024-08-28T20:19:44.392598",
     "status": "completed"
    },
    "tags": []
   },
   "outputs": [],
   "source": [
    "#no difference if it's 1 or 2 hidden layers\n",
    "#to keep it simple, we'll use 1 hidden layer MLP for hyperparameter tuning\n",
    "#This time with use SKLearn Tuner from Keras Tuner  \n",
    "\n",
    "from sklearn.neural_network import MLPClassifier\n",
    "import keras_tuner as kt\n",
    "from sklearn.model_selection import StratifiedKFold"
   ]
  },
  {
   "cell_type": "code",
   "execution_count": 39,
   "id": "1c1ad552",
   "metadata": {
    "execution": {
     "iopub.execute_input": "2024-08-28T20:20:02.315681Z",
     "iopub.status.busy": "2024-08-28T20:20:02.314641Z",
     "iopub.status.idle": "2024-08-28T20:21:19.148940Z",
     "shell.execute_reply": "2024-08-28T20:21:19.147261Z"
    },
    "papermill": {
     "duration": 76.918804,
     "end_time": "2024-08-28T20:21:19.154022",
     "exception": false,
     "start_time": "2024-08-28T20:20:02.235218",
     "status": "completed"
    },
    "tags": []
   },
   "outputs": [
    {
     "name": "stdout",
     "output_type": "stream",
     "text": [
      "Trial 3 Complete [00h 00m 01s]\n",
      "score: 0.945819209039548\n",
      "\n",
      "Best score So Far: 0.945819209039548\n",
      "Total elapsed time: 00h 01m 17s\n",
      "MLPClassifier(learning_rate='adaptive', max_iter=2500, random_state=4)\n"
     ]
    }
   ],
   "source": [
    "# Define the build_model function\n",
    "def build_model(hp):\n",
    "    model = MLPClassifier(\n",
    "        hidden_layer_sizes=(100,),  # Keeping it fixed as you may want to tune it later\n",
    "        max_iter=2500,\n",
    "        activation=hp.Choice('activation', ['identity', 'logistic', 'tanh', 'relu']),\n",
    "        solver=hp.Choice('solver', ['lbfgs', 'sgd', 'adam']),\n",
    "        learning_rate=hp.Choice('learning_rate', ['constant', 'invscaling', 'adaptive']),\n",
    "        random_state=hp.Int('random_state', min_value=0, max_value=10, step=1)\n",
    "    )\n",
    "    return model\n",
    "\n",
    "X_train = np.array(X_train) if not isinstance(X_train, (np.ndarray, pd.DataFrame)) else X_train\n",
    "y_train = np.array(y_train) if not isinstance(y_train, (np.ndarray, pd.DataFrame)) else y_train\n",
    "\n",
    "# Initialize the tuner\n",
    "tuner = kt.SklearnTuner(\n",
    "    oracle=kt.oracles.BayesianOptimizationOracle(\n",
    "        objective=kt.Objective('score', 'max'),\n",
    "        max_trials=3\n",
    "    ),\n",
    "    hypermodel=build_model,\n",
    "    cv=StratifiedKFold(5),\n",
    "    overwrite=True\n",
    ")\n",
    "\n",
    "# Perform the search\n",
    "tuner.search(X_train, y_train)\n",
    "\n",
    "# Get the best model\n",
    "best_model = tuner.get_best_models(num_models=1)[0]\n",
    "print(best_model)"
   ]
  },
  {
   "cell_type": "code",
   "execution_count": 40,
   "id": "26da13cb",
   "metadata": {
    "execution": {
     "iopub.execute_input": "2024-08-28T20:21:19.347667Z",
     "iopub.status.busy": "2024-08-28T20:21:19.347205Z",
     "iopub.status.idle": "2024-08-28T20:21:20.415788Z",
     "shell.execute_reply": "2024-08-28T20:21:20.414216Z"
    },
    "papermill": {
     "duration": 1.149377,
     "end_time": "2024-08-28T20:21:20.421057",
     "exception": false,
     "start_time": "2024-08-28T20:21:19.271680",
     "status": "completed"
    },
    "tags": []
   },
   "outputs": [
    {
     "name": "stdout",
     "output_type": "stream",
     "text": [
      "MLP - Accuracy: 90.667.\n",
      "MLP - Precision: 0.907.\n",
      "MLP - Recall: 0.907.\n",
      "MLP - F1_Score: 0.907.\n",
      "\n",
      "Confusion Matrix: \n",
      " [[32  4]\n",
      " [ 3 36]]\n",
      "\n",
      " Clasification Report:\n",
      "               precision    recall  f1-score   support\n",
      "\n",
      "           0       0.91      0.89      0.90        36\n",
      "           1       0.90      0.92      0.91        39\n",
      "\n",
      "    accuracy                           0.91        75\n",
      "   macro avg       0.91      0.91      0.91        75\n",
      "weighted avg       0.91      0.91      0.91        75\n",
      "\n"
     ]
    }
   ],
   "source": [
    "#Tuned MLP-ANN Classifier with best parameters\n",
    "best_mlp_model = MLPClassifier(learning_rate='invscaling', max_iter=2500, random_state=8,solver='lbfgs')\n",
    "\n",
    "best_mlp_model.fit(X_train,y_train)\n",
    "y_pred_best = best_mlp_model.predict(X_test)\n",
    "\n",
    "mlp_t_acc = accuracy_score(y_test, y_pred_best)*100\n",
    "mlp_t_pre = precision_score(y_test, y_pred_best, average='micro')\n",
    "mlp_t_recall = recall_score(y_test, y_pred_best, average='micro')\n",
    "mlp_t_f1 = f1_score(y_test, y_pred_best, average='micro')\n",
    "\n",
    "print(\"MLP - Accuracy: {:.3f}.\".format(mlp_t_acc))\n",
    "print(\"MLP - Precision: {:.3f}.\".format(mlp_t_pre))\n",
    "print(\"MLP - Recall: {:.3f}.\".format(mlp_t_recall))\n",
    "print(\"MLP - F1_Score: {:.3f}.\".format(mlp_t_f1))\n",
    "print(\"\\nConfusion Matrix: \\n\", confusion_matrix(y_test, y_pred_best))\n",
    "print('\\n Clasification Report:\\n', classification_report(y_test,y_pred_best))"
   ]
  },
  {
   "cell_type": "code",
   "execution_count": 41,
   "id": "644034a6",
   "metadata": {
    "execution": {
     "iopub.execute_input": "2024-08-28T20:21:20.608449Z",
     "iopub.status.busy": "2024-08-28T20:21:20.607958Z",
     "iopub.status.idle": "2024-08-28T20:21:20.618972Z",
     "shell.execute_reply": "2024-08-28T20:21:20.617608Z"
    },
    "papermill": {
     "duration": 0.087191,
     "end_time": "2024-08-28T20:21:20.621729",
     "exception": false,
     "start_time": "2024-08-28T20:21:20.534538",
     "status": "completed"
    },
    "tags": []
   },
   "outputs": [
    {
     "name": "stdout",
     "output_type": "stream",
     "text": [
      "      metric  Base MLP model  Tuned MLP model\n",
      "0   accuracy       94.666667        90.666667\n",
      "1  precision        0.946667         0.906667\n",
      "2     recall        0.946667         0.906667\n",
      "3         f1        0.946667         0.906667\n"
     ]
    }
   ],
   "source": [
    "#let's compare MLP-ANN model results before and after tuning\n",
    "mlp_metrics = {'metric': ['accuracy','precision','recall','f1'],\n",
    "          'Base MLP model': [mlp_acc,mlp_pre, mlp_recall, mlp_f1],\n",
    "          'Tuned MLP model': [mlp_t_acc,mlp_t_pre,mlp_t_recall,mlp_t_f1]}\n",
    "\n",
    "mlp_compare_df = pd.DataFrame(mlp_metrics)\n",
    "print(mlp_compare_df)"
   ]
  },
  {
   "cell_type": "markdown",
   "id": "dcd1582b",
   "metadata": {
    "papermill": {
     "duration": 0.072079,
     "end_time": "2024-08-28T20:21:20.767686",
     "exception": false,
     "start_time": "2024-08-28T20:21:20.695607",
     "status": "completed"
    },
    "tags": []
   },
   "source": [
    "# Model 3 - XGBoost with GridSearchCV"
   ]
  },
  {
   "cell_type": "code",
   "execution_count": 42,
   "id": "41e7e723",
   "metadata": {
    "execution": {
     "iopub.execute_input": "2024-08-28T20:21:20.917392Z",
     "iopub.status.busy": "2024-08-28T20:21:20.916909Z",
     "iopub.status.idle": "2024-08-28T20:21:20.925647Z",
     "shell.execute_reply": "2024-08-28T20:21:20.924244Z"
    },
    "papermill": {
     "duration": 0.088478,
     "end_time": "2024-08-28T20:21:20.928471",
     "exception": false,
     "start_time": "2024-08-28T20:21:20.839993",
     "status": "completed"
    },
    "tags": []
   },
   "outputs": [],
   "source": [
    "X = data[['MR Delay','CDR','M/F', 'Age', 'EDUC','SES', 'MMSE', 'eTIV', 'nWBV', 'ASF']]\n",
    "y = data['Group']"
   ]
  },
  {
   "cell_type": "code",
   "execution_count": 43,
   "id": "fba902ad",
   "metadata": {
    "execution": {
     "iopub.execute_input": "2024-08-28T20:21:21.076094Z",
     "iopub.status.busy": "2024-08-28T20:21:21.075601Z",
     "iopub.status.idle": "2024-08-28T20:21:21.085285Z",
     "shell.execute_reply": "2024-08-28T20:21:21.083715Z"
    },
    "papermill": {
     "duration": 0.08779,
     "end_time": "2024-08-28T20:21:21.088763",
     "exception": false,
     "start_time": "2024-08-28T20:21:21.000973",
     "status": "completed"
    },
    "tags": []
   },
   "outputs": [],
   "source": [
    "X_train, X_test, y_train, y_test = train_test_split(X, y, test_size = 0.2, random_state = 1)"
   ]
  },
  {
   "cell_type": "code",
   "execution_count": 44,
   "id": "d39c1205",
   "metadata": {
    "execution": {
     "iopub.execute_input": "2024-08-28T20:21:21.238276Z",
     "iopub.status.busy": "2024-08-28T20:21:21.237206Z",
     "iopub.status.idle": "2024-08-28T20:21:21.249510Z",
     "shell.execute_reply": "2024-08-28T20:21:21.247483Z"
    },
    "papermill": {
     "duration": 0.091757,
     "end_time": "2024-08-28T20:21:21.252711",
     "exception": false,
     "start_time": "2024-08-28T20:21:21.160954",
     "status": "completed"
    },
    "tags": []
   },
   "outputs": [
    {
     "name": "stdout",
     "output_type": "stream",
     "text": [
      "Examples of X Normalised\n",
      " [[0.         0.         0.07905694 0.05835836 0.04880835 0.03874194\n",
      "  0.05080972 0.06876915 0.04946733 0.03815367]\n",
      " [0.02727152 0.         0.07905694 0.05902914 0.04880835 0.03874194\n",
      "  0.05645524 0.06935751 0.04840123 0.03785121]\n",
      " [0.         0.05530013 0.07905694 0.05030893 0.04183573 0.03874194\n",
      "  0.04328235 0.0580748  0.05231028 0.04519676]]\n"
     ]
    }
   ],
   "source": [
    "#normalize data again\n",
    "from sklearn.preprocessing import normalize\n",
    "X = normalize(X, axis=0)\n",
    "print(\"Examples of X Normalised\\n\", X[:3])"
   ]
  },
  {
   "cell_type": "code",
   "execution_count": 45,
   "id": "3404e4a0",
   "metadata": {
    "execution": {
     "iopub.execute_input": "2024-08-28T20:21:21.411914Z",
     "iopub.status.busy": "2024-08-28T20:21:21.410078Z",
     "iopub.status.idle": "2024-08-28T20:21:21.419110Z",
     "shell.execute_reply": "2024-08-28T20:21:21.417561Z"
    },
    "papermill": {
     "duration": 0.094099,
     "end_time": "2024-08-28T20:21:21.422748",
     "exception": false,
     "start_time": "2024-08-28T20:21:21.328649",
     "status": "completed"
    },
    "tags": []
   },
   "outputs": [],
   "source": [
    "X_train = np.array(X_train) if not isinstance(X_train, (np.ndarray, pd.DataFrame)) else X_train\n",
    "y_train = np.array(y_train) if not isinstance(y_train, (np.ndarray, pd.DataFrame)) else y_train"
   ]
  },
  {
   "cell_type": "code",
   "execution_count": 46,
   "id": "95ea37fe",
   "metadata": {
    "execution": {
     "iopub.execute_input": "2024-08-28T20:21:21.588779Z",
     "iopub.status.busy": "2024-08-28T20:21:21.588223Z",
     "iopub.status.idle": "2024-08-28T20:21:21.943586Z",
     "shell.execute_reply": "2024-08-28T20:21:21.941965Z"
    },
    "papermill": {
     "duration": 0.441531,
     "end_time": "2024-08-28T20:21:21.947084",
     "exception": false,
     "start_time": "2024-08-28T20:21:21.505553",
     "status": "completed"
    },
    "tags": []
   },
   "outputs": [
    {
     "name": "stdout",
     "output_type": "stream",
     "text": [
      "XGB - Accuracy: 90.667.\n",
      "XGB - Precision: 0.907.\n",
      "XGB - Recall: 0.907.\n",
      "XGB - F1_Score: 0.907.\n"
     ]
    }
   ],
   "source": [
    "#base model fitting\n",
    "from xgboost import XGBClassifier\n",
    "XGB = XGBClassifier()\n",
    "\n",
    "XGB.fit(X_train,y_train)\n",
    "y_pred = XGB.predict(X_test)\n",
    "\n",
    "# Get the accuracy score\n",
    "XGB_acc = accuracy_score(y_test, y_pred)*100\n",
    "XGB_pre = precision_score(y_test, y_pred, average='micro')\n",
    "XGB_recall = recall_score(y_test, y_pred, average='micro')\n",
    "XGB_f1 = f1_score(y_test, y_pred, average='micro')\n",
    "\n",
    "print(\"XGB - Accuracy: {:.3f}.\".format(XGB_acc))\n",
    "print(\"XGB - Precision: {:.3f}.\".format(XGB_pre))\n",
    "print(\"XGB - Recall: {:.3f}.\".format(XGB_recall))\n",
    "print(\"XGB - F1_Score: {:.3f}.\".format(XGB_f1))"
   ]
  },
  {
   "cell_type": "code",
   "execution_count": 47,
   "id": "2a329d3c",
   "metadata": {
    "execution": {
     "iopub.execute_input": "2024-08-28T20:21:22.110084Z",
     "iopub.status.busy": "2024-08-28T20:21:22.109525Z",
     "iopub.status.idle": "2024-08-28T20:27:49.218859Z",
     "shell.execute_reply": "2024-08-28T20:27:49.217270Z"
    },
    "papermill": {
     "duration": 387.261925,
     "end_time": "2024-08-28T20:27:49.290702",
     "exception": false,
     "start_time": "2024-08-28T20:21:22.028777",
     "status": "completed"
    },
    "tags": []
   },
   "outputs": [
    {
     "name": "stdout",
     "output_type": "stream",
     "text": [
      "Fitting 5 folds for each of 4800 candidates, totalling 24000 fits\n",
      "{'colsample_bytree': 0.6, 'gamma': 0.2, 'max_depth': 5, 'min_child_weight': 1, 'reg_alpha': 0.005, 'subsample': 0.9}\n",
      "0.9525988700564971\n",
      "XGB - Accuracy: 0.933.\n",
      "XGB - Precision: 0.933.\n",
      "XGB - Recall: 0.933.\n",
      "XGB - F1_Score: 0.933.\n"
     ]
    }
   ],
   "source": [
    "#hyperparameter tuning with GridSearchCV\n",
    "from sklearn.model_selection import GridSearchCV\n",
    "\n",
    "parameters = {\n",
    "    'max_depth':range(3,10,2),\n",
    "    'min_child_weight':range(1,6,2),\n",
    "    'gamma':[i/10.0 for i in range(0,5)],\n",
    "    'subsample':[i/10.0 for i in range(6,10)],\n",
    "    'colsample_bytree':[i/10.0 for i in range(6,10)],\n",
    "    'reg_alpha':[0, 0.001, 0.005, 0.01, 0.05],\n",
    "}\n",
    "\n",
    "XGB_SE = GridSearchCV(estimator=XGB, param_grid=parameters, scoring='accuracy', cv=5, n_jobs=-1, verbose=1)\n",
    "XGB_SE.fit(X_train,y_train)\n",
    "best_parameters = XGB_SE.best_params_\n",
    "best_score = XGB_SE.best_score_\n",
    "print(best_parameters)\n",
    "print(best_score)\n",
    "\n",
    "#test acc\n",
    "y_pred = XGB_SE.predict(X_test)\n",
    "\n",
    "# Get the accuracy score\n",
    "XGB_acc = accuracy_score(y_test, y_pred)\n",
    "XGB_pre = precision_score(y_test, y_pred, average='micro')\n",
    "XGB_recall = recall_score(y_test, y_pred, average='micro')\n",
    "XGB_f1 = f1_score(y_test, y_pred, average='micro')\n",
    "\n",
    "print(\"XGB - Accuracy: {:.3f}.\".format(XGB_acc))\n",
    "print(\"XGB - Precision: {:.3f}.\".format(XGB_pre))\n",
    "print(\"XGB - Recall: {:.3f}.\".format(XGB_recall))\n",
    "print(\"XGB - F1_Score: {:.3f}.\".format(XGB_f1))"
   ]
  },
  {
   "cell_type": "code",
   "execution_count": 48,
   "id": "9689ab36",
   "metadata": {
    "execution": {
     "iopub.execute_input": "2024-08-28T20:27:49.438612Z",
     "iopub.status.busy": "2024-08-28T20:27:49.437304Z",
     "iopub.status.idle": "2024-08-28T20:27:49.516621Z",
     "shell.execute_reply": "2024-08-28T20:27:49.515558Z"
    },
    "papermill": {
     "duration": 0.157166,
     "end_time": "2024-08-28T20:27:49.519692",
     "exception": false,
     "start_time": "2024-08-28T20:27:49.362526",
     "status": "completed"
    },
    "tags": []
   },
   "outputs": [
    {
     "name": "stdout",
     "output_type": "stream",
     "text": [
      "XGB - Accuracy: 93.333.\n",
      "XGB - Precision: 0.933.\n",
      "XGB - Recall: 0.933.\n",
      "XGB - F1_Score: 0.933.\n"
     ]
    }
   ],
   "source": [
    "#let's fit the best parameters to the XGBoost model\n",
    "best_XGB_model = XGBClassifier(colsample_bytree= 0.6, gamma= 0.2, max_depth= 5, min_child_weight= 1, reg_alpha= 0.005, subsample= 0.9)\n",
    "\n",
    "best_XGB_model.fit(X_train,y_train)\n",
    "y_pred_best = best_XGB_model.predict(X_test)\n",
    "\n",
    "# Get the accuracy score\n",
    "XGB_t_acc = accuracy_score(y_test, y_pred_best)*100\n",
    "XGB_t_pre = precision_score(y_test, y_pred_best, average='micro')\n",
    "XGB_t_recall = recall_score(y_test, y_pred_best, average='micro')\n",
    "XGB_t_f1 = f1_score(y_test, y_pred_best, average='micro')\n",
    "\n",
    "print(\"XGB - Accuracy: {:.3f}.\".format(XGB_t_acc))\n",
    "print(\"XGB - Precision: {:.3f}.\".format(XGB_t_pre))\n",
    "print(\"XGB - Recall: {:.3f}.\".format(XGB_t_recall))\n",
    "print(\"XGB - F1_Score: {:.3f}.\".format(XGB_t_f1))"
   ]
  },
  {
   "cell_type": "code",
   "execution_count": 49,
   "id": "9d7714bc",
   "metadata": {
    "execution": {
     "iopub.execute_input": "2024-08-28T20:27:49.669469Z",
     "iopub.status.busy": "2024-08-28T20:27:49.668021Z",
     "iopub.status.idle": "2024-08-28T20:27:49.679684Z",
     "shell.execute_reply": "2024-08-28T20:27:49.678453Z"
    },
    "papermill": {
     "duration": 0.088295,
     "end_time": "2024-08-28T20:27:49.682313",
     "exception": false,
     "start_time": "2024-08-28T20:27:49.594018",
     "status": "completed"
    },
    "tags": []
   },
   "outputs": [
    {
     "name": "stdout",
     "output_type": "stream",
     "text": [
      "      metric  Base XGB model  Tuned XBG model\n",
      "0   accuracy        0.933333        93.333333\n",
      "1  precision        0.933333         0.933333\n",
      "2     recall        0.933333         0.933333\n",
      "3         f1        0.933333         0.933333\n"
     ]
    }
   ],
   "source": [
    "#let's compare XG-Boost model results before and after tuning\n",
    "xgb_metrics = {'metric': ['accuracy','precision','recall','f1'],\n",
    "          'Base XGB model': [XGB_acc,XGB_pre, XGB_recall, XGB_f1],\n",
    "          'Tuned XBG model': [XGB_t_acc,XGB_t_pre,XGB_t_recall,XGB_t_f1]}\n",
    "\n",
    "xgb_compare_df = pd.DataFrame(xgb_metrics)\n",
    "print(xgb_compare_df)"
   ]
  },
  {
   "cell_type": "markdown",
   "id": "4f32e777",
   "metadata": {
    "papermill": {
     "duration": 0.072631,
     "end_time": "2024-08-28T20:27:49.830198",
     "exception": false,
     "start_time": "2024-08-28T20:27:49.757567",
     "status": "completed"
    },
    "tags": []
   },
   "source": [
    "# Summary of Models"
   ]
  },
  {
   "cell_type": "code",
   "execution_count": 50,
   "id": "d87b6fd9",
   "metadata": {
    "execution": {
     "iopub.execute_input": "2024-08-28T20:27:49.977720Z",
     "iopub.status.busy": "2024-08-28T20:27:49.977214Z",
     "iopub.status.idle": "2024-08-28T20:27:50.092887Z",
     "shell.execute_reply": "2024-08-28T20:27:50.091642Z"
    },
    "papermill": {
     "duration": 0.192776,
     "end_time": "2024-08-28T20:27:50.095602",
     "exception": false,
     "start_time": "2024-08-28T20:27:49.902826",
     "status": "completed"
    },
    "tags": []
   },
   "outputs": [
    {
     "data": {
      "text/html": [
       "<style type=\"text/css\">\n",
       "</style>\n",
       "<table id=\"T_21a7a\">\n",
       "  <caption>Best Model Summary</caption>\n",
       "  <thead>\n",
       "    <tr>\n",
       "      <th class=\"blank level0\" >&nbsp;</th>\n",
       "      <th id=\"T_21a7a_level0_col0\" class=\"col_heading level0 col0\" >Model</th>\n",
       "      <th id=\"T_21a7a_level0_col1\" class=\"col_heading level0 col1\" >Accuracy</th>\n",
       "    </tr>\n",
       "  </thead>\n",
       "  <tbody>\n",
       "    <tr>\n",
       "      <th id=\"T_21a7a_level0_row0\" class=\"row_heading level0 row0\" >0</th>\n",
       "      <td id=\"T_21a7a_row0_col0\" class=\"data row0 col0\" >Random Forest</td>\n",
       "      <td id=\"T_21a7a_row0_col1\" class=\"data row0 col1\" >94.666667</td>\n",
       "    </tr>\n",
       "    <tr>\n",
       "      <th id=\"T_21a7a_level0_row1\" class=\"row_heading level0 row1\" >1</th>\n",
       "      <td id=\"T_21a7a_row1_col0\" class=\"data row1 col0\" >MLP Classifier</td>\n",
       "      <td id=\"T_21a7a_row1_col1\" class=\"data row1 col1\" >90.666667</td>\n",
       "    </tr>\n",
       "    <tr>\n",
       "      <th id=\"T_21a7a_level0_row2\" class=\"row_heading level0 row2\" >2</th>\n",
       "      <td id=\"T_21a7a_row2_col0\" class=\"data row2 col0\" >XGBoost</td>\n",
       "      <td id=\"T_21a7a_row2_col1\" class=\"data row2 col1\" >93.333333</td>\n",
       "    </tr>\n",
       "  </tbody>\n",
       "</table>\n"
      ],
      "text/plain": [
       "<pandas.io.formats.style.Styler at 0x785f8c70ed10>"
      ]
     },
     "execution_count": 50,
     "metadata": {},
     "output_type": "execute_result"
    }
   ],
   "source": [
    "results = [['Random Forest', rf_t_acc], ['MLP Classifier', mlp_t_acc], ['XGBoost', XGB_t_acc]]\n",
    "\n",
    "# Create the pandas DataFrame\n",
    "df = pd.DataFrame(results, columns=['Model', 'Accuracy'])\n",
    "\n",
    "# print dataframe.\n",
    "df.style.set_caption('Best Model Summary')"
   ]
  }
 ],
 "metadata": {
  "kaggle": {
   "accelerator": "none",
   "dataSources": [
    {
     "datasetId": 1980,
     "sourceId": 3398,
     "sourceType": "datasetVersion"
    }
   ],
   "dockerImageVersionId": 30761,
   "isGpuEnabled": false,
   "isInternetEnabled": false,
   "language": "python",
   "sourceType": "notebook"
  },
  "kernelspec": {
   "display_name": "Python 3",
   "language": "python",
   "name": "python3"
  },
  "language_info": {
   "codemirror_mode": {
    "name": "ipython",
    "version": 3
   },
   "file_extension": ".py",
   "mimetype": "text/x-python",
   "name": "python",
   "nbconvert_exporter": "python",
   "pygments_lexer": "ipython3",
   "version": "3.10.14"
  },
  "papermill": {
   "default_parameters": {},
   "duration": 1076.578979,
   "end_time": "2024-08-28T20:27:52.793035",
   "environment_variables": {},
   "exception": null,
   "input_path": "__notebook__.ipynb",
   "output_path": "__notebook__.ipynb",
   "parameters": {},
   "start_time": "2024-08-28T20:09:56.214056",
   "version": "2.6.0"
  }
 },
 "nbformat": 4,
 "nbformat_minor": 5
}
